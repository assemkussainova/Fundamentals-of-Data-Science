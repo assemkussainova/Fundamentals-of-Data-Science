{
 "cells": [
  {
   "cell_type": "markdown",
   "metadata": {
    "colab_type": "text",
    "id": "XcmZHayeKUTA"
   },
   "source": [
    "# Part 1\n",
    "## Review on Linear Algebra in Python\n",
    "In this section of the notebook we would like to introduce you to the linear algebra library in python. For a more detailed overview of each covered concept please read this https://www.deeplearningbook.org/contents/linear_algebra.html\n"
   ]
  },
  {
   "cell_type": "code",
   "execution_count": 1,
   "metadata": {
    "colab": {},
    "colab_type": "code",
    "id": "-R_bzA6pISlw"
   },
   "outputs": [],
   "source": [
    "import numpy as np\n",
    "import numpy.linalg as la\n",
    "import matplotlib.pyplot as plt\n",
    "import pandas as pd"
   ]
  },
  {
   "cell_type": "code",
   "execution_count": 5,
   "metadata": {
    "colab": {
     "base_uri": "https://localhost:8080/",
     "height": 323
    },
    "colab_type": "code",
    "executionInfo": {
     "elapsed": 720,
     "status": "ok",
     "timestamp": 1572056350864,
     "user": {
      "displayName": "Yerbolat Khassanov",
      "photoUrl": "https://lh3.googleusercontent.com/a-/AAuE7mBkivKmNmtWRUqWz_rxy2pkQEWUWd42EDr6k6T38g=s64",
      "userId": "00538050044515419094"
     },
     "user_tz": -360
    },
    "id": "SZecZYIwIdfV",
    "outputId": "af9e05ef-8107-44b2-d54a-0f69b137144b"
   },
   "outputs": [
    {
     "name": "stdout",
     "output_type": "stream",
     "text": [
      "[[ 3  4  5]\n",
      " [ 6  8 10]\n",
      " [ 9 12 15]]\n"
     ]
    }
   ],
   "source": [
    "# Here is a glimpse of how we can create matrices\n",
    "A = np.array([[1, 2, 3], [3, 4, 5]])\n",
    "B = np.array([[0, 1],[3, 5], [3, 1]])\n",
    "v = np.array([5, 6, 7])\n",
    "C = np.vstack((A, v))\n",
    "I = np.eye(3) # an identity matrix\n",
    "D = np.array([[-2, 1, 0], [1, -2, 1],[0, 1, -2]]) # a symmetrical matrix\n",
    "Q = np.array([[2, -2, 1],[1, 2, 2],[2, 1, -2]])*1/3 # an orthogonal matrix\n",
    "\n",
    "e = np.array([1, 5])\n",
    "b1 = np.array([[1, 1], [2, 2], [3, 3]])\n",
    "a1 = np.array([[1, 2, 3], [2, 2, 2]])\n",
    "c1 =\n",
    "print(np.matmul(b1, a1))"
   ]
  },
  {
   "cell_type": "code",
   "execution_count": 54,
   "metadata": {
    "colab": {
     "base_uri": "https://localhost:8080/",
     "height": 102
    },
    "colab_type": "code",
    "executionInfo": {
     "elapsed": 706,
     "status": "ok",
     "timestamp": 1572056355744,
     "user": {
      "displayName": "Yerbolat Khassanov",
      "photoUrl": "https://lh3.googleusercontent.com/a-/AAuE7mBkivKmNmtWRUqWz_rxy2pkQEWUWd42EDr6k6T38g=s64",
      "userId": "00538050044515419094"
     },
     "user_tz": -360
    },
    "id": "TAeMGegLhvEp",
    "outputId": "2ae9e0a2-ab62-4d50-ee4c-b015e1494df9"
   },
   "outputs": [
    {
     "name": "stdout",
     "output_type": "stream",
     "text": [
      "(2, 3)\n",
      "[[1 3]\n",
      " [2 4]\n",
      " [3 5]]\n",
      "(3, 2)\n"
     ]
    }
   ],
   "source": [
    "# Matrix transpose\n",
    "print(A.shape)\n",
    "print(A.T)\n",
    "print(A.T.shape)"
   ]
  },
  {
   "cell_type": "code",
   "execution_count": 55,
   "metadata": {
    "colab": {
     "base_uri": "https://localhost:8080/",
     "height": 187
    },
    "colab_type": "code",
    "executionInfo": {
     "elapsed": 692,
     "status": "ok",
     "timestamp": 1572056365478,
     "user": {
      "displayName": "Yerbolat Khassanov",
      "photoUrl": "https://lh3.googleusercontent.com/a-/AAuE7mBkivKmNmtWRUqWz_rxy2pkQEWUWd42EDr6k6T38g=s64",
      "userId": "00538050044515419094"
     },
     "user_tz": -360
    },
    "id": "PXxuCUqFZgPF",
    "outputId": "d2e45b99-faaa-47d1-a743-f5b9c1d2638e"
   },
   "outputs": [
    {
     "name": "stdout",
     "output_type": "stream",
     "text": [
      "[[ 5 12 21]\n",
      " [15 24 35]]\n",
      "[[ 5 12 21]\n",
      " [15 24 35]]\n",
      "[[ 1  4  9]\n",
      " [ 9 16 25]]\n",
      "[[ 1  4  9]\n",
      " [ 9 16 25]]\n",
      "[[ 2  4  6]\n",
      " [ 6  8 10]]\n"
     ]
    }
   ],
   "source": [
    "# Elementwise multiplication\n",
    "print(np.multiply(A,v))\n",
    "print(A*v)\n",
    "print(np.multiply(A,A))\n",
    "print(A**2)\n",
    "print(A*2)"
   ]
  },
  {
   "cell_type": "code",
   "execution_count": 56,
   "metadata": {
    "colab": {
     "base_uri": "https://localhost:8080/",
     "height": 51
    },
    "colab_type": "code",
    "executionInfo": {
     "elapsed": 718,
     "status": "ok",
     "timestamp": 1572056429135,
     "user": {
      "displayName": "Yerbolat Khassanov",
      "photoUrl": "https://lh3.googleusercontent.com/a-/AAuE7mBkivKmNmtWRUqWz_rxy2pkQEWUWd42EDr6k6T38g=s64",
      "userId": "00538050044515419094"
     },
     "user_tz": -360
    },
    "id": "xdL8BAr1i1jn",
    "outputId": "95d4484a-60b4-4cd5-c6c5-2ae60cbd28d1"
   },
   "outputs": [
    {
     "name": "stdout",
     "output_type": "stream",
     "text": [
      "(2, 3) (3,)\n",
      "[38 74]\n"
     ]
    }
   ],
   "source": [
    "# Dot product between a matrix and a vector.\n",
    "print(A.shape, v.shape)\n",
    "print(A.dot(v))"
   ]
  },
  {
   "cell_type": "code",
   "execution_count": 57,
   "metadata": {
    "colab": {
     "base_uri": "https://localhost:8080/",
     "height": 299
    },
    "colab_type": "code",
    "executionInfo": {
     "elapsed": 716,
     "status": "error",
     "timestamp": 1572056512429,
     "user": {
      "displayName": "Yerbolat Khassanov",
      "photoUrl": "https://lh3.googleusercontent.com/a-/AAuE7mBkivKmNmtWRUqWz_rxy2pkQEWUWd42EDr6k6T38g=s64",
      "userId": "00538050044515419094"
     },
     "user_tz": -360
    },
    "id": "rPdjONTHLPw2",
    "outputId": "f295d768-caf0-40f4-93ea-77f37109a180"
   },
   "outputs": [
    {
     "name": "stdout",
     "output_type": "stream",
     "text": [
      "[[14 26]\n",
      " [26 50]\n",
      " [38 74]]\n",
      "[[14 26]\n",
      " [26 50]\n",
      " [38 74]]\n",
      "[[14 26]\n",
      " [26 50]\n",
      " [38 74]]\n"
     ]
    }
   ],
   "source": [
    "# Matrix multiplication: dot product between two matrices\n",
    "# Remember, the dimensions of the matrices must be aligned\n",
    "# In the following example, the dimension of C is 3X3 and A is 2X3, \n",
    "# to multiply the matrices we need to transpose A first.\n",
    "print(C.dot(A.T))\n",
    "print(np.matmul(C, A.T))\n",
    "# If the shapes of the matrices are not aligned, then python will make sure to complain\n",
    "print(C.dot(A.T))"
   ]
  },
  {
   "cell_type": "code",
   "execution_count": 58,
   "metadata": {
    "colab": {
     "base_uri": "https://localhost:8080/",
     "height": 391
    },
    "colab_type": "code",
    "executionInfo": {
     "elapsed": 712,
     "status": "error",
     "timestamp": 1572056616309,
     "user": {
      "displayName": "Yerbolat Khassanov",
      "photoUrl": "https://lh3.googleusercontent.com/a-/AAuE7mBkivKmNmtWRUqWz_rxy2pkQEWUWd42EDr6k6T38g=s64",
      "userId": "00538050044515419094"
     },
     "user_tz": -360
    },
    "id": "iDiZyCqBi7RO",
    "outputId": "9c8c4e19-aa47-44e3-c7b5-8972eb336cdb"
   },
   "outputs": [
    {
     "name": "stdout",
     "output_type": "stream",
     "text": [
      "1.6875389974302314e-15\n",
      "[[-1.18515780e+15  2.37031559e+15 -1.18515780e+15]\n",
      " [ 2.37031559e+15 -4.74063119e+15  2.37031559e+15]\n",
      " [-1.18515780e+15  2.37031559e+15 -1.18515780e+15]]\n"
     ]
    }
   ],
   "source": [
    "# Matrix determinant\n",
    "print(la.det(C))\n",
    "# Python will complain if the given matrix is singular (determinant is 0)\n",
    "print(la.inv(C))"
   ]
  },
  {
   "cell_type": "code",
   "execution_count": 59,
   "metadata": {
    "colab": {
     "base_uri": "https://localhost:8080/",
     "height": 153
    },
    "colab_type": "code",
    "executionInfo": {
     "elapsed": 697,
     "status": "ok",
     "timestamp": 1572056714183,
     "user": {
      "displayName": "Yerbolat Khassanov",
      "photoUrl": "https://lh3.googleusercontent.com/a-/AAuE7mBkivKmNmtWRUqWz_rxy2pkQEWUWd42EDr6k6T38g=s64",
      "userId": "00538050044515419094"
     },
     "user_tz": -360
    },
    "id": "-UIqh9NWcR03",
    "outputId": "c8607742-78ce-4aa6-f3d1-5a9860f1cfb0"
   },
   "outputs": [
    {
     "name": "stdout",
     "output_type": "stream",
     "text": [
      "[[-2  1  0]\n",
      " [ 1 -2  1]\n",
      " [ 0  1 -2]]\n",
      "True\n",
      "-4.0\n",
      "[[-0.75 -0.5  -0.25]\n",
      " [-0.5  -1.   -0.5 ]\n",
      " [-0.25 -0.5  -0.75]]\n"
     ]
    }
   ],
   "source": [
    "# The symmetric matrix that is guaranteed to have a non-zero determinant\n",
    "print(D)\n",
    "print(np.allclose(D, D.T)) # To verify that the transpose of D is indeed equal to D\n",
    "print(la.det(D))\n",
    "print(la.inv(D))"
   ]
  },
  {
   "cell_type": "code",
   "execution_count": 60,
   "metadata": {
    "colab": {
     "base_uri": "https://localhost:8080/",
     "height": 102
    },
    "colab_type": "code",
    "executionInfo": {
     "elapsed": 738,
     "status": "ok",
     "timestamp": 1572056852456,
     "user": {
      "displayName": "Yerbolat Khassanov",
      "photoUrl": "https://lh3.googleusercontent.com/a-/AAuE7mBkivKmNmtWRUqWz_rxy2pkQEWUWd42EDr6k6T38g=s64",
      "userId": "00538050044515419094"
     },
     "user_tz": -360
    },
    "id": "KG4Z2_r3jPBH",
    "outputId": "d839acfb-19e6-467c-d48c-cbfd4a144494"
   },
   "outputs": [
    {
     "name": "stdout",
     "output_type": "stream",
     "text": [
      "[-3.41421356 -2.         -0.58578644]\n",
      "[[ 5.00000000e-01  7.07106781e-01  5.00000000e-01]\n",
      " [-7.07106781e-01 -4.05405432e-16  7.07106781e-01]\n",
      " [ 5.00000000e-01 -7.07106781e-01  5.00000000e-01]]\n"
     ]
    },
    {
     "data": {
      "text/plain": [
       "True"
      ]
     },
     "execution_count": 60,
     "metadata": {},
     "output_type": "execute_result"
    }
   ],
   "source": [
    "# Decomposing a symmetric matrix into a set of eigenvectors and eigenvalues. \n",
    "# eigvecs contains the normalized (unit “length”) eigenvectors,\n",
    "# such that the column eigvecs[:,i] is the eigenvector corresponding to the eigenvalue eigvals[i].\n",
    "eigvals, eigvecs = la.eig(D)\n",
    "print(eigvals)\n",
    "print(eigvecs)\n",
    "np.allclose(np.dot(eigvecs[0],eigvecs[1]),0)  # note that eigenvectors are orthogonal"
   ]
  },
  {
   "cell_type": "markdown",
   "metadata": {
    "colab_type": "text",
    "id": "-Jb07QaTa9fb"
   },
   "source": [
    "### Your turn: practice Linear Algebra using Python\n"
   ]
  },
  {
   "cell_type": "markdown",
   "metadata": {
    "colab_type": "text",
    "id": "IoXqe5or4W9L"
   },
   "source": [
    "Task 1: Compute $M = 3C^3 - 5(A^TB^T)^2$. The correct answer is [[  -42, -1596,   -99],\n",
    "       [    1, -3188,  -125],\n",
    "       [  250, -5132,    49]]"
   ]
  },
  {
   "cell_type": "code",
   "execution_count": 61,
   "metadata": {
    "colab": {},
    "colab_type": "code",
    "id": "g8pPzq312wkS"
   },
   "outputs": [
    {
     "data": {
      "text/plain": [
       "array([[  -42, -1596,   -99],\n",
       "       [    1, -3188,  -125],\n",
       "       [  250, -5132,    49]], dtype=int32)"
      ]
     },
     "execution_count": 61,
     "metadata": {},
     "output_type": "execute_result"
    }
   ],
   "source": [
    "M = 3*(C**3)-5*((A.T.dot(B.T))**2)\n",
    "M"
   ]
  },
  {
   "cell_type": "markdown",
   "metadata": {
    "colab_type": "text",
    "id": "ET8CVTZEDaTn"
   },
   "source": [
    "Task 2: Which of these matrices are equal?\n",
    "$(CD)^T, C^TD^T,D^TC^T,(DC)^T, CD^T$. Verify by computing each of the resulting matrices.\n"
   ]
  },
  {
   "cell_type": "code",
   "execution_count": 62,
   "metadata": {
    "colab": {},
    "colab_type": "code",
    "id": "UvIU4cM-2wkU"
   },
   "outputs": [
    {
     "name": "stdout",
     "output_type": "stream",
     "text": [
      "[[ 0  0 -4]\n",
      " [-2  0 -6]\n",
      " [-4  0 -8]] \n",
      "\n",
      "[[ 1  0 -7]\n",
      " [ 0  0 -8]\n",
      " [-1  0 -9]] \n",
      "\n",
      "[[ 0 -2 -4]\n",
      " [ 0  0  0]\n",
      " [-4 -6 -8]] \n",
      "\n",
      "[[ 1  0 -7]\n",
      " [ 0  0 -8]\n",
      " [-1  0 -9]] \n",
      "\n",
      "[[ 0  0 -4]\n",
      " [-2  0 -6]\n",
      " [-4  0 -8]] \n",
      "\n",
      "Ans: Equal matrices - 1 and 5, 2 and 4\n"
     ]
    }
   ],
   "source": [
    "print(C.dot(D.T), \"\\n\")\n",
    "print(C.T.dot(D.T), \"\\n\")\n",
    "print(D.T.dot(C.T), \"\\n\")\n",
    "print((D.dot(C)).T, \"\\n\")\n",
    "print(C.dot(D.T), \"\\n\")\n",
    "print(\"Ans: Equal matrices - 1 and 5, 2 and 4\")"
   ]
  },
  {
   "cell_type": "markdown",
   "metadata": {
    "colab_type": "text",
    "id": "HsZno3mvSV1h"
   },
   "source": [
    "Task 3: Using np.allclose(), verify that $inv(D)$ is the inverse of $D$ by showing that $inv(D)\\ D == D\\ inv(D)== I$. "
   ]
  },
  {
   "cell_type": "code",
   "execution_count": 63,
   "metadata": {
    "colab": {},
    "colab_type": "code",
    "id": "U5XoVTyv2wkW"
   },
   "outputs": [
    {
     "name": "stdout",
     "output_type": "stream",
     "text": [
      "True \n",
      "\n",
      "[[ 1.00000000e+00  2.77555756e-17 -5.55111512e-17]\n",
      " [ 0.00000000e+00  1.00000000e+00 -1.11022302e-16]\n",
      " [ 0.00000000e+00  0.00000000e+00  1.00000000e+00]] \n",
      "\n",
      "[[ 1.00000000e+00  0.00000000e+00  0.00000000e+00]\n",
      " [ 2.77555756e-17  1.00000000e+00  0.00000000e+00]\n",
      " [-5.55111512e-17 -1.11022302e-16  1.00000000e+00]] \n",
      "\n",
      "[[1. 0. 0.]\n",
      " [0. 1. 0.]\n",
      " [0. 0. 1.]]\n"
     ]
    }
   ],
   "source": [
    "iD = la.inv(D)\n",
    "I = np.eye(3)\n",
    "print(np.allclose(iD.dot(D), D.dot(iD), I), \"\\n\")\n",
    "print(iD.dot(D), \"\\n\")\n",
    "print(D.dot(iD), \"\\n\")\n",
    "print(I)"
   ]
  },
  {
   "cell_type": "markdown",
   "metadata": {
    "colab_type": "text",
    "id": "KWhFuigt_DRT"
   },
   "source": [
    "Task 4: Using np.allclose(), verify that $Q$ is an orthogonal matrix by showing $QQ^T ==Q^TQ == I $"
   ]
  },
  {
   "cell_type": "code",
   "execution_count": 64,
   "metadata": {
    "colab": {},
    "colab_type": "code",
    "id": "puK-Ys4X2wkY"
   },
   "outputs": [
    {
     "name": "stdout",
     "output_type": "stream",
     "text": [
      "True \n",
      "\n",
      "[[1.00000000e+00 1.54197642e-17 1.23358114e-17]\n",
      " [1.54197642e-17 1.00000000e+00 2.46716228e-17]\n",
      " [1.23358114e-17 2.46716228e-17 1.00000000e+00]] \n",
      "\n",
      "[[ 1.00000000e+00 -1.23358114e-17  2.46716228e-17]\n",
      " [-1.23358114e-17  1.00000000e+00 -1.54197642e-17]\n",
      " [ 2.46716228e-17 -1.54197642e-17  1.00000000e+00]] \n",
      "\n",
      "[[1. 0. 0.]\n",
      " [0. 1. 0.]\n",
      " [0. 0. 1.]]\n"
     ]
    }
   ],
   "source": [
    "I = np.eye(3)\n",
    "q1 = Q.dot(Q.T)\n",
    "q2 = Q.T.dot(Q)\n",
    "print(np.allclose(q1, q2, I), \"\\n\")\n",
    "print(Q.dot(Q.T), \"\\n\")\n",
    "print(Q.T.dot(Q), \"\\n\")\n",
    "print(I)"
   ]
  },
  {
   "cell_type": "markdown",
   "metadata": {
    "colab_type": "text",
    "id": "r0nNQcwMB5MX"
   },
   "source": [
    "### A covariance matrix and its eigen decomposition.\n",
    "Suppose we have two random variables X and Y. The covariance $C(X,Y)$ is a matrix that quantifies the joint variability between these variables. The matrix is always square and symmetric: the diagonal entries of the covariance matrix are the variances of each variable and the other entries are the covariances. As the result it defines both the spread (variance), and the orientation (covariance) of our data. Remember, variance can only be used to explain the spread of the data in the directions parallel to the axes of the feature space.\n",
    "\n",
    "The eigenvalue decomposition (EVD) of covariance matrix is defined as: $C=VLV^T$, where $V$ is a matrix of orthonormal eigenvectors of $C$ and $L$ is a diagonal matrix of corresponding eigenvalues.\n",
    "\n",
    "The eigenvectors of the covariance matrix point in the direction of the spread of the data. In particular, the largest eigenvector of the covariance matrix always points into the direction of the largest variance of the data, and the magnitude of this vector equals the corresponding eigenvalue.  \n",
    "\n",
    "The example below illustrates that when the covariance matrix is a diagonal matrix, i.e. variables are uncorrelated, the eigenvalues are equal to the variances since the covariances are zero. "
   ]
  },
  {
   "cell_type": "code",
   "execution_count": 65,
   "metadata": {
    "colab": {
     "base_uri": "https://localhost:8080/",
     "height": 316
    },
    "colab_type": "code",
    "executionInfo": {
     "elapsed": 1010,
     "status": "ok",
     "timestamp": 1572057959544,
     "user": {
      "displayName": "Yerbolat Khassanov",
      "photoUrl": "https://lh3.googleusercontent.com/a-/AAuE7mBkivKmNmtWRUqWz_rxy2pkQEWUWd42EDr6k6T38g=s64",
      "userId": "00538050044515419094"
     },
     "user_tz": -360
    },
    "id": "FPDh-OJDjCIm",
    "outputId": "d2cf2d4d-a734-4599-89d0-470c8b681777"
   },
   "outputs": [
    {
     "name": "stdout",
     "output_type": "stream",
     "text": [
      "[7. 1.]\n",
      "[[1. 0.]\n",
      " [0. 1.]]\n"
     ]
    },
    {
     "data": {
      "image/png": "[encoded data removed]",
      "text/plain": [
       "<Figure size 432x288 with 1 Axes>"
      ]
     },
     "metadata": {
      "needs_background": "light"
     },
     "output_type": "display_data"
    }
   ],
   "source": [
    "cov = np.array([[ 7, 0], [0,  1]]) \n",
    "mean = np.array([0,0])\n",
    "# sampling from a 2D gaussian ditribution with a set mean and cov matrix\n",
    "data = np.random.multivariate_normal(mean, cov, 500).T\n",
    "x = data[0]\n",
    "y = data[1]\n",
    "plt.scatter(x, y, s = 8, c = 'k')\n",
    "plt.axis('equal')\n",
    "\n",
    "# plotting the direction of the eigenvectors\n",
    "eigvals_c, eigvecs_c = la.eig(cov)\n",
    "print(eigvals_c)\n",
    "print(eigvecs_c)\n",
    "scaled_eigen_vecs_c = np.multiply(eigvecs_c, eigvals_c)\n",
    "v1 = np.vstack((mean,scaled_eigen_vecs_c[:,0])).T\n",
    "v2 = np.vstack((mean,scaled_eigen_vecs_c[:,1])).T\n",
    "plt.plot(v1[0], v1[1], linewidth=3, label = \"The largest/first eigen vector\")\n",
    "plt.plot(v2[0], v2[1], linewidth=3, label = \"The second largest eigen vector\")\n",
    "plt.legend()\n",
    "plt.show()"
   ]
  },
  {
   "cell_type": "markdown",
   "metadata": {
    "colab_type": "text",
    "id": "AR6e8XuNOaFe"
   },
   "source": [
    "#### Correlated variables\n",
    "If the covariance matrix is not diagonal, such that the covariances are not zero, the eigenvalues still represent the variance magnitude in the direction of the largest spread of the data, and the variance components of the covariance matrix still represent the variance magnitude in the direction of the x-axis and y-axis. But since the data is not axis aligned, these values are not the same anymore.\n"
   ]
  },
  {
   "cell_type": "code",
   "execution_count": 66,
   "metadata": {
    "colab": {
     "base_uri": "https://localhost:8080/",
     "height": 317
    },
    "colab_type": "code",
    "executionInfo": {
     "elapsed": 1054,
     "status": "ok",
     "timestamp": 1572058019331,
     "user": {
      "displayName": "Yerbolat Khassanov",
      "photoUrl": "https://lh3.googleusercontent.com/a-/AAuE7mBkivKmNmtWRUqWz_rxy2pkQEWUWd42EDr6k6T38g=s64",
      "userId": "00538050044515419094"
     },
     "user_tz": -360
    },
    "id": "itx7yUw5OZi2",
    "outputId": "ba7753ad-3ea0-417a-b6e8-dad946ae9a53"
   },
   "outputs": [
    {
     "name": "stdout",
     "output_type": "stream",
     "text": [
      "[5. 1.]\n",
      "[[ 0.70710678 -0.70710678]\n",
      " [ 0.70710678  0.70710678]]\n"
     ]
    },
    {
     "data": {
      "image/png": "[encoded data removed]",
      "text/plain": [
       "<Figure size 432x288 with 1 Axes>"
      ]
     },
     "metadata": {
      "needs_background": "light"
     },
     "output_type": "display_data"
    }
   ],
   "source": [
    "cov = np.array([[ 3, 2], [2,  3]]) \n",
    "mean = np.array([0, 0])\n",
    "# sampling from a 2D gaussian ditribution with a set mean and cov matrix\n",
    "data = np.random.multivariate_normal(mean, cov, 500).T\n",
    "x = data[0]\n",
    "y = data[1]\n",
    "plt.scatter(x, y, s = 8, c = 'k')\n",
    "plt.axis('equal')\n",
    "\n",
    "# plotting the direction of the eigenvectors\n",
    "eigvals_c, eigvecs_c = la.eig(cov)\n",
    "print(eigvals_c)\n",
    "print(eigvecs_c) \n",
    "scaled_eigen_vecs_c = np.multiply(eigvecs_c, eigvals_c)\n",
    "v1 = np.vstack((mean,scaled_eigen_vecs_c[:,0])).T\n",
    "v2 = np.vstack((mean,scaled_eigen_vecs_c[:,1])).T\n",
    "plt.plot(v1[0], v1[1], linewidth=3, label = \"The largest/first eigen vector\")\n",
    "plt.plot(v2[0], v2[1], linewidth=3, label = \"The second largest eigen vector\")\n",
    "plt.legend()\n",
    "plt.show()"
   ]
  },
  {
   "cell_type": "markdown",
   "metadata": {
    "colab_type": "text",
    "id": "XnV8cJ15V5yX"
   },
   "source": [
    "## Implementing Principal Component Analysis (PCA) using Eigen Decomposition (EVD) \n",
    "\n",
    "Principal component analysis(PCA) is a technique that is widely used for applications such as dimensionality reduction, feature extraction and data visualization. There are two definitions of PCA: 1. An orthogonal projection of the data onto a lower dimensional linear subspace, known as linear subspace, such that the variance of the projected data is maximized; 2. A linear projection that minimizes the average projection cost, defined as mean square distance between the data points and their projections.\n",
    "\n",
    "Consider a data set of observations in a matrix form  $X$  with dimension  $n \\times d$  ( $n$  is the number of samples, and  $d$  is the dimension of each sample or the number of features in each sample). We want to project our data onto a space of dimension  $k$ , where  $k<d$ , while maximizing the variance of the projected data. To do so, we need to find linearly uncorrelated axes/features which are also known as principal components(PC).\n",
    "\n",
    "PCs can be found by eigenvalue decomposition(EVD) of the covariance matrix  $C = \\frac{X^TX}{n-1}$, where $X$ is centered. By the definition of EVD, since $C$  is square and symmetric it can be rewritten as $C = VLV^T$, where  $V$  is a matrix of orthonormal eigenvectors of  $C$  and  $L$  is a diagonal matrix of corresponding eigenvalues. As we discussed earlier, these eigenvectors point in the direction of the spread of the data and the largest one points in the direction of the largest variance in the data. Thus, these vectors are the principal axes we need in order to find the PCs. \n",
    "\n",
    "Finally, we compute the PCs by performing the dot product $X \\cdot V$.\n",
    "If we want to find the projection to a  𝑘  dimensional space, then we need to select those principal components that correspond to the $k$ largest eigen values."
   ]
  },
  {
   "cell_type": "code",
   "execution_count": 67,
   "metadata": {
    "colab": {},
    "colab_type": "code",
    "id": "e9bywkeaWDp5"
   },
   "outputs": [],
   "source": [
    "# Store Iris dataset into the dataframe from the url source\n",
    "url = \"https://raw.githubusercontent.com/jbrownlee/Datasets/master/iris.csv\"\n",
    "names = ['sepal.length','sepal.width','petal.length','petal.width','variety']\n",
    "df_iris = pd.read_csv(url, names=names)"
   ]
  },
  {
   "cell_type": "markdown",
   "metadata": {
    "colab_type": "text",
    "id": "xwwpt5KLV5qq"
   },
   "source": [
    "Task 1: Create a dataframe called ***df_petal*** such that it contains only those entries of **petal_length** and **petal_width** features, where the variety is either Iris-versicolor or Iris-virginica. Then make a scatter plot to show the correlation between these 2 features."
   ]
  },
  {
   "cell_type": "code",
   "execution_count": 68,
   "metadata": {
    "colab": {},
    "colab_type": "code",
    "id": "5I6xSuOWWV90"
   },
   "outputs": [
    {
     "data": {
      "text/plain": [
       "<matplotlib.axes._subplots.AxesSubplot at 0x225d9767978>"
      ]
     },
     "execution_count": 68,
     "metadata": {},
     "output_type": "execute_result"
    },
    {
     "data": {
      "image/png": "[encoded data removed]",
      "text/plain": [
       "<Figure size 432x288 with 1 Axes>"
      ]
     },
     "metadata": {
      "needs_background": "light"
     },
     "output_type": "display_data"
    }
   ],
   "source": [
    "df1 = df_iris[(df_iris.variety=='Iris-versicolor') | (df_iris.variety=='Iris-virginica')]\n",
    "df_petal = df1[['petal.length', 'petal.width']]\n",
    "df_petal.plot.scatter(x='petal.length', y='petal.width')"
   ]
  },
  {
   "cell_type": "markdown",
   "metadata": {
    "colab_type": "text",
    "id": "G-GrfEkdXC_V"
   },
   "source": [
    "Task 2: Center the **df_petals** (subtract the mean of each variable from the dataset to center the data around the origin) and store the result in a new dataframe **df_petals_norm**.Then make a scatter plot to show the correlation between the two features. The arragements of the data points should look the same, but they will shift and with the center at (0,0). "
   ]
  },
  {
   "cell_type": "code",
   "execution_count": 69,
   "metadata": {
    "colab": {},
    "colab_type": "code",
    "id": "cF3kyqnQY-dE"
   },
   "outputs": [
    {
     "data": {
      "text/plain": [
       "<matplotlib.axes._subplots.AxesSubplot at 0x225dab7ac50>"
      ]
     },
     "execution_count": 69,
     "metadata": {},
     "output_type": "execute_result"
    },
    {
     "data": {
      "image/png": "[encoded data removed]",
      "text/plain": [
       "<Figure size 432x288 with 1 Axes>"
      ]
     },
     "metadata": {
      "needs_background": "light"
     },
     "output_type": "display_data"
    }
   ],
   "source": [
    "m = df_petal.mean()\n",
    "df_petals_norm = df_petal\n",
    "for i in range(len(df_petals_norm)):\n",
    "    df_petals_norm.values[i] = df_petals_norm.values[i] - m\n",
    "df_petals_norm.plot.scatter(x='petal.length', y='petal.width')"
   ]
  },
  {
   "cell_type": "markdown",
   "metadata": {
    "colab_type": "text",
    "id": "6uzqXm-lZcI7"
   },
   "source": [
    "Task 3: Using numpy functions, find the covariance matrix for **df_petals_norm** in accordance with the formula and store it in **cov**."
   ]
  },
  {
   "cell_type": "code",
   "execution_count": 70,
   "metadata": {
    "colab": {},
    "colab_type": "code",
    "id": "6A0_QkoNZidt"
   },
   "outputs": [
    {
     "data": {
      "text/plain": [
       "array([[0.6815798 , 0.28873131],\n",
       "       [0.28873131, 0.18042828]])"
      ]
     },
     "execution_count": 70,
     "metadata": {},
     "output_type": "execute_result"
    }
   ],
   "source": [
    "df2 = df_petals_norm.to_numpy()\n",
    "cov = (df2.T.dot(df2)/(len(df2)-1))\n",
    "cov"
   ]
  },
  {
   "cell_type": "markdown",
   "metadata": {
    "colab_type": "text",
    "id": "OgdO2_wqZk0T"
   },
   "source": [
    "We can also utilize pandas built-in function to compute the covariance matrix. If your result is correct, np.allclose should return True"
   ]
  },
  {
   "cell_type": "code",
   "execution_count": 71,
   "metadata": {
    "colab": {},
    "colab_type": "code",
    "id": "2kcZ2NomZa0n"
   },
   "outputs": [
    {
     "name": "stdout",
     "output_type": "stream",
     "text": [
      "              petal.length  petal.width\n",
      "petal.length      0.681580     0.288731\n",
      "petal.width       0.288731     0.180428\n"
     ]
    },
    {
     "data": {
      "text/plain": [
       "True"
      ]
     },
     "execution_count": 71,
     "metadata": {},
     "output_type": "execute_result"
    }
   ],
   "source": [
    "cov_pandas = df_petals_norm.cov()\n",
    "print(cov_pandas)\n",
    "np.allclose(cov_pandas, cov) # ensure that two outputs are similar"
   ]
  },
  {
   "cell_type": "markdown",
   "metadata": {
    "colab_type": "text",
    "id": "5lSWXQNya8e3"
   },
   "source": [
    "Task 4: Find the eigen decomposition of **cov**.\n",
    "\n",
    "Then, sort eigenvalues and eigenvectors in the descending order of the eigenvalues. \n",
    "\n",
    "Lastly, make a scatter plot of the centered values and add the directions of the eigen vectors, as it was done for the covariance matrix of the gaussian distribution."
   ]
  },
  {
   "cell_type": "code",
   "execution_count": 72,
   "metadata": {
    "colab": {},
    "colab_type": "code",
    "id": "r-xikwK8a37M"
   },
   "outputs": [
    {
     "name": "stdout",
     "output_type": "stream",
     "text": [
      "[0.81330494 0.04870314] [[ 0.90979151 -0.41506555]\n",
      " [ 0.41506555  0.90979151]]\n",
      "[0.81330494 0.04870314] [[ 0.90979151 -0.41506555]\n",
      " [ 0.41506555  0.90979151]]\n"
     ]
    },
    {
     "data": {
      "image/png": "[encoded data removed]",
      "text/plain": [
       "<Figure size 432x288 with 1 Axes>"
      ]
     },
     "metadata": {
      "needs_background": "light"
     },
     "output_type": "display_data"
    }
   ],
   "source": [
    "eigval, eigvec = la.eig(cov)\n",
    "print(eigval, eigvec)\n",
    "\n",
    "for i in range (len(eigval)-1):\n",
    "    if eigval[i] < eigval[i+1]:\n",
    "        temp = eigval[i]\n",
    "        eigval[i] = eigval[i+1]\n",
    "        eigval[i+1] = temp\n",
    "        \n",
    "        temp2 = eigvec[:,i]\n",
    "        eigvec[:,i] = eigvec[:,i+1]\n",
    "        eigvec[:,i+1] = temp2\n",
    "print(eigval, eigvec)\n",
    "\n",
    "df_petals_norm.plot.scatter('petal.length', 'petal.width', color='black')\n",
    "scaled_eigen_vec = np.multiply(eigvec, eigval)\n",
    "v1 = np.vstack((mean,scaled_eigen_vec[:,0])).T\n",
    "v2 = np.vstack((mean,scaled_eigen_vec[:,1])).T\n",
    "plt.plot(v1[0], v1[1], linewidth=3, label = \"The largest/first eigen vector\")\n",
    "plt.plot(v2[0], v2[1], linewidth=3, label = \"The second largest eigen vector\")\n",
    "plt.legend()\n",
    "plt.show()"
   ]
  },
  {
   "cell_type": "markdown",
   "metadata": {
    "colab_type": "text",
    "id": "EKVoWD9tg2N2"
   },
   "source": [
    "Task 5: Make a new dataframe **pc_df_petals** that holds the principal components of the data. To do so, project the data into principal axes (i.e. eigenvectors) using dot product. \n",
    "\n",
    "Then to illustrate that the principal components (i.e. 0 and 1) are indeed uncorrelated:\n",
    "1. Print the covariance of the principal components.\n",
    "2. Make a scatter plot of the principal components.\n",
    "\n",
    "\n",
    "Hint: pandas has its own built-in function to perform dot product and compute a covariance matrix.\n",
    "\n",
    "Your covariance matrix should have 0s or infinitesimal values in the secondary diagonal.\n",
    "\n",
    " "
   ]
  },
  {
   "cell_type": "code",
   "execution_count": 73,
   "metadata": {
    "colab": {},
    "colab_type": "code",
    "id": "Ne01zx9eUR3n"
   },
   "outputs": [
    {
     "name": "stdout",
     "output_type": "stream",
     "text": [
      "              0             1\n",
      "0  8.133049e-01  7.224991e-17\n",
      "1  7.224991e-17  4.870314e-02\n"
     ]
    },
    {
     "data": {
      "text/plain": [
       "<matplotlib.axes._subplots.AxesSubplot at 0x225dac75da0>"
      ]
     },
     "execution_count": 73,
     "metadata": {},
     "output_type": "execute_result"
    },
    {
     "data": {
      "image/png": "[encoded data removed]",
      "text/plain": [
       "<Figure size 432x288 with 1 Axes>"
      ]
     },
     "metadata": {
      "needs_background": "light"
     },
     "output_type": "display_data"
    }
   ],
   "source": [
    "V = eigvec\n",
    "pc_df_petals = df_petals_norm.dot(V)\n",
    "new = pc_df_petals.cov()\n",
    "print(new)\n",
    "\n",
    "pc_df_petals.plot.scatter(x=0,y=1)"
   ]
  },
  {
   "cell_type": "markdown",
   "metadata": {
    "colab_type": "text",
    "id": "lDjLD1pCjCCa"
   },
   "source": [
    "Now we can verify that your produced principal components are correct by comparing with the result of sklearn implementation of PCA decomposition\n"
   ]
  },
  {
   "cell_type": "code",
   "execution_count": 74,
   "metadata": {
    "colab": {},
    "colab_type": "code",
    "id": "sDcAAxsXi_Ym"
   },
   "outputs": [
    {
     "data": {
      "text/plain": [
       "True"
      ]
     },
     "execution_count": 74,
     "metadata": {},
     "output_type": "execute_result"
    }
   ],
   "source": [
    "from sklearn import decomposition\n",
    "pca = decomposition.PCA(n_components=2)\n",
    "pc_sk = pca.fit_transform(df_petals_norm)\n",
    "np.allclose(pc_sk, pc_df_petals)"
   ]
  },
  {
   "cell_type": "markdown",
   "metadata": {
    "colab_type": "text",
    "id": "mJQR82kgFld5"
   },
   "source": [
    "# Part 2"
   ]
  },
  {
   "cell_type": "markdown",
   "metadata": {
    "colab_type": "text",
    "id": "trMl_HzD8XfY"
   },
   "source": [
    "### Dimensionality reduction\n",
    "The dimensionality reduction is an important technique widely employed in data science.\n",
    "For example, in order to visualize samples consisting of more than 3 features, we need to project them into lower dimensional space (e.g. 1, 2 or 3) with minimum loss of information.\n",
    "Another example is when we want to remove highly correlated features from the dataset which are uninformative for machine learning algorithm. In addition, removing the correlated features will reduce the overhead on computationally intensive algorithms in terms of computational time, power and memory requirements.\n",
    "For example, in gender prediction task, the 'tax paid' information of a person might be unnecceray, if the 'salary' information is given and tax is a fixed percentage of the salary.\n"
   ]
  },
  {
   "cell_type": "markdown",
   "metadata": {
    "colab_type": "text",
    "id": "wlfhytVd8kUA"
   },
   "source": [
    "In all aforementioned examples, we want to remove the uninfomrative part of the data with the minimum loss of information. This is exactly what PCA does by projecting the original data into principal axes of the covariance matrix. Recall that these principal axes are aligned with the direction of maximum variance.\n"
   ]
  },
  {
   "cell_type": "markdown",
   "metadata": {
    "colab_type": "text",
    "id": "PFz-tqRn8vXZ"
   },
   "source": [
    "Suppose the dimension of the original data is $d$, then we can reduce the dimensionality of the data to $k$ (assuming $k$ < $d$), by selecting $k$ first columns of the principal components. Here we assume that principal axes were sorted on the descending order of corresponding eigenvalues.\n"
   ]
  },
  {
   "cell_type": "markdown",
   "metadata": {
    "colab_type": "text",
    "id": "j1eJeRel9et9"
   },
   "source": [
    "Task: We would like to reduce the dimension of df_petals to 1 and plot the results. To do so:\n",
    " \n",
    "1.   Select the first column of **pc_df_petals** \n",
    "2.   Plot the histogram of these values colored by their true variety/class. Provide a legend.\n",
    "\n",
    "The first 10 samples should look like this: array([[-0.30197514],\n",
    "       [-0.44242689],\n",
    "       [-0.07851029],\n",
    "       [-0.98033575],\n",
    "       [-0.35144774],\n",
    "       [-0.52544   ],\n",
    "       [-0.21896203],\n",
    "       [-1.74170947],\n",
    "       [-0.43446085],\n",
    "       [-1.02980835]])\n"
   ]
  },
  {
   "cell_type": "code",
   "execution_count": 75,
   "metadata": {
    "colab": {},
    "colab_type": "code",
    "id": "-gYHksRk_E23"
   },
   "outputs": [
    {
     "data": {
      "image/png": "[encoded data removed]",
      "text/plain": [
       "<Figure size 432x288 with 1 Axes>"
      ]
     },
     "metadata": {
      "needs_background": "light"
     },
     "output_type": "display_data"
    }
   ],
   "source": [
    "ir = df_iris.iloc[50:150, 4]\n",
    "d1 = pc_df_petals.iloc[:, :1]\n",
    "d1['variety'] = ir\n",
    "\n",
    "virginica = d1[0][d1.variety == 'Iris-virginica']\n",
    "versicolor = d1[0][d1.variety == 'Iris-versicolor']\n",
    "plt.hist([versicolor, virginica], alpha = 0.5, label=['Iris-versicolor', 'Iris-virginica'])\n",
    "plt.legend()\n",
    "plt.show()"
   ]
  },
  {
   "cell_type": "markdown",
   "metadata": {
    "colab_type": "text",
    "id": "dB-o5LAOONyA"
   },
   "source": [
    "### Explained variance\n",
    "\n",
    "In the current example, we are reducing the dimension of the data from 2 to 1. In many cases, the original dimension is much larger than 2 and we need to decide how many components are needed to capture the majority of variance in data. This number can be determined by looking at the cumulative explained variance ratio as a function of the number of components. To do that we first need to compute the explained variance ratio for each eigen value $\\lambda_j$ as $\\frac{\\lambda_j}{\\sum_{i=1}^d \\lambda_i}$, where $d$ is the dimension of data. Then we can find cumulative sum of explained variance ratios.\n"
   ]
  },
  {
   "cell_type": "markdown",
   "metadata": {
    "colab_type": "text",
    "id": "MM3LkzqTPGro"
   },
   "source": [
    "Task: find the cumulative explained variance ratio using the pre-sorted eigen values. The correct answer is [0.94350037, 1.        ]. In other wods, 94.35% of variance in data should be attributed to the first principal component."
   ]
  },
  {
   "cell_type": "code",
   "execution_count": 76,
   "metadata": {
    "colab": {},
    "colab_type": "code",
    "id": "KatsxRgnPUB9"
   },
   "outputs": [
    {
     "data": {
      "text/plain": [
       "[0.9435003718202953, 1.0]"
      ]
     },
     "execution_count": 76,
     "metadata": {},
     "output_type": "execute_result"
    }
   ],
   "source": [
    "expV = []\n",
    "for i in range(len(eigval)):    \n",
    "    expV.append(eigval[i]/eigval.sum())\n",
    "    \n",
    "res = 0\n",
    "cumV = []\n",
    "for i in range(len(expV)):\n",
    "    res += expV[i]\n",
    "    cumV.append(res)\n",
    "cumV[1] = round(cumV[1], 1) #rounded due to inaccuracy of system when working with float number\n",
    "cumV"
   ]
  },
  {
   "cell_type": "markdown",
   "metadata": {
    "colab_type": "text",
    "id": "rS83pVpS0ZtN"
   },
   "source": [
    "## Implementing PCA using SVD (brace yourself its a long read)\n",
    "\n",
    "Let us to consider again $X$, the matrix that contains all of the normalized values in **df_petals_norm**.\n",
    "\n",
    "We can get the singular value decomposition of $X$ as follows:\n",
    "\n",
    "$X=USV^T$\n",
    "\n",
    "where $U$ is a matrix of left-singular vectors corresponding to the orthonormal eigenvectors of $XX^T$, $S$ is the diagonal matrix of singular values and $V$ is a matrix of right-singular vectors corresponding to the orthonormal eigenvectors of $X^TX$.\n",
    "\n",
    "Here is a graphical representation of SVD decomposition. In our case. $M$ is $X$, $\\Sigma$ is $S$ and $V^*$ is $V^T$\n",
    "<img src=\"https://upload.wikimedia.org/wikipedia/commons/thumb/c/c8/Singular_value_decomposition_visualisation.svg/1024px-Singular_value_decomposition_visualisation.svg.png\" width = \"300\"/>"
   ]
  },
  {
   "cell_type": "markdown",
   "metadata": {
    "colab_type": "text",
    "id": "SNOda3XF7qRI"
   },
   "source": [
    "#### Relationship between eigen values and singular values\n",
    "\n",
    "\n",
    "In part 1, we computed principal components as $XV$, using the singular value decomposition of X, we can rewrite it as follows:\n",
    "\n",
    "$XV = USV^TV = US $\n",
    "\n",
    "Recall from part 1 that the convariance matrix $C$ of $X$ containing $n$ samples is computed as follows:\n",
    "\n",
    "$C=\\frac{X^TX}{n-1}$\n",
    "\n",
    "Remeber, the eigenvalue decomposition (EVD) of covariance matrix, which is square and symmetric, is represented as:\n",
    "\n",
    "$C=VLV^T$\n",
    "\n",
    "where $V$ is a matrix of orthonormal eigenvectors of $C$ and $L$ is a diagonal matrix of corresponding eigenvalues.\n",
    "\n",
    "Given that the SVD of $X=USV^T$, one can easily see that covariance matrix $C$ can be computed as:\n",
    "\n",
    "$C=\\frac{X^TX}{n-1}=\\frac{(USV^T)^TUSV^T}{n-1}=\\frac{VS^TU^TUSV^T}{n-1}=V\\frac{S^2}{n-1}V^T$\n",
    "\n",
    "since $U$ is an orthonormal matrix, i.e $U^TU=I$.\n",
    "\n",
    "As we know $C=VLV^T=V\\frac{S^2}{n-1}V^T$, then we can conclude that the relationship between eigenvalues and singular values is $L=\\frac{S^2}{n-1}$\n",
    "\n"
   ]
  },
  {
   "cell_type": "markdown",
   "metadata": {
    "colab_type": "text",
    "id": "h8UmMM_bWan6"
   },
   "source": [
    "Task 1: Using la.svd(), decompose the mean-normalized data and compute principal components based on this decomposition and store them in **PC_svd**\n",
    "  "
   ]
  },
  {
   "cell_type": "code",
   "execution_count": 77,
   "metadata": {
    "colab": {},
    "colab_type": "code",
    "id": "Sm1DrgHWVLss"
   },
   "outputs": [
    {
     "data": {
      "text/plain": [
       "(array([[-0.03365324,  0.07541566, -0.00996791, ...,  0.0460698 ,\n",
       "          0.08165174,  0.02561402],\n",
       "        [-0.04930571, -0.00382241,  0.07177869, ..., -0.07818513,\n",
       "         -0.16434989, -0.01438607],\n",
       "        [-0.00874948,  0.07178783,  0.99478255, ...,  0.00583064,\n",
       "          0.01219272,  0.00114463],\n",
       "        ...,\n",
       "        [ 0.04479592, -0.07866922,  0.00614584, ...,  0.99193996,\n",
       "         -0.01635358, -0.00214769],\n",
       "        [ 0.07895097, -0.16516294,  0.01271933, ..., -0.01620547,\n",
       "          0.96694925, -0.00412595],\n",
       "        [ 0.02540557, -0.01470589,  0.00135603, ..., -0.00231479,\n",
       "         -0.00450445,  0.99916637]]),\n",
       " array([8.97313711, 2.19581658]),\n",
       " array([[ 0.90979151,  0.41506555],\n",
       "        [ 0.41506555, -0.90979151]]))"
      ]
     },
     "execution_count": 77,
     "metadata": {},
     "output_type": "execute_result"
    }
   ],
   "source": [
    "U, s, VT = la.svd(df_petals_norm)\n",
    "PC_svd = la.svd(df_petals_norm)\n",
    "PC_svd"
   ]
  },
  {
   "cell_type": "markdown",
   "metadata": {
    "colab_type": "text",
    "id": "b4GAc8ewWj-w"
   },
   "source": [
    "Task 2: Verify the relationship between eigenvalues and singular values using the formula given above"
   ]
  },
  {
   "cell_type": "code",
   "execution_count": 78,
   "metadata": {
    "colab": {},
    "colab_type": "code",
    "id": "Of6C-mduWqS6"
   },
   "outputs": [
    {
     "name": "stdout",
     "output_type": "stream",
     "text": [
      "[0.81330494 0.04870314]\n",
      "[0.81330494 0.04870314]\n"
     ]
    },
    {
     "data": {
      "text/plain": [
       "True"
      ]
     },
     "execution_count": 78,
     "metadata": {},
     "output_type": "execute_result"
    }
   ],
   "source": [
    "L = eigval\n",
    "n = len(df2)\n",
    "S2 = s**2\n",
    "\n",
    "print(L)\n",
    "print((s**2)/(n-1))\n",
    "\n",
    "np.allclose(L, (s**2)/(n-1))"
   ]
  },
  {
   "cell_type": "markdown",
   "metadata": {
    "colab_type": "text",
    "id": "OxpTfvOX8Wir"
   },
   "source": [
    "The results coming from the two implementations can have different signs due to the sign indeterminacy between SVD and EVD. This can be resolved using the following function\n"
   ]
  },
  {
   "cell_type": "code",
   "execution_count": 79,
   "metadata": {
    "colab": {},
    "colab_type": "code",
    "id": "4MMQ5sPZXL6C"
   },
   "outputs": [
    {
     "ename": "ValueError",
     "evalue": "The truth value of an array with more than one element is ambiguous. Use a.any() or a.all()",
     "output_type": "error",
     "traceback": [
      "\u001b[1;31m---------------------------------------------------------------------------\u001b[0m",
      "\u001b[1;31mValueError\u001b[0m                                Traceback (most recent call last)",
      "\u001b[1;32m<ipython-input-79-204c7e150b8c>\u001b[0m in \u001b[0;36m<module>\u001b[1;34m\u001b[0m\n\u001b[0;32m      7\u001b[0m     \u001b[1;32mreturn\u001b[0m \u001b[0mA\u001b[0m\u001b[1;33m,\u001b[0m \u001b[0mB\u001b[0m \u001b[1;33m*\u001b[0m \u001b[0msigns\u001b[0m\u001b[1;33m\u001b[0m\u001b[1;33m\u001b[0m\u001b[0m\n\u001b[0;32m      8\u001b[0m \u001b[1;33m\u001b[0m\u001b[0m\n\u001b[1;32m----> 9\u001b[1;33m \u001b[0mnp\u001b[0m\u001b[1;33m.\u001b[0m\u001b[0mallclose\u001b[0m\u001b[1;33m(\u001b[0m\u001b[1;33m*\u001b[0m\u001b[0mflip_signs\u001b[0m\u001b[1;33m(\u001b[0m\u001b[0mPC_svd\u001b[0m\u001b[1;33m,\u001b[0m \u001b[0mpc_df_petals\u001b[0m\u001b[1;33m.\u001b[0m\u001b[0mvalues\u001b[0m\u001b[1;33m)\u001b[0m\u001b[1;33m)\u001b[0m \u001b[1;31m# ensure that it is euivalent to the one computer using EVD\u001b[0m\u001b[1;33m\u001b[0m\u001b[1;33m\u001b[0m\u001b[0m\n\u001b[0m",
      "\u001b[1;32m<ipython-input-79-204c7e150b8c>\u001b[0m in \u001b[0;36mflip_signs\u001b[1;34m(A, B)\u001b[0m\n\u001b[0;32m      4\u001b[0m     \u001b[0mhttp\u001b[0m\u001b[1;33m:\u001b[0m\u001b[1;33m//\u001b[0m\u001b[0mstats\u001b[0m\u001b[1;33m.\u001b[0m\u001b[0mstackexchange\u001b[0m\u001b[1;33m.\u001b[0m\u001b[0mcom\u001b[0m\u001b[1;33m/\u001b[0m\u001b[0mq\u001b[0m\u001b[1;33m/\u001b[0m\u001b[1;36m34396\u001b[0m\u001b[1;33m/\u001b[0m\u001b[1;36m115202\u001b[0m\u001b[1;33m\u001b[0m\u001b[1;33m\u001b[0m\u001b[0m\n\u001b[0;32m      5\u001b[0m     \"\"\"\n\u001b[1;32m----> 6\u001b[1;33m     \u001b[0msigns\u001b[0m \u001b[1;33m=\u001b[0m \u001b[0mnp\u001b[0m\u001b[1;33m.\u001b[0m\u001b[0msign\u001b[0m\u001b[1;33m(\u001b[0m\u001b[0mA\u001b[0m\u001b[1;33m)\u001b[0m \u001b[1;33m*\u001b[0m \u001b[0mnp\u001b[0m\u001b[1;33m.\u001b[0m\u001b[0msign\u001b[0m\u001b[1;33m(\u001b[0m\u001b[0mB\u001b[0m\u001b[1;33m)\u001b[0m\u001b[1;33m\u001b[0m\u001b[1;33m\u001b[0m\u001b[0m\n\u001b[0m\u001b[0;32m      7\u001b[0m     \u001b[1;32mreturn\u001b[0m \u001b[0mA\u001b[0m\u001b[1;33m,\u001b[0m \u001b[0mB\u001b[0m \u001b[1;33m*\u001b[0m \u001b[0msigns\u001b[0m\u001b[1;33m\u001b[0m\u001b[1;33m\u001b[0m\u001b[0m\n\u001b[0;32m      8\u001b[0m \u001b[1;33m\u001b[0m\u001b[0m\n",
      "\u001b[1;31mValueError\u001b[0m: The truth value of an array with more than one element is ambiguous. Use a.any() or a.all()"
     ]
    }
   ],
   "source": [
    "def flip_signs(A, B):\n",
    "    \"\"\"\n",
    "    utility function for resolving the sign ambiguity in SVD\n",
    "    http://stats.stackexchange.com/q/34396/115202\n",
    "    \"\"\"\n",
    "    signs = np.sign(A) * np.sign(B)\n",
    "    return A, B * signs\n",
    "  \n",
    "np.allclose(*flip_signs(PC_svd, pc_df_petals.values)) # ensure that it is euivalent to the one computer using EVD"
   ]
  },
  {
   "cell_type": "markdown",
   "metadata": {
    "colab_type": "text",
    "id": "eu4m5UHiYNAj"
   },
   "source": [
    "Task 3: Write a function **reduce_pca_eigen**. It has two input arguments: 1) a **mean-normalized** dataframe **X** of dimension $n \\times d$, where $n$ is the number of samples and $d$ is the number of features. 2) the number components **k**. The function output of the function are the eigenvalues of the covariance matrix and the reduced version of **X**\n",
    "\n"
   ]
  },
  {
   "cell_type": "code",
   "execution_count": 80,
   "metadata": {
    "colab": {},
    "colab_type": "code",
    "id": "9V0V4z69YKpK"
   },
   "outputs": [
    {
     "name": "stdout",
     "output_type": "stream",
     "text": [
      "[0.81330494 0.04870314]\n"
     ]
    },
    {
     "data": {
      "text/html": [
       "<div>\n",
       "<style scoped>\n",
       "    .dataframe tbody tr th:only-of-type {\n",
       "        vertical-align: middle;\n",
       "    }\n",
       "\n",
       "    .dataframe tbody tr th {\n",
       "        vertical-align: top;\n",
       "    }\n",
       "\n",
       "    .dataframe thead th {\n",
       "        text-align: right;\n",
       "    }\n",
       "</style>\n",
       "<table border=\"1\" class=\"dataframe\">\n",
       "  <thead>\n",
       "    <tr style=\"text-align: right;\">\n",
       "      <th></th>\n",
       "      <th>0</th>\n",
       "    </tr>\n",
       "  </thead>\n",
       "  <tbody>\n",
       "    <tr>\n",
       "      <th>50</th>\n",
       "      <td>-0.301975</td>\n",
       "    </tr>\n",
       "    <tr>\n",
       "      <th>51</th>\n",
       "      <td>-0.442427</td>\n",
       "    </tr>\n",
       "    <tr>\n",
       "      <th>52</th>\n",
       "      <td>-0.078510</td>\n",
       "    </tr>\n",
       "    <tr>\n",
       "      <th>53</th>\n",
       "      <td>-0.980336</td>\n",
       "    </tr>\n",
       "    <tr>\n",
       "      <th>54</th>\n",
       "      <td>-0.351448</td>\n",
       "    </tr>\n",
       "    <tr>\n",
       "      <th>55</th>\n",
       "      <td>-0.525440</td>\n",
       "    </tr>\n",
       "    <tr>\n",
       "      <th>56</th>\n",
       "      <td>-0.218962</td>\n",
       "    </tr>\n",
       "    <tr>\n",
       "      <th>57</th>\n",
       "      <td>-1.741709</td>\n",
       "    </tr>\n",
       "    <tr>\n",
       "      <th>58</th>\n",
       "      <td>-0.434461</td>\n",
       "    </tr>\n",
       "    <tr>\n",
       "      <th>59</th>\n",
       "      <td>-1.029808</td>\n",
       "    </tr>\n",
       "    <tr>\n",
       "      <th>60</th>\n",
       "      <td>-1.559751</td>\n",
       "    </tr>\n",
       "    <tr>\n",
       "      <th>61</th>\n",
       "      <td>-0.715364</td>\n",
       "    </tr>\n",
       "    <tr>\n",
       "      <th>62</th>\n",
       "      <td>-1.104855</td>\n",
       "    </tr>\n",
       "    <tr>\n",
       "      <th>63</th>\n",
       "      <td>-0.301975</td>\n",
       "    </tr>\n",
       "    <tr>\n",
       "      <th>64</th>\n",
       "      <td>-1.344252</td>\n",
       "    </tr>\n",
       "    <tr>\n",
       "      <th>65</th>\n",
       "      <td>-0.574913</td>\n",
       "    </tr>\n",
       "    <tr>\n",
       "      <th>66</th>\n",
       "      <td>-0.442427</td>\n",
       "    </tr>\n",
       "    <tr>\n",
       "      <th>67</th>\n",
       "      <td>-1.013876</td>\n",
       "    </tr>\n",
       "    <tr>\n",
       "      <th>68</th>\n",
       "      <td>-0.442427</td>\n",
       "    </tr>\n",
       "    <tr>\n",
       "      <th>69</th>\n",
       "      <td>-1.154328</td>\n",
       "    </tr>\n",
       "    <tr>\n",
       "      <th>70</th>\n",
       "      <td>-0.044970</td>\n",
       "    </tr>\n",
       "    <tr>\n",
       "      <th>71</th>\n",
       "      <td>-0.980336</td>\n",
       "    </tr>\n",
       "    <tr>\n",
       "      <th>72</th>\n",
       "      <td>-0.078510</td>\n",
       "    </tr>\n",
       "    <tr>\n",
       "      <th>73</th>\n",
       "      <td>-0.384988</td>\n",
       "    </tr>\n",
       "    <tr>\n",
       "      <th>74</th>\n",
       "      <td>-0.707398</td>\n",
       "    </tr>\n",
       "    <tr>\n",
       "      <th>75</th>\n",
       "      <td>-0.574913</td>\n",
       "    </tr>\n",
       "    <tr>\n",
       "      <th>76</th>\n",
       "      <td>-0.210996</td>\n",
       "    </tr>\n",
       "    <tr>\n",
       "      <th>77</th>\n",
       "      <td>0.095482</td>\n",
       "    </tr>\n",
       "    <tr>\n",
       "      <th>78</th>\n",
       "      <td>-0.442427</td>\n",
       "    </tr>\n",
       "    <tr>\n",
       "      <th>79</th>\n",
       "      <td>-1.559751</td>\n",
       "    </tr>\n",
       "    <tr>\n",
       "      <th>...</th>\n",
       "      <td>...</td>\n",
       "    </tr>\n",
       "    <tr>\n",
       "      <th>120</th>\n",
       "      <td>0.981375</td>\n",
       "    </tr>\n",
       "    <tr>\n",
       "      <th>121</th>\n",
       "      <td>0.129022</td>\n",
       "    </tr>\n",
       "    <tr>\n",
       "      <th>122</th>\n",
       "      <td>1.766647</td>\n",
       "    </tr>\n",
       "    <tr>\n",
       "      <th>123</th>\n",
       "      <td>0.046009</td>\n",
       "    </tr>\n",
       "    <tr>\n",
       "      <th>124</th>\n",
       "      <td>0.898362</td>\n",
       "    </tr>\n",
       "    <tr>\n",
       "      <th>125</th>\n",
       "      <td>1.046780</td>\n",
       "    </tr>\n",
       "    <tr>\n",
       "      <th>126</th>\n",
       "      <td>-0.044970</td>\n",
       "    </tr>\n",
       "    <tr>\n",
       "      <th>127</th>\n",
       "      <td>0.046009</td>\n",
       "    </tr>\n",
       "    <tr>\n",
       "      <th>128</th>\n",
       "      <td>0.807383</td>\n",
       "    </tr>\n",
       "    <tr>\n",
       "      <th>129</th>\n",
       "      <td>0.781809</td>\n",
       "    </tr>\n",
       "    <tr>\n",
       "      <th>130</th>\n",
       "      <td>1.179266</td>\n",
       "    </tr>\n",
       "    <tr>\n",
       "      <th>131</th>\n",
       "      <td>1.493710</td>\n",
       "    </tr>\n",
       "    <tr>\n",
       "      <th>132</th>\n",
       "      <td>0.848890</td>\n",
       "    </tr>\n",
       "    <tr>\n",
       "      <th>133</th>\n",
       "      <td>0.103448</td>\n",
       "    </tr>\n",
       "    <tr>\n",
       "      <th>134</th>\n",
       "      <td>0.516837</td>\n",
       "    </tr>\n",
       "    <tr>\n",
       "      <th>135</th>\n",
       "      <td>1.345292</td>\n",
       "    </tr>\n",
       "    <tr>\n",
       "      <th>136</th>\n",
       "      <td>0.931903</td>\n",
       "    </tr>\n",
       "    <tr>\n",
       "      <th>137</th>\n",
       "      <td>0.591884</td>\n",
       "    </tr>\n",
       "    <tr>\n",
       "      <th>138</th>\n",
       "      <td>-0.044970</td>\n",
       "    </tr>\n",
       "    <tr>\n",
       "      <th>139</th>\n",
       "      <td>0.625425</td>\n",
       "    </tr>\n",
       "    <tr>\n",
       "      <th>140</th>\n",
       "      <td>0.931903</td>\n",
       "    </tr>\n",
       "    <tr>\n",
       "      <th>141</th>\n",
       "      <td>0.435500</td>\n",
       "    </tr>\n",
       "    <tr>\n",
       "      <th>142</th>\n",
       "      <td>0.269474</td>\n",
       "    </tr>\n",
       "    <tr>\n",
       "      <th>143</th>\n",
       "      <td>1.163334</td>\n",
       "    </tr>\n",
       "    <tr>\n",
       "      <th>144</th>\n",
       "      <td>1.064388</td>\n",
       "    </tr>\n",
       "    <tr>\n",
       "      <th>145</th>\n",
       "      <td>0.526480</td>\n",
       "    </tr>\n",
       "    <tr>\n",
       "      <th>146</th>\n",
       "      <td>0.178495</td>\n",
       "    </tr>\n",
       "    <tr>\n",
       "      <th>147</th>\n",
       "      <td>0.401960</td>\n",
       "    </tr>\n",
       "    <tr>\n",
       "      <th>148</th>\n",
       "      <td>0.708438</td>\n",
       "    </tr>\n",
       "    <tr>\n",
       "      <th>149</th>\n",
       "      <td>0.227968</td>\n",
       "    </tr>\n",
       "  </tbody>\n",
       "</table>\n",
       "<p>100 rows × 1 columns</p>\n",
       "</div>"
      ],
      "text/plain": [
       "            0\n",
       "50  -0.301975\n",
       "51  -0.442427\n",
       "52  -0.078510\n",
       "53  -0.980336\n",
       "54  -0.351448\n",
       "55  -0.525440\n",
       "56  -0.218962\n",
       "57  -1.741709\n",
       "58  -0.434461\n",
       "59  -1.029808\n",
       "60  -1.559751\n",
       "61  -0.715364\n",
       "62  -1.104855\n",
       "63  -0.301975\n",
       "64  -1.344252\n",
       "65  -0.574913\n",
       "66  -0.442427\n",
       "67  -1.013876\n",
       "68  -0.442427\n",
       "69  -1.154328\n",
       "70  -0.044970\n",
       "71  -0.980336\n",
       "72  -0.078510\n",
       "73  -0.384988\n",
       "74  -0.707398\n",
       "75  -0.574913\n",
       "76  -0.210996\n",
       "77   0.095482\n",
       "78  -0.442427\n",
       "79  -1.559751\n",
       "..        ...\n",
       "120  0.981375\n",
       "121  0.129022\n",
       "122  1.766647\n",
       "123  0.046009\n",
       "124  0.898362\n",
       "125  1.046780\n",
       "126 -0.044970\n",
       "127  0.046009\n",
       "128  0.807383\n",
       "129  0.781809\n",
       "130  1.179266\n",
       "131  1.493710\n",
       "132  0.848890\n",
       "133  0.103448\n",
       "134  0.516837\n",
       "135  1.345292\n",
       "136  0.931903\n",
       "137  0.591884\n",
       "138 -0.044970\n",
       "139  0.625425\n",
       "140  0.931903\n",
       "141  0.435500\n",
       "142  0.269474\n",
       "143  1.163334\n",
       "144  1.064388\n",
       "145  0.526480\n",
       "146  0.178495\n",
       "147  0.401960\n",
       "148  0.708438\n",
       "149  0.227968\n",
       "\n",
       "[100 rows x 1 columns]"
      ]
     },
     "execution_count": 80,
     "metadata": {},
     "output_type": "execute_result"
    }
   ],
   "source": [
    "def reduce_pca_eigen(X, k):\n",
    "    covar = X.cov()\n",
    "    eigvals, eigvecs = la.eig(covar)\n",
    "    print(eigvals)\n",
    "    res = X.dot(eigvecs)\n",
    "    return res.iloc[:, :k]\n",
    "reduce_pca_eigen(df_petals_norm, 1)"
   ]
  },
  {
   "cell_type": "markdown",
   "metadata": {
    "colab_type": "text",
    "id": "7OhjRKaWqEmN"
   },
   "source": [
    "Task 4: Write a function **reduce_pca_svd**. It has two input arguments: 1) a **mean-normalized** dataframe **X** of dimension $n \\times d$, where $n$ is the number of samples and $d$ is the number of features. 2) the number components **k**. The output of the function is the reduced version of **X** using the SVD method."
   ]
  },
  {
   "cell_type": "code",
   "execution_count": 81,
   "metadata": {
    "colab": {},
    "colab_type": "code",
    "id": "l2KWnd33aNH_"
   },
   "outputs": [
    {
     "data": {
      "text/html": [
       "<div>\n",
       "<style scoped>\n",
       "    .dataframe tbody tr th:only-of-type {\n",
       "        vertical-align: middle;\n",
       "    }\n",
       "\n",
       "    .dataframe tbody tr th {\n",
       "        vertical-align: top;\n",
       "    }\n",
       "\n",
       "    .dataframe thead th {\n",
       "        text-align: right;\n",
       "    }\n",
       "</style>\n",
       "<table border=\"1\" class=\"dataframe\">\n",
       "  <thead>\n",
       "    <tr style=\"text-align: right;\">\n",
       "      <th></th>\n",
       "      <th>0</th>\n",
       "    </tr>\n",
       "  </thead>\n",
       "  <tbody>\n",
       "    <tr>\n",
       "      <th>50</th>\n",
       "      <td>-0.301975</td>\n",
       "    </tr>\n",
       "    <tr>\n",
       "      <th>51</th>\n",
       "      <td>-0.442427</td>\n",
       "    </tr>\n",
       "    <tr>\n",
       "      <th>52</th>\n",
       "      <td>-0.078510</td>\n",
       "    </tr>\n",
       "    <tr>\n",
       "      <th>53</th>\n",
       "      <td>-0.980336</td>\n",
       "    </tr>\n",
       "    <tr>\n",
       "      <th>54</th>\n",
       "      <td>-0.351448</td>\n",
       "    </tr>\n",
       "    <tr>\n",
       "      <th>55</th>\n",
       "      <td>-0.525440</td>\n",
       "    </tr>\n",
       "    <tr>\n",
       "      <th>56</th>\n",
       "      <td>-0.218962</td>\n",
       "    </tr>\n",
       "    <tr>\n",
       "      <th>57</th>\n",
       "      <td>-1.741709</td>\n",
       "    </tr>\n",
       "    <tr>\n",
       "      <th>58</th>\n",
       "      <td>-0.434461</td>\n",
       "    </tr>\n",
       "    <tr>\n",
       "      <th>59</th>\n",
       "      <td>-1.029808</td>\n",
       "    </tr>\n",
       "    <tr>\n",
       "      <th>60</th>\n",
       "      <td>-1.559751</td>\n",
       "    </tr>\n",
       "    <tr>\n",
       "      <th>61</th>\n",
       "      <td>-0.715364</td>\n",
       "    </tr>\n",
       "    <tr>\n",
       "      <th>62</th>\n",
       "      <td>-1.104855</td>\n",
       "    </tr>\n",
       "    <tr>\n",
       "      <th>63</th>\n",
       "      <td>-0.301975</td>\n",
       "    </tr>\n",
       "    <tr>\n",
       "      <th>64</th>\n",
       "      <td>-1.344252</td>\n",
       "    </tr>\n",
       "    <tr>\n",
       "      <th>65</th>\n",
       "      <td>-0.574913</td>\n",
       "    </tr>\n",
       "    <tr>\n",
       "      <th>66</th>\n",
       "      <td>-0.442427</td>\n",
       "    </tr>\n",
       "    <tr>\n",
       "      <th>67</th>\n",
       "      <td>-1.013876</td>\n",
       "    </tr>\n",
       "    <tr>\n",
       "      <th>68</th>\n",
       "      <td>-0.442427</td>\n",
       "    </tr>\n",
       "    <tr>\n",
       "      <th>69</th>\n",
       "      <td>-1.154328</td>\n",
       "    </tr>\n",
       "    <tr>\n",
       "      <th>70</th>\n",
       "      <td>-0.044970</td>\n",
       "    </tr>\n",
       "    <tr>\n",
       "      <th>71</th>\n",
       "      <td>-0.980336</td>\n",
       "    </tr>\n",
       "    <tr>\n",
       "      <th>72</th>\n",
       "      <td>-0.078510</td>\n",
       "    </tr>\n",
       "    <tr>\n",
       "      <th>73</th>\n",
       "      <td>-0.384988</td>\n",
       "    </tr>\n",
       "    <tr>\n",
       "      <th>74</th>\n",
       "      <td>-0.707398</td>\n",
       "    </tr>\n",
       "    <tr>\n",
       "      <th>75</th>\n",
       "      <td>-0.574913</td>\n",
       "    </tr>\n",
       "    <tr>\n",
       "      <th>76</th>\n",
       "      <td>-0.210996</td>\n",
       "    </tr>\n",
       "    <tr>\n",
       "      <th>77</th>\n",
       "      <td>0.095482</td>\n",
       "    </tr>\n",
       "    <tr>\n",
       "      <th>78</th>\n",
       "      <td>-0.442427</td>\n",
       "    </tr>\n",
       "    <tr>\n",
       "      <th>79</th>\n",
       "      <td>-1.559751</td>\n",
       "    </tr>\n",
       "    <tr>\n",
       "      <th>...</th>\n",
       "      <td>...</td>\n",
       "    </tr>\n",
       "    <tr>\n",
       "      <th>120</th>\n",
       "      <td>0.981375</td>\n",
       "    </tr>\n",
       "    <tr>\n",
       "      <th>121</th>\n",
       "      <td>0.129022</td>\n",
       "    </tr>\n",
       "    <tr>\n",
       "      <th>122</th>\n",
       "      <td>1.766647</td>\n",
       "    </tr>\n",
       "    <tr>\n",
       "      <th>123</th>\n",
       "      <td>0.046009</td>\n",
       "    </tr>\n",
       "    <tr>\n",
       "      <th>124</th>\n",
       "      <td>0.898362</td>\n",
       "    </tr>\n",
       "    <tr>\n",
       "      <th>125</th>\n",
       "      <td>1.046780</td>\n",
       "    </tr>\n",
       "    <tr>\n",
       "      <th>126</th>\n",
       "      <td>-0.044970</td>\n",
       "    </tr>\n",
       "    <tr>\n",
       "      <th>127</th>\n",
       "      <td>0.046009</td>\n",
       "    </tr>\n",
       "    <tr>\n",
       "      <th>128</th>\n",
       "      <td>0.807383</td>\n",
       "    </tr>\n",
       "    <tr>\n",
       "      <th>129</th>\n",
       "      <td>0.781809</td>\n",
       "    </tr>\n",
       "    <tr>\n",
       "      <th>130</th>\n",
       "      <td>1.179266</td>\n",
       "    </tr>\n",
       "    <tr>\n",
       "      <th>131</th>\n",
       "      <td>1.493710</td>\n",
       "    </tr>\n",
       "    <tr>\n",
       "      <th>132</th>\n",
       "      <td>0.848890</td>\n",
       "    </tr>\n",
       "    <tr>\n",
       "      <th>133</th>\n",
       "      <td>0.103448</td>\n",
       "    </tr>\n",
       "    <tr>\n",
       "      <th>134</th>\n",
       "      <td>0.516837</td>\n",
       "    </tr>\n",
       "    <tr>\n",
       "      <th>135</th>\n",
       "      <td>1.345292</td>\n",
       "    </tr>\n",
       "    <tr>\n",
       "      <th>136</th>\n",
       "      <td>0.931903</td>\n",
       "    </tr>\n",
       "    <tr>\n",
       "      <th>137</th>\n",
       "      <td>0.591884</td>\n",
       "    </tr>\n",
       "    <tr>\n",
       "      <th>138</th>\n",
       "      <td>-0.044970</td>\n",
       "    </tr>\n",
       "    <tr>\n",
       "      <th>139</th>\n",
       "      <td>0.625425</td>\n",
       "    </tr>\n",
       "    <tr>\n",
       "      <th>140</th>\n",
       "      <td>0.931903</td>\n",
       "    </tr>\n",
       "    <tr>\n",
       "      <th>141</th>\n",
       "      <td>0.435500</td>\n",
       "    </tr>\n",
       "    <tr>\n",
       "      <th>142</th>\n",
       "      <td>0.269474</td>\n",
       "    </tr>\n",
       "    <tr>\n",
       "      <th>143</th>\n",
       "      <td>1.163334</td>\n",
       "    </tr>\n",
       "    <tr>\n",
       "      <th>144</th>\n",
       "      <td>1.064388</td>\n",
       "    </tr>\n",
       "    <tr>\n",
       "      <th>145</th>\n",
       "      <td>0.526480</td>\n",
       "    </tr>\n",
       "    <tr>\n",
       "      <th>146</th>\n",
       "      <td>0.178495</td>\n",
       "    </tr>\n",
       "    <tr>\n",
       "      <th>147</th>\n",
       "      <td>0.401960</td>\n",
       "    </tr>\n",
       "    <tr>\n",
       "      <th>148</th>\n",
       "      <td>0.708438</td>\n",
       "    </tr>\n",
       "    <tr>\n",
       "      <th>149</th>\n",
       "      <td>0.227968</td>\n",
       "    </tr>\n",
       "  </tbody>\n",
       "</table>\n",
       "<p>100 rows × 1 columns</p>\n",
       "</div>"
      ],
      "text/plain": [
       "            0\n",
       "50  -0.301975\n",
       "51  -0.442427\n",
       "52  -0.078510\n",
       "53  -0.980336\n",
       "54  -0.351448\n",
       "55  -0.525440\n",
       "56  -0.218962\n",
       "57  -1.741709\n",
       "58  -0.434461\n",
       "59  -1.029808\n",
       "60  -1.559751\n",
       "61  -0.715364\n",
       "62  -1.104855\n",
       "63  -0.301975\n",
       "64  -1.344252\n",
       "65  -0.574913\n",
       "66  -0.442427\n",
       "67  -1.013876\n",
       "68  -0.442427\n",
       "69  -1.154328\n",
       "70  -0.044970\n",
       "71  -0.980336\n",
       "72  -0.078510\n",
       "73  -0.384988\n",
       "74  -0.707398\n",
       "75  -0.574913\n",
       "76  -0.210996\n",
       "77   0.095482\n",
       "78  -0.442427\n",
       "79  -1.559751\n",
       "..        ...\n",
       "120  0.981375\n",
       "121  0.129022\n",
       "122  1.766647\n",
       "123  0.046009\n",
       "124  0.898362\n",
       "125  1.046780\n",
       "126 -0.044970\n",
       "127  0.046009\n",
       "128  0.807383\n",
       "129  0.781809\n",
       "130  1.179266\n",
       "131  1.493710\n",
       "132  0.848890\n",
       "133  0.103448\n",
       "134  0.516837\n",
       "135  1.345292\n",
       "136  0.931903\n",
       "137  0.591884\n",
       "138 -0.044970\n",
       "139  0.625425\n",
       "140  0.931903\n",
       "141  0.435500\n",
       "142  0.269474\n",
       "143  1.163334\n",
       "144  1.064388\n",
       "145  0.526480\n",
       "146  0.178495\n",
       "147  0.401960\n",
       "148  0.708438\n",
       "149  0.227968\n",
       "\n",
       "[100 rows x 1 columns]"
      ]
     },
     "execution_count": 81,
     "metadata": {},
     "output_type": "execute_result"
    }
   ],
   "source": [
    "def reduce_pca_svd(X, k):\n",
    "    U, s, VT = la.svd(X)\n",
    "    res = X.dot(VT.T)\n",
    "    return res.iloc[:, :k]\n",
    "reduce_pca_svd(df_petals_norm, 1)"
   ]
  },
  {
   "cell_type": "markdown",
   "metadata": {
    "colab_type": "text",
    "id": "fwOdZU032wlC"
   },
   "source": [
    "Task 5: Verify that both functions return the same answer when **df_petal_norm** is reduced to dimension 1 "
   ]
  },
  {
   "cell_type": "code",
   "execution_count": 82,
   "metadata": {
    "colab": {},
    "colab_type": "code",
    "id": "dztvGGizix6R"
   },
   "outputs": [
    {
     "name": "stdout",
     "output_type": "stream",
     "text": [
      "[0.81330494 0.04870314]\n"
     ]
    },
    {
     "data": {
      "text/plain": [
       "True"
      ]
     },
     "execution_count": 82,
     "metadata": {},
     "output_type": "execute_result"
    }
   ],
   "source": [
    "np.allclose(reduce_pca_eigen(df_petals_norm, 1), reduce_pca_svd(df_petals_norm, 1))"
   ]
  },
  {
   "cell_type": "markdown",
   "metadata": {
    "colab_type": "text",
    "id": "1mpDAYT-em8F"
   },
   "source": [
    "Task 6: Take the whole Iris dataset and reduce its dimension from 4 to 2 using either of those functions. Then make a scatter plot of the results, such that the data points are colored in accordance with their true label/variety. If your functions are implemented correctly, the first 3 entries of the reduced dataframe would be:\n",
    "(-2.684207 -0.326607), (-2.715391  0.169557), (-2.889820  0.137346)"
   ]
  },
  {
   "cell_type": "code",
   "execution_count": 83,
   "metadata": {
    "colab": {},
    "colab_type": "code",
    "id": "gu292Pz6enRm"
   },
   "outputs": [
    {
     "name": "stdout",
     "output_type": "stream",
     "text": [
      "          0         1\n",
      "0 -2.684207 -0.326607\n",
      "1 -2.715391  0.169557\n",
      "2 -2.889820  0.137346\n"
     ]
    },
    {
     "data": {
      "text/plain": [
       "<matplotlib.axes._subplots.AxesSubplot at 0x225dac08470>"
      ]
     },
     "execution_count": 83,
     "metadata": {},
     "output_type": "execute_result"
    },
    {
     "data": {
      "image/png": "[encoded data removed]",
      "text/plain": [
       "<Figure size 432x288 with 1 Axes>"
      ]
     },
     "metadata": {
      "needs_background": "light"
     },
     "output_type": "display_data"
    }
   ],
   "source": [
    "di = df_iris.iloc[:, :4]\n",
    "m = di.mean()\n",
    "ans = di\n",
    "for i in range(len(ans)):\n",
    "    ans.values[i] = ans.values[i] - m\n",
    "res = reduce_pca_svd(ans, 2)\n",
    "print(res.head(3))\n",
    "res.plot.scatter(0, 1)"
   ]
  },
  {
   "cell_type": "markdown",
   "metadata": {
    "colab_type": "text",
    "id": "o0zQkzEysbHe"
   },
   "source": [
    "Task 7: Make a line plot for the cumulative sum of explained variances for Iris dataset.  As the number of components increases, the total explained variance of those components should increase as well."
   ]
  },
  {
   "cell_type": "code",
   "execution_count": 84,
   "metadata": {
    "colab": {},
    "colab_type": "code",
    "id": "k78sUkAQqWGQ"
   },
   "outputs": [
    {
     "name": "stdout",
     "output_type": "stream",
     "text": [
      "[0.9246162071742683, 0.9776317750248034, 0.9948169145498101, 1.0000000000000002]\n"
     ]
    },
    {
     "data": {
      "text/plain": [
       "[<matplotlib.lines.Line2D at 0x225d8d38358>]"
      ]
     },
     "execution_count": 84,
     "metadata": {},
     "output_type": "execute_result"
    },
    {
     "data": {
      "image/png": "[encoded data removed]",
      "text/plain": [
       "<Figure size 432x288 with 1 Axes>"
      ]
     },
     "metadata": {
      "needs_background": "light"
     },
     "output_type": "display_data"
    }
   ],
   "source": [
    "di = df_iris.iloc[:, :4]\n",
    "c = di.cov()\n",
    "val, vec = la.eig(c)\n",
    "\n",
    "expV = []\n",
    "for i in range(len(val)):    \n",
    "    expV.append(val[i]/val.sum())\n",
    "    \n",
    "res = 0\n",
    "cumV = []\n",
    "for i in range(len(expV)):\n",
    "    res += expV[i]\n",
    "    cumV.append(res)\n",
    "print(cumV)\n",
    "\n",
    "plt.plot(cumV)"
   ]
  },
  {
   "cell_type": "markdown",
   "metadata": {
    "colab_type": "text",
    "id": "Zw2yrKPSDkiZ"
   },
   "source": [
    "## Word embeddings\n",
    "Word embeddings are vector representations of words.\n",
    "They are considered building blocks of natural language processing (NLP) applications such as machine translation, topic classification, sentiment analysis, summarization, named-entity recognition and so on.\n",
    "The word embeddings are generated by special models that map words into vectors of numerical values.\n",
    "\n",
    "While the recent word embedding models are dominated by deep learning based approaches, the very first models were based on word co-occurance statistics and matrix decomposition.\n",
    "One of such models is so called latent semantic analysis (LSA) or latent semantic indexing (LSI).\n",
    "LSA assumes that words with a similar meaning should appear with a similar distribution among documents.\n",
    "Therefore, LSA uses common linear algebra techniques to learn the conceptual correlations in a collection of text. \n",
    "In general, the process involves constructing a weighted term-document matrix, performing a Singular Value Decomposition on that matrix, and using the matrix to identify the concepts contained in the text."
   ]
  },
  {
   "cell_type": "markdown",
   "metadata": {
    "colab_type": "text",
    "id": "cISh6DiJEa3B"
   },
   "source": [
    "### Term-document matrix\n",
    "LSA begins by constructing a term-document matrix, $A$ in order to identify the occurrences of the $m$ unique terms within a collection of $n$ documents. In a term-document matrix, each term is represented by a row, and each document is represented by a column. Each matrix cell, $a_{ij}$, represents the number of times the associated term $i$ appears in the indicated document $j$, i.e. term frequency.\n",
    "In other words, $A$ is the supplied a $m \\times n$ weighted matrix of term frequencies in a collection of text, where $m$ is the number of unique terms, and $n$ is the number of documents.\n",
    "\n",
    "\n"
   ]
  },
  {
   "cell_type": "markdown",
   "metadata": {
    "colab_type": "text",
    "id": "jH4Kzi3xI6Zk"
   },
   "source": [
    "### The Dataset\n",
    "In this task, we will be using [20 newsgroups](https://archive.ics.uci.edu/ml/datasets/Twenty+Newsgroups) dataset.\n",
    "This dataset is a collection of around 18,000 newsgroup posts on 20 topics such as computers, science and so on.\n",
    "For simplicity, will be using only small subset of documents from 'computers' topic.\n",
    "We also preprocess the documents, i.e. uppercase to lowercase conversion, removal of some non-alphanumeric symbols and etc.\n",
    "In addition, we put the documents on a single file 'docs.txt' where each line corresponds to one document."
   ]
  },
  {
   "cell_type": "code",
   "execution_count": 85,
   "metadata": {
    "colab": {},
    "colab_type": "code",
    "id": "oTCkluJzEaYk"
   },
   "outputs": [
    {
     "name": "stdout",
     "output_type": "stream",
     "text": [
      "Type: <class 'str'>\n",
      "Size: 862854\n"
     ]
    },
    {
     "data": {
      "text/plain": [
       "'from article afmbww@vicunaocunixonca by steve frampton frampton@vicunaocunixonca i was wondering is the kermit package the actual package not a yes in the usual ftp sites yek chong\\n'"
      ]
     },
     "execution_count": 85,
     "metadata": {},
     "output_type": "execute_result"
    }
   ],
   "source": [
    "# Reading a file into the string, note that every line of docs.txt correspond to one document\n",
    "with open('docs.txt') as f:\n",
    "   raw_data = f.read()\n",
    "\n",
    "print(\"Type: \" + str(type(raw_data)))  # type of the data\n",
    "print(\"Size: \" + str(len(raw_data)))   # number of characters\n",
    "raw_data[0:181]                          # print a small snippet of the data"
   ]
  },
  {
   "cell_type": "markdown",
   "metadata": {
    "colab_type": "text",
    "id": "VL799eiwFNXw"
   },
   "source": [
    "Task 1: Split file into documents using newline sybol '\\n' as a delimiter, store the first 100 documents in **docs100** and print the first document."
   ]
  },
  {
   "cell_type": "code",
   "execution_count": 86,
   "metadata": {
    "colab": {},
    "colab_type": "code",
    "id": "q44iuzEZFNlo"
   },
   "outputs": [
    {
     "data": {
      "text/plain": [
       "'from article afmbww@vicunaocunixonca by steve frampton frampton@vicunaocunixonca i was wondering is the kermit package the actual package not a yes in the usual ftp sites yek chong'"
      ]
     },
     "execution_count": 86,
     "metadata": {},
     "output_type": "execute_result"
    }
   ],
   "source": [
    "documents = raw_data.split('\\n')\n",
    "documents = [d for d in documents if d != '']\n",
    "docs100 = []\n",
    "for i in range(100):\n",
    "    docs100.append(documents[i])\n",
    "docs100[0]"
   ]
  },
  {
   "cell_type": "markdown",
   "metadata": {
    "colab_type": "text",
    "id": "MZ8yITF2FNtf"
   },
   "source": [
    "Task 2: Create a dataframe **term_doc_df** to represent a term-document matrix. Set the index names to unique words in the dataset. The dataframe size should be: 3349 rows × 100 columns.\n",
    "The output of term_doc_df.loc['windows'][:10] = [0, 0, 2, 0, 2, 0, 1, 3, 0, 3]\n"
   ]
  },
  {
   "cell_type": "code",
   "execution_count": 87,
   "metadata": {
    "colab": {},
    "colab_type": "code",
    "id": "hdxRxfZYKNy0"
   },
   "outputs": [],
   "source": [
    "words = []\n",
    "for string in docs100:\n",
    "    for w in string.split():\n",
    "        if w not in words:\n",
    "            words.append(w)\n",
    "\n",
    "dat = []\n",
    "for i in words: \n",
    "    reps = []\n",
    "    for s in docs100: \n",
    "        str1 = s.split()\n",
    "        if i in str1:\n",
    "            reps.append(str1.count(i))\n",
    "        else:\n",
    "            reps.append(0)\n",
    "    dat.append(reps)"
   ]
  },
  {
   "cell_type": "code",
   "execution_count": 88,
   "metadata": {},
   "outputs": [
    {
     "data": {
      "text/plain": [
       "1     0\n",
       "2     0\n",
       "3     2\n",
       "4     0\n",
       "5     2\n",
       "6     0\n",
       "7     1\n",
       "8     3\n",
       "9     0\n",
       "10    3\n",
       "Name: windows, dtype: int64"
      ]
     },
     "execution_count": 88,
     "metadata": {},
     "output_type": "execute_result"
    }
   ],
   "source": [
    "ent = {'Term': words, 'Document': dat}\n",
    "t1 = pd.DataFrame(ent)\n",
    "\n",
    "cnames = []\n",
    "for i in range(1, 101):\n",
    "    cnames.append(i)\n",
    "\n",
    "term_doc_df = pd.DataFrame(t1.Document.tolist(), columns=cnames, index = words)\n",
    "term_doc_df.loc['windows'][:10]"
   ]
  },
  {
   "cell_type": "markdown",
   "metadata": {
    "colab_type": "text",
    "id": "dRgyRMO9KUib"
   },
   "source": [
    "Task 3: To perform LSA, we can use our function **reduce_pca_svd(X, k)**.\n",
    "Note, we don't need to center the data in LSA because we want to keep term frequencies as positive numbers."
   ]
  },
  {
   "cell_type": "code",
   "execution_count": 89,
   "metadata": {
    "colab": {},
    "colab_type": "code",
    "id": "7vKpWuBuK1nJ"
   },
   "outputs": [
    {
     "data": {
      "text/html": [
       "<div>\n",
       "<style scoped>\n",
       "    .dataframe tbody tr th:only-of-type {\n",
       "        vertical-align: middle;\n",
       "    }\n",
       "\n",
       "    .dataframe tbody tr th {\n",
       "        vertical-align: top;\n",
       "    }\n",
       "\n",
       "    .dataframe thead th {\n",
       "        text-align: right;\n",
       "    }\n",
       "</style>\n",
       "<table border=\"1\" class=\"dataframe\">\n",
       "  <thead>\n",
       "    <tr style=\"text-align: right;\">\n",
       "      <th></th>\n",
       "      <th>0</th>\n",
       "      <th>1</th>\n",
       "      <th>2</th>\n",
       "      <th>3</th>\n",
       "      <th>4</th>\n",
       "      <th>5</th>\n",
       "      <th>6</th>\n",
       "      <th>7</th>\n",
       "      <th>8</th>\n",
       "      <th>9</th>\n",
       "      <th>10</th>\n",
       "      <th>11</th>\n",
       "      <th>12</th>\n",
       "      <th>13</th>\n",
       "      <th>14</th>\n",
       "      <th>15</th>\n",
       "      <th>16</th>\n",
       "      <th>17</th>\n",
       "      <th>18</th>\n",
       "      <th>19</th>\n",
       "    </tr>\n",
       "  </thead>\n",
       "  <tbody>\n",
       "    <tr>\n",
       "      <th>from</th>\n",
       "      <td>-24.455618</td>\n",
       "      <td>2.922943</td>\n",
       "      <td>4.713701</td>\n",
       "      <td>-3.029840</td>\n",
       "      <td>-2.917075</td>\n",
       "      <td>-1.753806</td>\n",
       "      <td>0.038373</td>\n",
       "      <td>-1.098688</td>\n",
       "      <td>-0.882087</td>\n",
       "      <td>3.153923</td>\n",
       "      <td>1.924573</td>\n",
       "      <td>0.275913</td>\n",
       "      <td>-0.398298</td>\n",
       "      <td>1.268749</td>\n",
       "      <td>0.001621</td>\n",
       "      <td>0.520877</td>\n",
       "      <td>-1.341756</td>\n",
       "      <td>0.946932</td>\n",
       "      <td>-0.293432</td>\n",
       "      <td>-2.047359</td>\n",
       "    </tr>\n",
       "    <tr>\n",
       "      <th>article</th>\n",
       "      <td>-1.868465</td>\n",
       "      <td>0.434869</td>\n",
       "      <td>0.939232</td>\n",
       "      <td>2.228989</td>\n",
       "      <td>-1.120086</td>\n",
       "      <td>-2.219989</td>\n",
       "      <td>0.781105</td>\n",
       "      <td>-0.039510</td>\n",
       "      <td>-0.437906</td>\n",
       "      <td>-1.018974</td>\n",
       "      <td>1.802445</td>\n",
       "      <td>1.081397</td>\n",
       "      <td>0.326990</td>\n",
       "      <td>-0.118236</td>\n",
       "      <td>0.135365</td>\n",
       "      <td>-0.981863</td>\n",
       "      <td>-0.184723</td>\n",
       "      <td>0.058139</td>\n",
       "      <td>0.592562</td>\n",
       "      <td>-1.041280</td>\n",
       "    </tr>\n",
       "    <tr>\n",
       "      <th>afmbww@vicunaocunixonca</th>\n",
       "      <td>-0.007591</td>\n",
       "      <td>0.005603</td>\n",
       "      <td>-0.002079</td>\n",
       "      <td>-0.011536</td>\n",
       "      <td>0.001190</td>\n",
       "      <td>-0.011774</td>\n",
       "      <td>0.011968</td>\n",
       "      <td>-0.010100</td>\n",
       "      <td>0.003757</td>\n",
       "      <td>-0.016248</td>\n",
       "      <td>0.008771</td>\n",
       "      <td>-0.006857</td>\n",
       "      <td>0.006822</td>\n",
       "      <td>-0.002467</td>\n",
       "      <td>0.017409</td>\n",
       "      <td>-0.010704</td>\n",
       "      <td>0.018683</td>\n",
       "      <td>-0.028062</td>\n",
       "      <td>0.025569</td>\n",
       "      <td>-0.027593</td>\n",
       "    </tr>\n",
       "    <tr>\n",
       "      <th>by</th>\n",
       "      <td>-6.079164</td>\n",
       "      <td>-0.415758</td>\n",
       "      <td>1.376234</td>\n",
       "      <td>-0.114936</td>\n",
       "      <td>-0.671646</td>\n",
       "      <td>-1.111507</td>\n",
       "      <td>0.895859</td>\n",
       "      <td>0.053826</td>\n",
       "      <td>-0.705222</td>\n",
       "      <td>0.024866</td>\n",
       "      <td>-0.442321</td>\n",
       "      <td>-1.064912</td>\n",
       "      <td>-0.299227</td>\n",
       "      <td>1.684950</td>\n",
       "      <td>-0.293033</td>\n",
       "      <td>-0.315664</td>\n",
       "      <td>1.866012</td>\n",
       "      <td>-2.189423</td>\n",
       "      <td>1.017327</td>\n",
       "      <td>0.940064</td>\n",
       "    </tr>\n",
       "    <tr>\n",
       "      <th>steve</th>\n",
       "      <td>-0.051623</td>\n",
       "      <td>-0.029853</td>\n",
       "      <td>0.059419</td>\n",
       "      <td>0.086802</td>\n",
       "      <td>-0.027232</td>\n",
       "      <td>-0.064897</td>\n",
       "      <td>0.005234</td>\n",
       "      <td>0.013938</td>\n",
       "      <td>0.009886</td>\n",
       "      <td>-0.059393</td>\n",
       "      <td>-0.042467</td>\n",
       "      <td>0.154171</td>\n",
       "      <td>-0.027117</td>\n",
       "      <td>-0.044604</td>\n",
       "      <td>-0.220160</td>\n",
       "      <td>-0.230716</td>\n",
       "      <td>-0.093960</td>\n",
       "      <td>-0.133383</td>\n",
       "      <td>0.163374</td>\n",
       "      <td>0.011848</td>\n",
       "    </tr>\n",
       "    <tr>\n",
       "      <th>frampton</th>\n",
       "      <td>-0.007591</td>\n",
       "      <td>0.005603</td>\n",
       "      <td>-0.002079</td>\n",
       "      <td>-0.011536</td>\n",
       "      <td>0.001190</td>\n",
       "      <td>-0.011774</td>\n",
       "      <td>0.011968</td>\n",
       "      <td>-0.010100</td>\n",
       "      <td>0.003757</td>\n",
       "      <td>-0.016248</td>\n",
       "      <td>0.008771</td>\n",
       "      <td>-0.006857</td>\n",
       "      <td>0.006822</td>\n",
       "      <td>-0.002467</td>\n",
       "      <td>0.017409</td>\n",
       "      <td>-0.010704</td>\n",
       "      <td>0.018683</td>\n",
       "      <td>-0.028062</td>\n",
       "      <td>0.025569</td>\n",
       "      <td>-0.027593</td>\n",
       "    </tr>\n",
       "    <tr>\n",
       "      <th>frampton@vicunaocunixonca</th>\n",
       "      <td>-0.007591</td>\n",
       "      <td>0.005603</td>\n",
       "      <td>-0.002079</td>\n",
       "      <td>-0.011536</td>\n",
       "      <td>0.001190</td>\n",
       "      <td>-0.011774</td>\n",
       "      <td>0.011968</td>\n",
       "      <td>-0.010100</td>\n",
       "      <td>0.003757</td>\n",
       "      <td>-0.016248</td>\n",
       "      <td>0.008771</td>\n",
       "      <td>-0.006857</td>\n",
       "      <td>0.006822</td>\n",
       "      <td>-0.002467</td>\n",
       "      <td>0.017409</td>\n",
       "      <td>-0.010704</td>\n",
       "      <td>0.018683</td>\n",
       "      <td>-0.028062</td>\n",
       "      <td>0.025569</td>\n",
       "      <td>-0.027593</td>\n",
       "    </tr>\n",
       "    <tr>\n",
       "      <th>i</th>\n",
       "      <td>-128.655832</td>\n",
       "      <td>35.833922</td>\n",
       "      <td>-5.340913</td>\n",
       "      <td>26.693804</td>\n",
       "      <td>4.183222</td>\n",
       "      <td>2.645869</td>\n",
       "      <td>-1.720859</td>\n",
       "      <td>-4.143772</td>\n",
       "      <td>-2.793095</td>\n",
       "      <td>4.190268</td>\n",
       "      <td>-3.609753</td>\n",
       "      <td>-2.270390</td>\n",
       "      <td>1.006045</td>\n",
       "      <td>-7.628516</td>\n",
       "      <td>2.204047</td>\n",
       "      <td>3.752621</td>\n",
       "      <td>0.940045</td>\n",
       "      <td>0.091329</td>\n",
       "      <td>3.557613</td>\n",
       "      <td>0.322436</td>\n",
       "    </tr>\n",
       "    <tr>\n",
       "      <th>was</th>\n",
       "      <td>-17.728863</td>\n",
       "      <td>10.503935</td>\n",
       "      <td>-2.628333</td>\n",
       "      <td>0.536415</td>\n",
       "      <td>1.940130</td>\n",
       "      <td>1.759983</td>\n",
       "      <td>-0.095942</td>\n",
       "      <td>-0.373284</td>\n",
       "      <td>-2.586341</td>\n",
       "      <td>1.814087</td>\n",
       "      <td>2.945019</td>\n",
       "      <td>-1.525722</td>\n",
       "      <td>-1.558705</td>\n",
       "      <td>0.314356</td>\n",
       "      <td>-2.639754</td>\n",
       "      <td>-2.311276</td>\n",
       "      <td>0.578089</td>\n",
       "      <td>0.220501</td>\n",
       "      <td>-0.805942</td>\n",
       "      <td>-0.580182</td>\n",
       "    </tr>\n",
       "    <tr>\n",
       "      <th>wondering</th>\n",
       "      <td>-0.099289</td>\n",
       "      <td>-0.011302</td>\n",
       "      <td>0.062209</td>\n",
       "      <td>0.287901</td>\n",
       "      <td>-0.027588</td>\n",
       "      <td>-0.156753</td>\n",
       "      <td>-0.023079</td>\n",
       "      <td>0.032927</td>\n",
       "      <td>-0.196697</td>\n",
       "      <td>-0.086084</td>\n",
       "      <td>0.124016</td>\n",
       "      <td>0.071889</td>\n",
       "      <td>0.269011</td>\n",
       "      <td>-0.344010</td>\n",
       "      <td>-0.024047</td>\n",
       "      <td>-0.186845</td>\n",
       "      <td>0.094757</td>\n",
       "      <td>-0.254049</td>\n",
       "      <td>0.202992</td>\n",
       "      <td>-0.030265</td>\n",
       "    </tr>\n",
       "    <tr>\n",
       "      <th>is</th>\n",
       "      <td>-77.945988</td>\n",
       "      <td>-19.287451</td>\n",
       "      <td>-5.900992</td>\n",
       "      <td>1.310120</td>\n",
       "      <td>-2.028781</td>\n",
       "      <td>-2.146172</td>\n",
       "      <td>0.359655</td>\n",
       "      <td>-0.922004</td>\n",
       "      <td>-1.264434</td>\n",
       "      <td>-5.019596</td>\n",
       "      <td>3.520921</td>\n",
       "      <td>-1.964155</td>\n",
       "      <td>1.467457</td>\n",
       "      <td>-1.626361</td>\n",
       "      <td>3.786615</td>\n",
       "      <td>1.463496</td>\n",
       "      <td>4.782096</td>\n",
       "      <td>-0.421107</td>\n",
       "      <td>1.150711</td>\n",
       "      <td>1.416597</td>\n",
       "    </tr>\n",
       "    <tr>\n",
       "      <th>the</th>\n",
       "      <td>-250.369483</td>\n",
       "      <td>35.298272</td>\n",
       "      <td>-3.686430</td>\n",
       "      <td>-22.730987</td>\n",
       "      <td>4.090659</td>\n",
       "      <td>-3.931544</td>\n",
       "      <td>4.098414</td>\n",
       "      <td>-0.619891</td>\n",
       "      <td>4.407878</td>\n",
       "      <td>-4.643170</td>\n",
       "      <td>-0.445613</td>\n",
       "      <td>-2.941729</td>\n",
       "      <td>0.901962</td>\n",
       "      <td>1.988745</td>\n",
       "      <td>3.093014</td>\n",
       "      <td>-2.569122</td>\n",
       "      <td>-1.632427</td>\n",
       "      <td>0.771144</td>\n",
       "      <td>0.284389</td>\n",
       "      <td>-0.975753</td>\n",
       "    </tr>\n",
       "    <tr>\n",
       "      <th>kermit</th>\n",
       "      <td>-0.739469</td>\n",
       "      <td>-0.900830</td>\n",
       "      <td>0.030043</td>\n",
       "      <td>0.321714</td>\n",
       "      <td>0.631548</td>\n",
       "      <td>0.056235</td>\n",
       "      <td>0.189091</td>\n",
       "      <td>-0.904082</td>\n",
       "      <td>1.112808</td>\n",
       "      <td>-0.019826</td>\n",
       "      <td>-0.217597</td>\n",
       "      <td>0.329224</td>\n",
       "      <td>0.587671</td>\n",
       "      <td>-0.164135</td>\n",
       "      <td>0.050802</td>\n",
       "      <td>-0.121523</td>\n",
       "      <td>0.258395</td>\n",
       "      <td>0.028341</td>\n",
       "      <td>-0.099040</td>\n",
       "      <td>0.016563</td>\n",
       "    </tr>\n",
       "    <tr>\n",
       "      <th>package</th>\n",
       "      <td>-0.923051</td>\n",
       "      <td>-0.983517</td>\n",
       "      <td>0.247320</td>\n",
       "      <td>0.702937</td>\n",
       "      <td>0.810846</td>\n",
       "      <td>0.146039</td>\n",
       "      <td>0.231950</td>\n",
       "      <td>-1.351821</td>\n",
       "      <td>1.621362</td>\n",
       "      <td>0.044914</td>\n",
       "      <td>-0.355937</td>\n",
       "      <td>0.834729</td>\n",
       "      <td>0.796832</td>\n",
       "      <td>0.034700</td>\n",
       "      <td>0.032270</td>\n",
       "      <td>-0.271444</td>\n",
       "      <td>0.615024</td>\n",
       "      <td>-0.191179</td>\n",
       "      <td>-0.179112</td>\n",
       "      <td>-0.001596</td>\n",
       "    </tr>\n",
       "    <tr>\n",
       "      <th>actual</th>\n",
       "      <td>-0.216149</td>\n",
       "      <td>-0.056422</td>\n",
       "      <td>0.852328</td>\n",
       "      <td>-0.409023</td>\n",
       "      <td>-0.015386</td>\n",
       "      <td>0.113453</td>\n",
       "      <td>-0.120371</td>\n",
       "      <td>-0.011248</td>\n",
       "      <td>-0.109232</td>\n",
       "      <td>0.000864</td>\n",
       "      <td>0.026661</td>\n",
       "      <td>-0.016296</td>\n",
       "      <td>0.061762</td>\n",
       "      <td>-0.063522</td>\n",
       "      <td>0.028745</td>\n",
       "      <td>0.011643</td>\n",
       "      <td>0.009497</td>\n",
       "      <td>0.003021</td>\n",
       "      <td>0.012793</td>\n",
       "      <td>-0.009154</td>\n",
       "    </tr>\n",
       "    <tr>\n",
       "      <th>not</th>\n",
       "      <td>-27.714829</td>\n",
       "      <td>-8.299074</td>\n",
       "      <td>-1.789772</td>\n",
       "      <td>0.636154</td>\n",
       "      <td>-0.816917</td>\n",
       "      <td>0.310609</td>\n",
       "      <td>1.323090</td>\n",
       "      <td>0.472234</td>\n",
       "      <td>3.306023</td>\n",
       "      <td>-0.954056</td>\n",
       "      <td>2.629298</td>\n",
       "      <td>1.505708</td>\n",
       "      <td>-1.615746</td>\n",
       "      <td>0.907696</td>\n",
       "      <td>0.616619</td>\n",
       "      <td>7.154138</td>\n",
       "      <td>-0.600492</td>\n",
       "      <td>-2.900679</td>\n",
       "      <td>-0.508221</td>\n",
       "      <td>-2.811474</td>\n",
       "    </tr>\n",
       "    <tr>\n",
       "      <th>a</th>\n",
       "      <td>-107.237823</td>\n",
       "      <td>-10.272467</td>\n",
       "      <td>11.680039</td>\n",
       "      <td>3.519039</td>\n",
       "      <td>-10.755729</td>\n",
       "      <td>4.670180</td>\n",
       "      <td>3.643471</td>\n",
       "      <td>-0.461386</td>\n",
       "      <td>-5.307206</td>\n",
       "      <td>6.954720</td>\n",
       "      <td>-4.226181</td>\n",
       "      <td>2.403101</td>\n",
       "      <td>-4.497653</td>\n",
       "      <td>0.431691</td>\n",
       "      <td>-1.844088</td>\n",
       "      <td>-2.330379</td>\n",
       "      <td>1.936477</td>\n",
       "      <td>-3.710882</td>\n",
       "      <td>-0.177067</td>\n",
       "      <td>-2.078538</td>\n",
       "    </tr>\n",
       "    <tr>\n",
       "      <th>yes</th>\n",
       "      <td>-0.916994</td>\n",
       "      <td>0.556493</td>\n",
       "      <td>-0.140047</td>\n",
       "      <td>-0.015657</td>\n",
       "      <td>-0.007924</td>\n",
       "      <td>-0.156269</td>\n",
       "      <td>0.074804</td>\n",
       "      <td>0.049642</td>\n",
       "      <td>-0.099236</td>\n",
       "      <td>-0.480008</td>\n",
       "      <td>0.301628</td>\n",
       "      <td>0.317416</td>\n",
       "      <td>-0.320920</td>\n",
       "      <td>0.096466</td>\n",
       "      <td>0.186511</td>\n",
       "      <td>-0.440647</td>\n",
       "      <td>0.697332</td>\n",
       "      <td>0.041263</td>\n",
       "      <td>0.080393</td>\n",
       "      <td>-0.469161</td>\n",
       "    </tr>\n",
       "    <tr>\n",
       "      <th>in</th>\n",
       "      <td>-56.676695</td>\n",
       "      <td>-9.848233</td>\n",
       "      <td>-3.660638</td>\n",
       "      <td>-0.813043</td>\n",
       "      <td>-1.072052</td>\n",
       "      <td>-5.389501</td>\n",
       "      <td>-3.702023</td>\n",
       "      <td>2.190880</td>\n",
       "      <td>-4.244940</td>\n",
       "      <td>-4.810285</td>\n",
       "      <td>2.372484</td>\n",
       "      <td>2.867042</td>\n",
       "      <td>3.916900</td>\n",
       "      <td>-1.620641</td>\n",
       "      <td>-3.179669</td>\n",
       "      <td>-2.312770</td>\n",
       "      <td>2.100054</td>\n",
       "      <td>-4.425399</td>\n",
       "      <td>1.167172</td>\n",
       "      <td>-0.981540</td>\n",
       "    </tr>\n",
       "    <tr>\n",
       "      <th>usual</th>\n",
       "      <td>-0.027998</td>\n",
       "      <td>0.000343</td>\n",
       "      <td>0.019847</td>\n",
       "      <td>0.030370</td>\n",
       "      <td>-0.030265</td>\n",
       "      <td>0.022375</td>\n",
       "      <td>0.004426</td>\n",
       "      <td>-0.057481</td>\n",
       "      <td>0.049075</td>\n",
       "      <td>-0.000761</td>\n",
       "      <td>-0.017566</td>\n",
       "      <td>0.013343</td>\n",
       "      <td>-0.052025</td>\n",
       "      <td>0.047115</td>\n",
       "      <td>0.004877</td>\n",
       "      <td>-0.044728</td>\n",
       "      <td>-0.042333</td>\n",
       "      <td>-0.067283</td>\n",
       "      <td>0.106661</td>\n",
       "      <td>-0.079296</td>\n",
       "    </tr>\n",
       "    <tr>\n",
       "      <th>ftp</th>\n",
       "      <td>-2.537703</td>\n",
       "      <td>-3.413623</td>\n",
       "      <td>-0.561106</td>\n",
       "      <td>0.475899</td>\n",
       "      <td>0.424397</td>\n",
       "      <td>0.037856</td>\n",
       "      <td>0.018476</td>\n",
       "      <td>-0.539811</td>\n",
       "      <td>0.932371</td>\n",
       "      <td>-1.337201</td>\n",
       "      <td>-0.159746</td>\n",
       "      <td>0.817869</td>\n",
       "      <td>0.391233</td>\n",
       "      <td>-0.303874</td>\n",
       "      <td>-0.527490</td>\n",
       "      <td>-0.239555</td>\n",
       "      <td>-0.431689</td>\n",
       "      <td>-0.115959</td>\n",
       "      <td>2.185154</td>\n",
       "      <td>1.420797</td>\n",
       "    </tr>\n",
       "    <tr>\n",
       "      <th>sites</th>\n",
       "      <td>-0.549642</td>\n",
       "      <td>-0.817989</td>\n",
       "      <td>-0.190002</td>\n",
       "      <td>0.000339</td>\n",
       "      <td>0.022435</td>\n",
       "      <td>-0.034159</td>\n",
       "      <td>-0.002262</td>\n",
       "      <td>-0.038309</td>\n",
       "      <td>-0.059440</td>\n",
       "      <td>-0.142098</td>\n",
       "      <td>0.135851</td>\n",
       "      <td>0.277656</td>\n",
       "      <td>-0.145612</td>\n",
       "      <td>-0.085688</td>\n",
       "      <td>-0.097514</td>\n",
       "      <td>0.293975</td>\n",
       "      <td>0.262085</td>\n",
       "      <td>0.460017</td>\n",
       "      <td>0.093578</td>\n",
       "      <td>0.015569</td>\n",
       "    </tr>\n",
       "    <tr>\n",
       "      <th>yek</th>\n",
       "      <td>-0.007591</td>\n",
       "      <td>0.005603</td>\n",
       "      <td>-0.002079</td>\n",
       "      <td>-0.011536</td>\n",
       "      <td>0.001190</td>\n",
       "      <td>-0.011774</td>\n",
       "      <td>0.011968</td>\n",
       "      <td>-0.010100</td>\n",
       "      <td>0.003757</td>\n",
       "      <td>-0.016248</td>\n",
       "      <td>0.008771</td>\n",
       "      <td>-0.006857</td>\n",
       "      <td>0.006822</td>\n",
       "      <td>-0.002467</td>\n",
       "      <td>0.017409</td>\n",
       "      <td>-0.010704</td>\n",
       "      <td>0.018683</td>\n",
       "      <td>-0.028062</td>\n",
       "      <td>0.025569</td>\n",
       "      <td>-0.027593</td>\n",
       "    </tr>\n",
       "    <tr>\n",
       "      <th>chong</th>\n",
       "      <td>-0.007591</td>\n",
       "      <td>0.005603</td>\n",
       "      <td>-0.002079</td>\n",
       "      <td>-0.011536</td>\n",
       "      <td>0.001190</td>\n",
       "      <td>-0.011774</td>\n",
       "      <td>0.011968</td>\n",
       "      <td>-0.010100</td>\n",
       "      <td>0.003757</td>\n",
       "      <td>-0.016248</td>\n",
       "      <td>0.008771</td>\n",
       "      <td>-0.006857</td>\n",
       "      <td>0.006822</td>\n",
       "      <td>-0.002467</td>\n",
       "      <td>0.017409</td>\n",
       "      <td>-0.010704</td>\n",
       "      <td>0.018683</td>\n",
       "      <td>-0.028062</td>\n",
       "      <td>0.025569</td>\n",
       "      <td>-0.027593</td>\n",
       "    </tr>\n",
       "    <tr>\n",
       "      <th>anyone</th>\n",
       "      <td>-0.720080</td>\n",
       "      <td>0.051720</td>\n",
       "      <td>0.699613</td>\n",
       "      <td>0.871311</td>\n",
       "      <td>-0.933660</td>\n",
       "      <td>0.185631</td>\n",
       "      <td>2.605282</td>\n",
       "      <td>0.665044</td>\n",
       "      <td>0.681316</td>\n",
       "      <td>-1.366215</td>\n",
       "      <td>-0.249325</td>\n",
       "      <td>-0.572736</td>\n",
       "      <td>-0.945462</td>\n",
       "      <td>-0.198599</td>\n",
       "      <td>0.467131</td>\n",
       "      <td>-0.269335</td>\n",
       "      <td>-0.327771</td>\n",
       "      <td>0.348695</td>\n",
       "      <td>1.359422</td>\n",
       "      <td>0.505232</td>\n",
       "    </tr>\n",
       "    <tr>\n",
       "      <th>have</th>\n",
       "      <td>-28.872172</td>\n",
       "      <td>-0.290784</td>\n",
       "      <td>0.515352</td>\n",
       "      <td>5.013752</td>\n",
       "      <td>-3.433153</td>\n",
       "      <td>0.319482</td>\n",
       "      <td>3.501900</td>\n",
       "      <td>1.647149</td>\n",
       "      <td>0.840696</td>\n",
       "      <td>-2.192431</td>\n",
       "      <td>0.389522</td>\n",
       "      <td>-1.397499</td>\n",
       "      <td>-2.791884</td>\n",
       "      <td>-2.050111</td>\n",
       "      <td>0.215158</td>\n",
       "      <td>-1.114717</td>\n",
       "      <td>1.809394</td>\n",
       "      <td>0.762799</td>\n",
       "      <td>-0.119131</td>\n",
       "      <td>3.086713</td>\n",
       "    </tr>\n",
       "    <tr>\n",
       "      <th>any</th>\n",
       "      <td>-8.924146</td>\n",
       "      <td>3.413608</td>\n",
       "      <td>0.881903</td>\n",
       "      <td>2.994744</td>\n",
       "      <td>0.339940</td>\n",
       "      <td>-0.208558</td>\n",
       "      <td>-0.861453</td>\n",
       "      <td>0.129538</td>\n",
       "      <td>0.197268</td>\n",
       "      <td>-1.930339</td>\n",
       "      <td>0.504844</td>\n",
       "      <td>0.110733</td>\n",
       "      <td>-2.292580</td>\n",
       "      <td>0.122483</td>\n",
       "      <td>-0.388704</td>\n",
       "      <td>-0.300501</td>\n",
       "      <td>-0.259314</td>\n",
       "      <td>-1.220049</td>\n",
       "      <td>2.412338</td>\n",
       "      <td>-2.711262</td>\n",
       "    </tr>\n",
       "    <tr>\n",
       "      <th>info</th>\n",
       "      <td>-0.011688</td>\n",
       "      <td>0.006342</td>\n",
       "      <td>0.003790</td>\n",
       "      <td>-0.006096</td>\n",
       "      <td>-0.015016</td>\n",
       "      <td>-0.010230</td>\n",
       "      <td>0.048476</td>\n",
       "      <td>0.005664</td>\n",
       "      <td>0.024279</td>\n",
       "      <td>-0.104474</td>\n",
       "      <td>0.056523</td>\n",
       "      <td>-0.012721</td>\n",
       "      <td>-0.011437</td>\n",
       "      <td>0.016264</td>\n",
       "      <td>0.020170</td>\n",
       "      <td>-0.019562</td>\n",
       "      <td>0.007338</td>\n",
       "      <td>0.038525</td>\n",
       "      <td>-0.010878</td>\n",
       "      <td>0.011232</td>\n",
       "    </tr>\n",
       "    <tr>\n",
       "      <th>on</th>\n",
       "      <td>-40.536623</td>\n",
       "      <td>0.817978</td>\n",
       "      <td>4.451391</td>\n",
       "      <td>-2.322179</td>\n",
       "      <td>0.430537</td>\n",
       "      <td>6.431415</td>\n",
       "      <td>0.708331</td>\n",
       "      <td>0.666005</td>\n",
       "      <td>-1.943270</td>\n",
       "      <td>0.227756</td>\n",
       "      <td>1.554901</td>\n",
       "      <td>1.039731</td>\n",
       "      <td>-0.240518</td>\n",
       "      <td>-0.354775</td>\n",
       "      <td>-2.183879</td>\n",
       "      <td>-0.994285</td>\n",
       "      <td>0.566140</td>\n",
       "      <td>0.888187</td>\n",
       "      <td>-1.713465</td>\n",
       "      <td>1.095694</td>\n",
       "    </tr>\n",
       "    <tr>\n",
       "      <th>videosound</th>\n",
       "      <td>-0.005844</td>\n",
       "      <td>0.003171</td>\n",
       "      <td>0.001895</td>\n",
       "      <td>-0.003048</td>\n",
       "      <td>-0.007508</td>\n",
       "      <td>-0.005115</td>\n",
       "      <td>0.024238</td>\n",
       "      <td>0.002832</td>\n",
       "      <td>0.012140</td>\n",
       "      <td>-0.052237</td>\n",
       "      <td>0.028261</td>\n",
       "      <td>-0.006361</td>\n",
       "      <td>-0.005719</td>\n",
       "      <td>0.008132</td>\n",
       "      <td>0.010085</td>\n",
       "      <td>-0.009781</td>\n",
       "      <td>0.003669</td>\n",
       "      <td>0.019262</td>\n",
       "      <td>-0.005439</td>\n",
       "      <td>0.005616</td>\n",
       "    </tr>\n",
       "    <tr>\n",
       "      <th>...</th>\n",
       "      <td>...</td>\n",
       "      <td>...</td>\n",
       "      <td>...</td>\n",
       "      <td>...</td>\n",
       "      <td>...</td>\n",
       "      <td>...</td>\n",
       "      <td>...</td>\n",
       "      <td>...</td>\n",
       "      <td>...</td>\n",
       "      <td>...</td>\n",
       "      <td>...</td>\n",
       "      <td>...</td>\n",
       "      <td>...</td>\n",
       "      <td>...</td>\n",
       "      <td>...</td>\n",
       "      <td>...</td>\n",
       "      <td>...</td>\n",
       "      <td>...</td>\n",
       "      <td>...</td>\n",
       "      <td>...</td>\n",
       "    </tr>\n",
       "    <tr>\n",
       "      <th>slowest</th>\n",
       "      <td>-0.033923</td>\n",
       "      <td>0.011549</td>\n",
       "      <td>0.022922</td>\n",
       "      <td>-0.011078</td>\n",
       "      <td>0.049830</td>\n",
       "      <td>-0.100798</td>\n",
       "      <td>0.022604</td>\n",
       "      <td>-0.047807</td>\n",
       "      <td>0.091123</td>\n",
       "      <td>-0.155931</td>\n",
       "      <td>0.052025</td>\n",
       "      <td>-0.077703</td>\n",
       "      <td>-0.106692</td>\n",
       "      <td>-0.030570</td>\n",
       "      <td>0.080492</td>\n",
       "      <td>-0.008474</td>\n",
       "      <td>-0.088314</td>\n",
       "      <td>0.003112</td>\n",
       "      <td>0.010466</td>\n",
       "      <td>0.001674</td>\n",
       "    </tr>\n",
       "    <tr>\n",
       "      <th>fastest</th>\n",
       "      <td>-0.033923</td>\n",
       "      <td>0.011549</td>\n",
       "      <td>0.022922</td>\n",
       "      <td>-0.011078</td>\n",
       "      <td>0.049830</td>\n",
       "      <td>-0.100798</td>\n",
       "      <td>0.022604</td>\n",
       "      <td>-0.047807</td>\n",
       "      <td>0.091123</td>\n",
       "      <td>-0.155931</td>\n",
       "      <td>0.052025</td>\n",
       "      <td>-0.077703</td>\n",
       "      <td>-0.106692</td>\n",
       "      <td>-0.030570</td>\n",
       "      <td>0.080492</td>\n",
       "      <td>-0.008474</td>\n",
       "      <td>-0.088314</td>\n",
       "      <td>0.003112</td>\n",
       "      <td>0.010466</td>\n",
       "      <td>0.001674</td>\n",
       "    </tr>\n",
       "    <tr>\n",
       "      <th>apr@ugleunitno</th>\n",
       "      <td>-0.033045</td>\n",
       "      <td>-0.002611</td>\n",
       "      <td>0.032548</td>\n",
       "      <td>0.111083</td>\n",
       "      <td>0.131751</td>\n",
       "      <td>0.052662</td>\n",
       "      <td>0.053146</td>\n",
       "      <td>0.030849</td>\n",
       "      <td>-0.024312</td>\n",
       "      <td>0.195948</td>\n",
       "      <td>0.346822</td>\n",
       "      <td>-0.054266</td>\n",
       "      <td>-0.057942</td>\n",
       "      <td>-0.019820</td>\n",
       "      <td>0.029496</td>\n",
       "      <td>-0.056003</td>\n",
       "      <td>0.006292</td>\n",
       "      <td>-0.047354</td>\n",
       "      <td>0.053810</td>\n",
       "      <td>0.202399</td>\n",
       "    </tr>\n",
       "    <tr>\n",
       "      <th>experienced</th>\n",
       "      <td>-0.033045</td>\n",
       "      <td>-0.002611</td>\n",
       "      <td>0.032548</td>\n",
       "      <td>0.111083</td>\n",
       "      <td>0.131751</td>\n",
       "      <td>0.052662</td>\n",
       "      <td>0.053146</td>\n",
       "      <td>0.030849</td>\n",
       "      <td>-0.024312</td>\n",
       "      <td>0.195948</td>\n",
       "      <td>0.346822</td>\n",
       "      <td>-0.054266</td>\n",
       "      <td>-0.057942</td>\n",
       "      <td>-0.019820</td>\n",
       "      <td>0.029496</td>\n",
       "      <td>-0.056003</td>\n",
       "      <td>0.006292</td>\n",
       "      <td>-0.047354</td>\n",
       "      <td>0.053810</td>\n",
       "      <td>0.202399</td>\n",
       "    </tr>\n",
       "    <tr>\n",
       "      <th>speeddisk</th>\n",
       "      <td>-0.033045</td>\n",
       "      <td>-0.002611</td>\n",
       "      <td>0.032548</td>\n",
       "      <td>0.111083</td>\n",
       "      <td>0.131751</td>\n",
       "      <td>0.052662</td>\n",
       "      <td>0.053146</td>\n",
       "      <td>0.030849</td>\n",
       "      <td>-0.024312</td>\n",
       "      <td>0.195948</td>\n",
       "      <td>0.346822</td>\n",
       "      <td>-0.054266</td>\n",
       "      <td>-0.057942</td>\n",
       "      <td>-0.019820</td>\n",
       "      <td>0.029496</td>\n",
       "      <td>-0.056003</td>\n",
       "      <td>0.006292</td>\n",
       "      <td>-0.047354</td>\n",
       "      <td>0.053810</td>\n",
       "      <td>0.202399</td>\n",
       "    </tr>\n",
       "    <tr>\n",
       "      <th>once</th>\n",
       "      <td>-0.033045</td>\n",
       "      <td>-0.002611</td>\n",
       "      <td>0.032548</td>\n",
       "      <td>0.111083</td>\n",
       "      <td>0.131751</td>\n",
       "      <td>0.052662</td>\n",
       "      <td>0.053146</td>\n",
       "      <td>0.030849</td>\n",
       "      <td>-0.024312</td>\n",
       "      <td>0.195948</td>\n",
       "      <td>0.346822</td>\n",
       "      <td>-0.054266</td>\n",
       "      <td>-0.057942</td>\n",
       "      <td>-0.019820</td>\n",
       "      <td>0.029496</td>\n",
       "      <td>-0.056003</td>\n",
       "      <td>0.006292</td>\n",
       "      <td>-0.047354</td>\n",
       "      <td>0.053810</td>\n",
       "      <td>0.202399</td>\n",
       "    </tr>\n",
       "    <tr>\n",
       "      <th>crashed</th>\n",
       "      <td>-0.033045</td>\n",
       "      <td>-0.002611</td>\n",
       "      <td>0.032548</td>\n",
       "      <td>0.111083</td>\n",
       "      <td>0.131751</td>\n",
       "      <td>0.052662</td>\n",
       "      <td>0.053146</td>\n",
       "      <td>0.030849</td>\n",
       "      <td>-0.024312</td>\n",
       "      <td>0.195948</td>\n",
       "      <td>0.346822</td>\n",
       "      <td>-0.054266</td>\n",
       "      <td>-0.057942</td>\n",
       "      <td>-0.019820</td>\n",
       "      <td>0.029496</td>\n",
       "      <td>-0.056003</td>\n",
       "      <td>0.006292</td>\n",
       "      <td>-0.047354</td>\n",
       "      <td>0.053810</td>\n",
       "      <td>0.202399</td>\n",
       "    </tr>\n",
       "    <tr>\n",
       "      <th>defragmenting</th>\n",
       "      <td>-0.033045</td>\n",
       "      <td>-0.002611</td>\n",
       "      <td>0.032548</td>\n",
       "      <td>0.111083</td>\n",
       "      <td>0.131751</td>\n",
       "      <td>0.052662</td>\n",
       "      <td>0.053146</td>\n",
       "      <td>0.030849</td>\n",
       "      <td>-0.024312</td>\n",
       "      <td>0.195948</td>\n",
       "      <td>0.346822</td>\n",
       "      <td>-0.054266</td>\n",
       "      <td>-0.057942</td>\n",
       "      <td>-0.019820</td>\n",
       "      <td>0.029496</td>\n",
       "      <td>-0.056003</td>\n",
       "      <td>0.006292</td>\n",
       "      <td>-0.047354</td>\n",
       "      <td>0.053810</td>\n",
       "      <td>0.202399</td>\n",
       "    </tr>\n",
       "    <tr>\n",
       "      <th>bjorn</th>\n",
       "      <td>-0.066090</td>\n",
       "      <td>-0.005222</td>\n",
       "      <td>0.065095</td>\n",
       "      <td>0.222166</td>\n",
       "      <td>0.263503</td>\n",
       "      <td>0.105324</td>\n",
       "      <td>0.106292</td>\n",
       "      <td>0.061698</td>\n",
       "      <td>-0.048624</td>\n",
       "      <td>0.391896</td>\n",
       "      <td>0.693645</td>\n",
       "      <td>-0.108532</td>\n",
       "      <td>-0.115884</td>\n",
       "      <td>-0.039640</td>\n",
       "      <td>0.058991</td>\n",
       "      <td>-0.112006</td>\n",
       "      <td>0.012584</td>\n",
       "      <td>-0.094707</td>\n",
       "      <td>0.107620</td>\n",
       "      <td>0.404798</td>\n",
       "    </tr>\n",
       "    <tr>\n",
       "      <th>myrland</th>\n",
       "      <td>-0.033045</td>\n",
       "      <td>-0.002611</td>\n",
       "      <td>0.032548</td>\n",
       "      <td>0.111083</td>\n",
       "      <td>0.131751</td>\n",
       "      <td>0.052662</td>\n",
       "      <td>0.053146</td>\n",
       "      <td>0.030849</td>\n",
       "      <td>-0.024312</td>\n",
       "      <td>0.195948</td>\n",
       "      <td>0.346822</td>\n",
       "      <td>-0.054266</td>\n",
       "      <td>-0.057942</td>\n",
       "      <td>-0.019820</td>\n",
       "      <td>0.029496</td>\n",
       "      <td>-0.056003</td>\n",
       "      <td>0.006292</td>\n",
       "      <td>-0.047354</td>\n",
       "      <td>0.053810</td>\n",
       "      <td>0.202399</td>\n",
       "    </tr>\n",
       "    <tr>\n",
       "      <th>bjornmyrland@sipaasintefno</th>\n",
       "      <td>-0.033045</td>\n",
       "      <td>-0.002611</td>\n",
       "      <td>0.032548</td>\n",
       "      <td>0.111083</td>\n",
       "      <td>0.131751</td>\n",
       "      <td>0.052662</td>\n",
       "      <td>0.053146</td>\n",
       "      <td>0.030849</td>\n",
       "      <td>-0.024312</td>\n",
       "      <td>0.195948</td>\n",
       "      <td>0.346822</td>\n",
       "      <td>-0.054266</td>\n",
       "      <td>-0.057942</td>\n",
       "      <td>-0.019820</td>\n",
       "      <td>0.029496</td>\n",
       "      <td>-0.056003</td>\n",
       "      <td>0.006292</td>\n",
       "      <td>-0.047354</td>\n",
       "      <td>0.053810</td>\n",
       "      <td>0.202399</td>\n",
       "    </tr>\n",
       "    <tr>\n",
       "      <th>sintef</th>\n",
       "      <td>-0.066090</td>\n",
       "      <td>-0.005222</td>\n",
       "      <td>0.065095</td>\n",
       "      <td>0.222166</td>\n",
       "      <td>0.263503</td>\n",
       "      <td>0.105324</td>\n",
       "      <td>0.106292</td>\n",
       "      <td>0.061698</td>\n",
       "      <td>-0.048624</td>\n",
       "      <td>0.391896</td>\n",
       "      <td>0.693645</td>\n",
       "      <td>-0.108532</td>\n",
       "      <td>-0.115884</td>\n",
       "      <td>-0.039640</td>\n",
       "      <td>0.058991</td>\n",
       "      <td>-0.112006</td>\n",
       "      <td>0.012584</td>\n",
       "      <td>-0.094707</td>\n",
       "      <td>0.107620</td>\n",
       "      <td>0.404798</td>\n",
       "    </tr>\n",
       "    <tr>\n",
       "      <th>norway</th>\n",
       "      <td>-0.033045</td>\n",
       "      <td>-0.002611</td>\n",
       "      <td>0.032548</td>\n",
       "      <td>0.111083</td>\n",
       "      <td>0.131751</td>\n",
       "      <td>0.052662</td>\n",
       "      <td>0.053146</td>\n",
       "      <td>0.030849</td>\n",
       "      <td>-0.024312</td>\n",
       "      <td>0.195948</td>\n",
       "      <td>0.346822</td>\n",
       "      <td>-0.054266</td>\n",
       "      <td>-0.057942</td>\n",
       "      <td>-0.019820</td>\n",
       "      <td>0.029496</td>\n",
       "      <td>-0.056003</td>\n",
       "      <td>0.006292</td>\n",
       "      <td>-0.047354</td>\n",
       "      <td>0.053810</td>\n",
       "      <td>0.202399</td>\n",
       "    </tr>\n",
       "    <tr>\n",
       "      <th>foundation</th>\n",
       "      <td>-0.033045</td>\n",
       "      <td>-0.002611</td>\n",
       "      <td>0.032548</td>\n",
       "      <td>0.111083</td>\n",
       "      <td>0.131751</td>\n",
       "      <td>0.052662</td>\n",
       "      <td>0.053146</td>\n",
       "      <td>0.030849</td>\n",
       "      <td>-0.024312</td>\n",
       "      <td>0.195948</td>\n",
       "      <td>0.346822</td>\n",
       "      <td>-0.054266</td>\n",
       "      <td>-0.057942</td>\n",
       "      <td>-0.019820</td>\n",
       "      <td>0.029496</td>\n",
       "      <td>-0.056003</td>\n",
       "      <td>0.006292</td>\n",
       "      <td>-0.047354</td>\n",
       "      <td>0.053810</td>\n",
       "      <td>0.202399</td>\n",
       "    </tr>\n",
       "    <tr>\n",
       "      <th>scientific</th>\n",
       "      <td>-0.033045</td>\n",
       "      <td>-0.002611</td>\n",
       "      <td>0.032548</td>\n",
       "      <td>0.111083</td>\n",
       "      <td>0.131751</td>\n",
       "      <td>0.052662</td>\n",
       "      <td>0.053146</td>\n",
       "      <td>0.030849</td>\n",
       "      <td>-0.024312</td>\n",
       "      <td>0.195948</td>\n",
       "      <td>0.346822</td>\n",
       "      <td>-0.054266</td>\n",
       "      <td>-0.057942</td>\n",
       "      <td>-0.019820</td>\n",
       "      <td>0.029496</td>\n",
       "      <td>-0.056003</td>\n",
       "      <td>0.006292</td>\n",
       "      <td>-0.047354</td>\n",
       "      <td>0.053810</td>\n",
       "      <td>0.202399</td>\n",
       "    </tr>\n",
       "    <tr>\n",
       "      <th>norwegian</th>\n",
       "      <td>-0.033045</td>\n",
       "      <td>-0.002611</td>\n",
       "      <td>0.032548</td>\n",
       "      <td>0.111083</td>\n",
       "      <td>0.131751</td>\n",
       "      <td>0.052662</td>\n",
       "      <td>0.053146</td>\n",
       "      <td>0.030849</td>\n",
       "      <td>-0.024312</td>\n",
       "      <td>0.195948</td>\n",
       "      <td>0.346822</td>\n",
       "      <td>-0.054266</td>\n",
       "      <td>-0.057942</td>\n",
       "      <td>-0.019820</td>\n",
       "      <td>0.029496</td>\n",
       "      <td>-0.056003</td>\n",
       "      <td>0.006292</td>\n",
       "      <td>-0.047354</td>\n",
       "      <td>0.053810</td>\n",
       "      <td>0.202399</td>\n",
       "    </tr>\n",
       "    <tr>\n",
       "      <th>apple</th>\n",
       "      <td>-0.012041</td>\n",
       "      <td>0.004277</td>\n",
       "      <td>-0.002503</td>\n",
       "      <td>-0.006480</td>\n",
       "      <td>0.002744</td>\n",
       "      <td>0.017504</td>\n",
       "      <td>0.018505</td>\n",
       "      <td>0.007478</td>\n",
       "      <td>-0.015466</td>\n",
       "      <td>-0.022462</td>\n",
       "      <td>-0.019277</td>\n",
       "      <td>-0.008442</td>\n",
       "      <td>-0.004566</td>\n",
       "      <td>0.022356</td>\n",
       "      <td>-0.001250</td>\n",
       "      <td>-0.013039</td>\n",
       "      <td>-0.007549</td>\n",
       "      <td>0.035389</td>\n",
       "      <td>0.025714</td>\n",
       "      <td>-0.030807</td>\n",
       "    </tr>\n",
       "    <tr>\n",
       "      <th>imagewriter</th>\n",
       "      <td>-0.012041</td>\n",
       "      <td>0.004277</td>\n",
       "      <td>-0.002503</td>\n",
       "      <td>-0.006480</td>\n",
       "      <td>0.002744</td>\n",
       "      <td>0.017504</td>\n",
       "      <td>0.018505</td>\n",
       "      <td>0.007478</td>\n",
       "      <td>-0.015466</td>\n",
       "      <td>-0.022462</td>\n",
       "      <td>-0.019277</td>\n",
       "      <td>-0.008442</td>\n",
       "      <td>-0.004566</td>\n",
       "      <td>0.022356</td>\n",
       "      <td>-0.001250</td>\n",
       "      <td>-0.013039</td>\n",
       "      <td>-0.007549</td>\n",
       "      <td>0.035389</td>\n",
       "      <td>0.025714</td>\n",
       "      <td>-0.030807</td>\n",
       "    </tr>\n",
       "    <tr>\n",
       "      <th>citoh</th>\n",
       "      <td>-0.012041</td>\n",
       "      <td>0.004277</td>\n",
       "      <td>-0.002503</td>\n",
       "      <td>-0.006480</td>\n",
       "      <td>0.002744</td>\n",
       "      <td>0.017504</td>\n",
       "      <td>0.018505</td>\n",
       "      <td>0.007478</td>\n",
       "      <td>-0.015466</td>\n",
       "      <td>-0.022462</td>\n",
       "      <td>-0.019277</td>\n",
       "      <td>-0.008442</td>\n",
       "      <td>-0.004566</td>\n",
       "      <td>0.022356</td>\n",
       "      <td>-0.001250</td>\n",
       "      <td>-0.013039</td>\n",
       "      <td>-0.007549</td>\n",
       "      <td>0.035389</td>\n",
       "      <td>0.025714</td>\n",
       "      <td>-0.030807</td>\n",
       "    </tr>\n",
       "    <tr>\n",
       "      <th>littlefield</th>\n",
       "      <td>-0.012041</td>\n",
       "      <td>0.004277</td>\n",
       "      <td>-0.002503</td>\n",
       "      <td>-0.006480</td>\n",
       "      <td>0.002744</td>\n",
       "      <td>0.017504</td>\n",
       "      <td>0.018505</td>\n",
       "      <td>0.007478</td>\n",
       "      <td>-0.015466</td>\n",
       "      <td>-0.022462</td>\n",
       "      <td>-0.019277</td>\n",
       "      <td>-0.008442</td>\n",
       "      <td>-0.004566</td>\n",
       "      <td>0.022356</td>\n",
       "      <td>-0.001250</td>\n",
       "      <td>-0.013039</td>\n",
       "      <td>-0.007549</td>\n",
       "      <td>0.035389</td>\n",
       "      <td>0.025714</td>\n",
       "      <td>-0.030807</td>\n",
       "    </tr>\n",
       "    <tr>\n",
       "      <th>little@hkscom</th>\n",
       "      <td>-0.012041</td>\n",
       "      <td>0.004277</td>\n",
       "      <td>-0.002503</td>\n",
       "      <td>-0.006480</td>\n",
       "      <td>0.002744</td>\n",
       "      <td>0.017504</td>\n",
       "      <td>0.018505</td>\n",
       "      <td>0.007478</td>\n",
       "      <td>-0.015466</td>\n",
       "      <td>-0.022462</td>\n",
       "      <td>-0.019277</td>\n",
       "      <td>-0.008442</td>\n",
       "      <td>-0.004566</td>\n",
       "      <td>0.022356</td>\n",
       "      <td>-0.001250</td>\n",
       "      <td>-0.013039</td>\n",
       "      <td>-0.007549</td>\n",
       "      <td>0.035389</td>\n",
       "      <td>0.025714</td>\n",
       "      <td>-0.030807</td>\n",
       "    </tr>\n",
       "    <tr>\n",
       "      <th>albert</th>\n",
       "      <td>-0.012041</td>\n",
       "      <td>0.004277</td>\n",
       "      <td>-0.002503</td>\n",
       "      <td>-0.006480</td>\n",
       "      <td>0.002744</td>\n",
       "      <td>0.017504</td>\n",
       "      <td>0.018505</td>\n",
       "      <td>0.007478</td>\n",
       "      <td>-0.015466</td>\n",
       "      <td>-0.022462</td>\n",
       "      <td>-0.019277</td>\n",
       "      <td>-0.008442</td>\n",
       "      <td>-0.004566</td>\n",
       "      <td>0.022356</td>\n",
       "      <td>-0.001250</td>\n",
       "      <td>-0.013039</td>\n",
       "      <td>-0.007549</td>\n",
       "      <td>0.035389</td>\n",
       "      <td>0.025714</td>\n",
       "      <td>-0.030807</td>\n",
       "    </tr>\n",
       "    <tr>\n",
       "      <th>cubgkw@worldstdcom</th>\n",
       "      <td>-0.065629</td>\n",
       "      <td>0.018233</td>\n",
       "      <td>0.078803</td>\n",
       "      <td>0.086474</td>\n",
       "      <td>-0.419239</td>\n",
       "      <td>0.314072</td>\n",
       "      <td>0.626429</td>\n",
       "      <td>0.079191</td>\n",
       "      <td>0.121298</td>\n",
       "      <td>-0.133834</td>\n",
       "      <td>-0.000674</td>\n",
       "      <td>-0.069613</td>\n",
       "      <td>0.137310</td>\n",
       "      <td>0.030336</td>\n",
       "      <td>-0.015687</td>\n",
       "      <td>0.039279</td>\n",
       "      <td>-0.026549</td>\n",
       "      <td>0.067011</td>\n",
       "      <td>-0.037914</td>\n",
       "      <td>0.025426</td>\n",
       "    </tr>\n",
       "    <tr>\n",
       "      <th>moves</th>\n",
       "      <td>-0.065629</td>\n",
       "      <td>0.018233</td>\n",
       "      <td>0.078803</td>\n",
       "      <td>0.086474</td>\n",
       "      <td>-0.419239</td>\n",
       "      <td>0.314072</td>\n",
       "      <td>0.626429</td>\n",
       "      <td>0.079191</td>\n",
       "      <td>0.121298</td>\n",
       "      <td>-0.133834</td>\n",
       "      <td>-0.000674</td>\n",
       "      <td>-0.069613</td>\n",
       "      <td>0.137310</td>\n",
       "      <td>0.030336</td>\n",
       "      <td>-0.015687</td>\n",
       "      <td>0.039279</td>\n",
       "      <td>-0.026549</td>\n",
       "      <td>0.067011</td>\n",
       "      <td>-0.037914</td>\n",
       "      <td>0.025426</td>\n",
       "    </tr>\n",
       "    <tr>\n",
       "      <th>morebetter</th>\n",
       "      <td>-0.065629</td>\n",
       "      <td>0.018233</td>\n",
       "      <td>0.078803</td>\n",
       "      <td>0.086474</td>\n",
       "      <td>-0.419239</td>\n",
       "      <td>0.314072</td>\n",
       "      <td>0.626429</td>\n",
       "      <td>0.079191</td>\n",
       "      <td>0.121298</td>\n",
       "      <td>-0.133834</td>\n",
       "      <td>-0.000674</td>\n",
       "      <td>-0.069613</td>\n",
       "      <td>0.137310</td>\n",
       "      <td>0.030336</td>\n",
       "      <td>-0.015687</td>\n",
       "      <td>0.039279</td>\n",
       "      <td>-0.026549</td>\n",
       "      <td>0.067011</td>\n",
       "      <td>-0.037914</td>\n",
       "      <td>0.025426</td>\n",
       "    </tr>\n",
       "    <tr>\n",
       "      <th>mastering</th>\n",
       "      <td>-0.065629</td>\n",
       "      <td>0.018233</td>\n",
       "      <td>0.078803</td>\n",
       "      <td>0.086474</td>\n",
       "      <td>-0.419239</td>\n",
       "      <td>0.314072</td>\n",
       "      <td>0.626429</td>\n",
       "      <td>0.079191</td>\n",
       "      <td>0.121298</td>\n",
       "      <td>-0.133834</td>\n",
       "      <td>-0.000674</td>\n",
       "      <td>-0.069613</td>\n",
       "      <td>0.137310</td>\n",
       "      <td>0.030336</td>\n",
       "      <td>-0.015687</td>\n",
       "      <td>0.039279</td>\n",
       "      <td>-0.026549</td>\n",
       "      <td>0.067011</td>\n",
       "      <td>-0.037914</td>\n",
       "      <td>0.025426</td>\n",
       "    </tr>\n",
       "    <tr>\n",
       "      <th>factors</th>\n",
       "      <td>-0.065629</td>\n",
       "      <td>0.018233</td>\n",
       "      <td>0.078803</td>\n",
       "      <td>0.086474</td>\n",
       "      <td>-0.419239</td>\n",
       "      <td>0.314072</td>\n",
       "      <td>0.626429</td>\n",
       "      <td>0.079191</td>\n",
       "      <td>0.121298</td>\n",
       "      <td>-0.133834</td>\n",
       "      <td>-0.000674</td>\n",
       "      <td>-0.069613</td>\n",
       "      <td>0.137310</td>\n",
       "      <td>0.030336</td>\n",
       "      <td>-0.015687</td>\n",
       "      <td>0.039279</td>\n",
       "      <td>-0.026549</td>\n",
       "      <td>0.067011</td>\n",
       "      <td>-0.037914</td>\n",
       "      <td>0.025426</td>\n",
       "    </tr>\n",
       "    <tr>\n",
       "      <th>impact</th>\n",
       "      <td>-0.131258</td>\n",
       "      <td>0.036466</td>\n",
       "      <td>0.157605</td>\n",
       "      <td>0.172947</td>\n",
       "      <td>-0.838479</td>\n",
       "      <td>0.628143</td>\n",
       "      <td>1.252857</td>\n",
       "      <td>0.158381</td>\n",
       "      <td>0.242596</td>\n",
       "      <td>-0.267667</td>\n",
       "      <td>-0.001348</td>\n",
       "      <td>-0.139226</td>\n",
       "      <td>0.274621</td>\n",
       "      <td>0.060672</td>\n",
       "      <td>-0.031374</td>\n",
       "      <td>0.078557</td>\n",
       "      <td>-0.053098</td>\n",
       "      <td>0.134023</td>\n",
       "      <td>-0.075827</td>\n",
       "      <td>0.050853</td>\n",
       "    </tr>\n",
       "    <tr>\n",
       "      <th>fullthrottle</th>\n",
       "      <td>-0.065629</td>\n",
       "      <td>0.018233</td>\n",
       "      <td>0.078803</td>\n",
       "      <td>0.086474</td>\n",
       "      <td>-0.419239</td>\n",
       "      <td>0.314072</td>\n",
       "      <td>0.626429</td>\n",
       "      <td>0.079191</td>\n",
       "      <td>0.121298</td>\n",
       "      <td>-0.133834</td>\n",
       "      <td>-0.000674</td>\n",
       "      <td>-0.069613</td>\n",
       "      <td>0.137310</td>\n",
       "      <td>0.030336</td>\n",
       "      <td>-0.015687</td>\n",
       "      <td>0.039279</td>\n",
       "      <td>-0.026549</td>\n",
       "      <td>0.067011</td>\n",
       "      <td>-0.037914</td>\n",
       "      <td>0.025426</td>\n",
       "    </tr>\n",
       "    <tr>\n",
       "      <th>cdroms</th>\n",
       "      <td>-0.065629</td>\n",
       "      <td>0.018233</td>\n",
       "      <td>0.078803</td>\n",
       "      <td>0.086474</td>\n",
       "      <td>-0.419239</td>\n",
       "      <td>0.314072</td>\n",
       "      <td>0.626429</td>\n",
       "      <td>0.079191</td>\n",
       "      <td>0.121298</td>\n",
       "      <td>-0.133834</td>\n",
       "      <td>-0.000674</td>\n",
       "      <td>-0.069613</td>\n",
       "      <td>0.137310</td>\n",
       "      <td>0.030336</td>\n",
       "      <td>-0.015687</td>\n",
       "      <td>0.039279</td>\n",
       "      <td>-0.026549</td>\n",
       "      <td>0.067011</td>\n",
       "      <td>-0.037914</td>\n",
       "      <td>0.025426</td>\n",
       "    </tr>\n",
       "  </tbody>\n",
       "</table>\n",
       "<p>3349 rows × 20 columns</p>\n",
       "</div>"
      ],
      "text/plain": [
       "                                    0          1          2          3   \\\n",
       "from                        -24.455618   2.922943   4.713701  -3.029840   \n",
       "article                      -1.868465   0.434869   0.939232   2.228989   \n",
       "afmbww@vicunaocunixonca      -0.007591   0.005603  -0.002079  -0.011536   \n",
       "by                           -6.079164  -0.415758   1.376234  -0.114936   \n",
       "steve                        -0.051623  -0.029853   0.059419   0.086802   \n",
       "frampton                     -0.007591   0.005603  -0.002079  -0.011536   \n",
       "frampton@vicunaocunixonca    -0.007591   0.005603  -0.002079  -0.011536   \n",
       "i                          -128.655832  35.833922  -5.340913  26.693804   \n",
       "was                         -17.728863  10.503935  -2.628333   0.536415   \n",
       "wondering                    -0.099289  -0.011302   0.062209   0.287901   \n",
       "is                          -77.945988 -19.287451  -5.900992   1.310120   \n",
       "the                        -250.369483  35.298272  -3.686430 -22.730987   \n",
       "kermit                       -0.739469  -0.900830   0.030043   0.321714   \n",
       "package                      -0.923051  -0.983517   0.247320   0.702937   \n",
       "actual                       -0.216149  -0.056422   0.852328  -0.409023   \n",
       "not                         -27.714829  -8.299074  -1.789772   0.636154   \n",
       "a                          -107.237823 -10.272467  11.680039   3.519039   \n",
       "yes                          -0.916994   0.556493  -0.140047  -0.015657   \n",
       "in                          -56.676695  -9.848233  -3.660638  -0.813043   \n",
       "usual                        -0.027998   0.000343   0.019847   0.030370   \n",
       "ftp                          -2.537703  -3.413623  -0.561106   0.475899   \n",
       "sites                        -0.549642  -0.817989  -0.190002   0.000339   \n",
       "yek                          -0.007591   0.005603  -0.002079  -0.011536   \n",
       "chong                        -0.007591   0.005603  -0.002079  -0.011536   \n",
       "anyone                       -0.720080   0.051720   0.699613   0.871311   \n",
       "have                        -28.872172  -0.290784   0.515352   5.013752   \n",
       "any                          -8.924146   3.413608   0.881903   2.994744   \n",
       "info                         -0.011688   0.006342   0.003790  -0.006096   \n",
       "on                          -40.536623   0.817978   4.451391  -2.322179   \n",
       "videosound                   -0.005844   0.003171   0.001895  -0.003048   \n",
       "...                                ...        ...        ...        ...   \n",
       "slowest                      -0.033923   0.011549   0.022922  -0.011078   \n",
       "fastest                      -0.033923   0.011549   0.022922  -0.011078   \n",
       "apr@ugleunitno               -0.033045  -0.002611   0.032548   0.111083   \n",
       "experienced                  -0.033045  -0.002611   0.032548   0.111083   \n",
       "speeddisk                    -0.033045  -0.002611   0.032548   0.111083   \n",
       "once                         -0.033045  -0.002611   0.032548   0.111083   \n",
       "crashed                      -0.033045  -0.002611   0.032548   0.111083   \n",
       "defragmenting                -0.033045  -0.002611   0.032548   0.111083   \n",
       "bjorn                        -0.066090  -0.005222   0.065095   0.222166   \n",
       "myrland                      -0.033045  -0.002611   0.032548   0.111083   \n",
       "bjornmyrland@sipaasintefno   -0.033045  -0.002611   0.032548   0.111083   \n",
       "sintef                       -0.066090  -0.005222   0.065095   0.222166   \n",
       "norway                       -0.033045  -0.002611   0.032548   0.111083   \n",
       "foundation                   -0.033045  -0.002611   0.032548   0.111083   \n",
       "scientific                   -0.033045  -0.002611   0.032548   0.111083   \n",
       "norwegian                    -0.033045  -0.002611   0.032548   0.111083   \n",
       "apple                        -0.012041   0.004277  -0.002503  -0.006480   \n",
       "imagewriter                  -0.012041   0.004277  -0.002503  -0.006480   \n",
       "citoh                        -0.012041   0.004277  -0.002503  -0.006480   \n",
       "littlefield                  -0.012041   0.004277  -0.002503  -0.006480   \n",
       "little@hkscom                -0.012041   0.004277  -0.002503  -0.006480   \n",
       "albert                       -0.012041   0.004277  -0.002503  -0.006480   \n",
       "cubgkw@worldstdcom           -0.065629   0.018233   0.078803   0.086474   \n",
       "moves                        -0.065629   0.018233   0.078803   0.086474   \n",
       "morebetter                   -0.065629   0.018233   0.078803   0.086474   \n",
       "mastering                    -0.065629   0.018233   0.078803   0.086474   \n",
       "factors                      -0.065629   0.018233   0.078803   0.086474   \n",
       "impact                       -0.131258   0.036466   0.157605   0.172947   \n",
       "fullthrottle                 -0.065629   0.018233   0.078803   0.086474   \n",
       "cdroms                       -0.065629   0.018233   0.078803   0.086474   \n",
       "\n",
       "                                   4         5         6         7         8   \\\n",
       "from                        -2.917075 -1.753806  0.038373 -1.098688 -0.882087   \n",
       "article                     -1.120086 -2.219989  0.781105 -0.039510 -0.437906   \n",
       "afmbww@vicunaocunixonca      0.001190 -0.011774  0.011968 -0.010100  0.003757   \n",
       "by                          -0.671646 -1.111507  0.895859  0.053826 -0.705222   \n",
       "steve                       -0.027232 -0.064897  0.005234  0.013938  0.009886   \n",
       "frampton                     0.001190 -0.011774  0.011968 -0.010100  0.003757   \n",
       "frampton@vicunaocunixonca    0.001190 -0.011774  0.011968 -0.010100  0.003757   \n",
       "i                            4.183222  2.645869 -1.720859 -4.143772 -2.793095   \n",
       "was                          1.940130  1.759983 -0.095942 -0.373284 -2.586341   \n",
       "wondering                   -0.027588 -0.156753 -0.023079  0.032927 -0.196697   \n",
       "is                          -2.028781 -2.146172  0.359655 -0.922004 -1.264434   \n",
       "the                          4.090659 -3.931544  4.098414 -0.619891  4.407878   \n",
       "kermit                       0.631548  0.056235  0.189091 -0.904082  1.112808   \n",
       "package                      0.810846  0.146039  0.231950 -1.351821  1.621362   \n",
       "actual                      -0.015386  0.113453 -0.120371 -0.011248 -0.109232   \n",
       "not                         -0.816917  0.310609  1.323090  0.472234  3.306023   \n",
       "a                          -10.755729  4.670180  3.643471 -0.461386 -5.307206   \n",
       "yes                         -0.007924 -0.156269  0.074804  0.049642 -0.099236   \n",
       "in                          -1.072052 -5.389501 -3.702023  2.190880 -4.244940   \n",
       "usual                       -0.030265  0.022375  0.004426 -0.057481  0.049075   \n",
       "ftp                          0.424397  0.037856  0.018476 -0.539811  0.932371   \n",
       "sites                        0.022435 -0.034159 -0.002262 -0.038309 -0.059440   \n",
       "yek                          0.001190 -0.011774  0.011968 -0.010100  0.003757   \n",
       "chong                        0.001190 -0.011774  0.011968 -0.010100  0.003757   \n",
       "anyone                      -0.933660  0.185631  2.605282  0.665044  0.681316   \n",
       "have                        -3.433153  0.319482  3.501900  1.647149  0.840696   \n",
       "any                          0.339940 -0.208558 -0.861453  0.129538  0.197268   \n",
       "info                        -0.015016 -0.010230  0.048476  0.005664  0.024279   \n",
       "on                           0.430537  6.431415  0.708331  0.666005 -1.943270   \n",
       "videosound                  -0.007508 -0.005115  0.024238  0.002832  0.012140   \n",
       "...                               ...       ...       ...       ...       ...   \n",
       "slowest                      0.049830 -0.100798  0.022604 -0.047807  0.091123   \n",
       "fastest                      0.049830 -0.100798  0.022604 -0.047807  0.091123   \n",
       "apr@ugleunitno               0.131751  0.052662  0.053146  0.030849 -0.024312   \n",
       "experienced                  0.131751  0.052662  0.053146  0.030849 -0.024312   \n",
       "speeddisk                    0.131751  0.052662  0.053146  0.030849 -0.024312   \n",
       "once                         0.131751  0.052662  0.053146  0.030849 -0.024312   \n",
       "crashed                      0.131751  0.052662  0.053146  0.030849 -0.024312   \n",
       "defragmenting                0.131751  0.052662  0.053146  0.030849 -0.024312   \n",
       "bjorn                        0.263503  0.105324  0.106292  0.061698 -0.048624   \n",
       "myrland                      0.131751  0.052662  0.053146  0.030849 -0.024312   \n",
       "bjornmyrland@sipaasintefno   0.131751  0.052662  0.053146  0.030849 -0.024312   \n",
       "sintef                       0.263503  0.105324  0.106292  0.061698 -0.048624   \n",
       "norway                       0.131751  0.052662  0.053146  0.030849 -0.024312   \n",
       "foundation                   0.131751  0.052662  0.053146  0.030849 -0.024312   \n",
       "scientific                   0.131751  0.052662  0.053146  0.030849 -0.024312   \n",
       "norwegian                    0.131751  0.052662  0.053146  0.030849 -0.024312   \n",
       "apple                        0.002744  0.017504  0.018505  0.007478 -0.015466   \n",
       "imagewriter                  0.002744  0.017504  0.018505  0.007478 -0.015466   \n",
       "citoh                        0.002744  0.017504  0.018505  0.007478 -0.015466   \n",
       "littlefield                  0.002744  0.017504  0.018505  0.007478 -0.015466   \n",
       "little@hkscom                0.002744  0.017504  0.018505  0.007478 -0.015466   \n",
       "albert                       0.002744  0.017504  0.018505  0.007478 -0.015466   \n",
       "cubgkw@worldstdcom          -0.419239  0.314072  0.626429  0.079191  0.121298   \n",
       "moves                       -0.419239  0.314072  0.626429  0.079191  0.121298   \n",
       "morebetter                  -0.419239  0.314072  0.626429  0.079191  0.121298   \n",
       "mastering                   -0.419239  0.314072  0.626429  0.079191  0.121298   \n",
       "factors                     -0.419239  0.314072  0.626429  0.079191  0.121298   \n",
       "impact                      -0.838479  0.628143  1.252857  0.158381  0.242596   \n",
       "fullthrottle                -0.419239  0.314072  0.626429  0.079191  0.121298   \n",
       "cdroms                      -0.419239  0.314072  0.626429  0.079191  0.121298   \n",
       "\n",
       "                                  9         10        11        12        13  \\\n",
       "from                        3.153923  1.924573  0.275913 -0.398298  1.268749   \n",
       "article                    -1.018974  1.802445  1.081397  0.326990 -0.118236   \n",
       "afmbww@vicunaocunixonca    -0.016248  0.008771 -0.006857  0.006822 -0.002467   \n",
       "by                          0.024866 -0.442321 -1.064912 -0.299227  1.684950   \n",
       "steve                      -0.059393 -0.042467  0.154171 -0.027117 -0.044604   \n",
       "frampton                   -0.016248  0.008771 -0.006857  0.006822 -0.002467   \n",
       "frampton@vicunaocunixonca  -0.016248  0.008771 -0.006857  0.006822 -0.002467   \n",
       "i                           4.190268 -3.609753 -2.270390  1.006045 -7.628516   \n",
       "was                         1.814087  2.945019 -1.525722 -1.558705  0.314356   \n",
       "wondering                  -0.086084  0.124016  0.071889  0.269011 -0.344010   \n",
       "is                         -5.019596  3.520921 -1.964155  1.467457 -1.626361   \n",
       "the                        -4.643170 -0.445613 -2.941729  0.901962  1.988745   \n",
       "kermit                     -0.019826 -0.217597  0.329224  0.587671 -0.164135   \n",
       "package                     0.044914 -0.355937  0.834729  0.796832  0.034700   \n",
       "actual                      0.000864  0.026661 -0.016296  0.061762 -0.063522   \n",
       "not                        -0.954056  2.629298  1.505708 -1.615746  0.907696   \n",
       "a                           6.954720 -4.226181  2.403101 -4.497653  0.431691   \n",
       "yes                        -0.480008  0.301628  0.317416 -0.320920  0.096466   \n",
       "in                         -4.810285  2.372484  2.867042  3.916900 -1.620641   \n",
       "usual                      -0.000761 -0.017566  0.013343 -0.052025  0.047115   \n",
       "ftp                        -1.337201 -0.159746  0.817869  0.391233 -0.303874   \n",
       "sites                      -0.142098  0.135851  0.277656 -0.145612 -0.085688   \n",
       "yek                        -0.016248  0.008771 -0.006857  0.006822 -0.002467   \n",
       "chong                      -0.016248  0.008771 -0.006857  0.006822 -0.002467   \n",
       "anyone                     -1.366215 -0.249325 -0.572736 -0.945462 -0.198599   \n",
       "have                       -2.192431  0.389522 -1.397499 -2.791884 -2.050111   \n",
       "any                        -1.930339  0.504844  0.110733 -2.292580  0.122483   \n",
       "info                       -0.104474  0.056523 -0.012721 -0.011437  0.016264   \n",
       "on                          0.227756  1.554901  1.039731 -0.240518 -0.354775   \n",
       "videosound                 -0.052237  0.028261 -0.006361 -0.005719  0.008132   \n",
       "...                              ...       ...       ...       ...       ...   \n",
       "slowest                    -0.155931  0.052025 -0.077703 -0.106692 -0.030570   \n",
       "fastest                    -0.155931  0.052025 -0.077703 -0.106692 -0.030570   \n",
       "apr@ugleunitno              0.195948  0.346822 -0.054266 -0.057942 -0.019820   \n",
       "experienced                 0.195948  0.346822 -0.054266 -0.057942 -0.019820   \n",
       "speeddisk                   0.195948  0.346822 -0.054266 -0.057942 -0.019820   \n",
       "once                        0.195948  0.346822 -0.054266 -0.057942 -0.019820   \n",
       "crashed                     0.195948  0.346822 -0.054266 -0.057942 -0.019820   \n",
       "defragmenting               0.195948  0.346822 -0.054266 -0.057942 -0.019820   \n",
       "bjorn                       0.391896  0.693645 -0.108532 -0.115884 -0.039640   \n",
       "myrland                     0.195948  0.346822 -0.054266 -0.057942 -0.019820   \n",
       "bjornmyrland@sipaasintefno  0.195948  0.346822 -0.054266 -0.057942 -0.019820   \n",
       "sintef                      0.391896  0.693645 -0.108532 -0.115884 -0.039640   \n",
       "norway                      0.195948  0.346822 -0.054266 -0.057942 -0.019820   \n",
       "foundation                  0.195948  0.346822 -0.054266 -0.057942 -0.019820   \n",
       "scientific                  0.195948  0.346822 -0.054266 -0.057942 -0.019820   \n",
       "norwegian                   0.195948  0.346822 -0.054266 -0.057942 -0.019820   \n",
       "apple                      -0.022462 -0.019277 -0.008442 -0.004566  0.022356   \n",
       "imagewriter                -0.022462 -0.019277 -0.008442 -0.004566  0.022356   \n",
       "citoh                      -0.022462 -0.019277 -0.008442 -0.004566  0.022356   \n",
       "littlefield                -0.022462 -0.019277 -0.008442 -0.004566  0.022356   \n",
       "little@hkscom              -0.022462 -0.019277 -0.008442 -0.004566  0.022356   \n",
       "albert                     -0.022462 -0.019277 -0.008442 -0.004566  0.022356   \n",
       "cubgkw@worldstdcom         -0.133834 -0.000674 -0.069613  0.137310  0.030336   \n",
       "moves                      -0.133834 -0.000674 -0.069613  0.137310  0.030336   \n",
       "morebetter                 -0.133834 -0.000674 -0.069613  0.137310  0.030336   \n",
       "mastering                  -0.133834 -0.000674 -0.069613  0.137310  0.030336   \n",
       "factors                    -0.133834 -0.000674 -0.069613  0.137310  0.030336   \n",
       "impact                     -0.267667 -0.001348 -0.139226  0.274621  0.060672   \n",
       "fullthrottle               -0.133834 -0.000674 -0.069613  0.137310  0.030336   \n",
       "cdroms                     -0.133834 -0.000674 -0.069613  0.137310  0.030336   \n",
       "\n",
       "                                  14        15        16        17        18  \\\n",
       "from                        0.001621  0.520877 -1.341756  0.946932 -0.293432   \n",
       "article                     0.135365 -0.981863 -0.184723  0.058139  0.592562   \n",
       "afmbww@vicunaocunixonca     0.017409 -0.010704  0.018683 -0.028062  0.025569   \n",
       "by                         -0.293033 -0.315664  1.866012 -2.189423  1.017327   \n",
       "steve                      -0.220160 -0.230716 -0.093960 -0.133383  0.163374   \n",
       "frampton                    0.017409 -0.010704  0.018683 -0.028062  0.025569   \n",
       "frampton@vicunaocunixonca   0.017409 -0.010704  0.018683 -0.028062  0.025569   \n",
       "i                           2.204047  3.752621  0.940045  0.091329  3.557613   \n",
       "was                        -2.639754 -2.311276  0.578089  0.220501 -0.805942   \n",
       "wondering                  -0.024047 -0.186845  0.094757 -0.254049  0.202992   \n",
       "is                          3.786615  1.463496  4.782096 -0.421107  1.150711   \n",
       "the                         3.093014 -2.569122 -1.632427  0.771144  0.284389   \n",
       "kermit                      0.050802 -0.121523  0.258395  0.028341 -0.099040   \n",
       "package                     0.032270 -0.271444  0.615024 -0.191179 -0.179112   \n",
       "actual                      0.028745  0.011643  0.009497  0.003021  0.012793   \n",
       "not                         0.616619  7.154138 -0.600492 -2.900679 -0.508221   \n",
       "a                          -1.844088 -2.330379  1.936477 -3.710882 -0.177067   \n",
       "yes                         0.186511 -0.440647  0.697332  0.041263  0.080393   \n",
       "in                         -3.179669 -2.312770  2.100054 -4.425399  1.167172   \n",
       "usual                       0.004877 -0.044728 -0.042333 -0.067283  0.106661   \n",
       "ftp                        -0.527490 -0.239555 -0.431689 -0.115959  2.185154   \n",
       "sites                      -0.097514  0.293975  0.262085  0.460017  0.093578   \n",
       "yek                         0.017409 -0.010704  0.018683 -0.028062  0.025569   \n",
       "chong                       0.017409 -0.010704  0.018683 -0.028062  0.025569   \n",
       "anyone                      0.467131 -0.269335 -0.327771  0.348695  1.359422   \n",
       "have                        0.215158 -1.114717  1.809394  0.762799 -0.119131   \n",
       "any                        -0.388704 -0.300501 -0.259314 -1.220049  2.412338   \n",
       "info                        0.020170 -0.019562  0.007338  0.038525 -0.010878   \n",
       "on                         -2.183879 -0.994285  0.566140  0.888187 -1.713465   \n",
       "videosound                  0.010085 -0.009781  0.003669  0.019262 -0.005439   \n",
       "...                              ...       ...       ...       ...       ...   \n",
       "slowest                     0.080492 -0.008474 -0.088314  0.003112  0.010466   \n",
       "fastest                     0.080492 -0.008474 -0.088314  0.003112  0.010466   \n",
       "apr@ugleunitno              0.029496 -0.056003  0.006292 -0.047354  0.053810   \n",
       "experienced                 0.029496 -0.056003  0.006292 -0.047354  0.053810   \n",
       "speeddisk                   0.029496 -0.056003  0.006292 -0.047354  0.053810   \n",
       "once                        0.029496 -0.056003  0.006292 -0.047354  0.053810   \n",
       "crashed                     0.029496 -0.056003  0.006292 -0.047354  0.053810   \n",
       "defragmenting               0.029496 -0.056003  0.006292 -0.047354  0.053810   \n",
       "bjorn                       0.058991 -0.112006  0.012584 -0.094707  0.107620   \n",
       "myrland                     0.029496 -0.056003  0.006292 -0.047354  0.053810   \n",
       "bjornmyrland@sipaasintefno  0.029496 -0.056003  0.006292 -0.047354  0.053810   \n",
       "sintef                      0.058991 -0.112006  0.012584 -0.094707  0.107620   \n",
       "norway                      0.029496 -0.056003  0.006292 -0.047354  0.053810   \n",
       "foundation                  0.029496 -0.056003  0.006292 -0.047354  0.053810   \n",
       "scientific                  0.029496 -0.056003  0.006292 -0.047354  0.053810   \n",
       "norwegian                   0.029496 -0.056003  0.006292 -0.047354  0.053810   \n",
       "apple                      -0.001250 -0.013039 -0.007549  0.035389  0.025714   \n",
       "imagewriter                -0.001250 -0.013039 -0.007549  0.035389  0.025714   \n",
       "citoh                      -0.001250 -0.013039 -0.007549  0.035389  0.025714   \n",
       "littlefield                -0.001250 -0.013039 -0.007549  0.035389  0.025714   \n",
       "little@hkscom              -0.001250 -0.013039 -0.007549  0.035389  0.025714   \n",
       "albert                     -0.001250 -0.013039 -0.007549  0.035389  0.025714   \n",
       "cubgkw@worldstdcom         -0.015687  0.039279 -0.026549  0.067011 -0.037914   \n",
       "moves                      -0.015687  0.039279 -0.026549  0.067011 -0.037914   \n",
       "morebetter                 -0.015687  0.039279 -0.026549  0.067011 -0.037914   \n",
       "mastering                  -0.015687  0.039279 -0.026549  0.067011 -0.037914   \n",
       "factors                    -0.015687  0.039279 -0.026549  0.067011 -0.037914   \n",
       "impact                     -0.031374  0.078557 -0.053098  0.134023 -0.075827   \n",
       "fullthrottle               -0.015687  0.039279 -0.026549  0.067011 -0.037914   \n",
       "cdroms                     -0.015687  0.039279 -0.026549  0.067011 -0.037914   \n",
       "\n",
       "                                  19  \n",
       "from                       -2.047359  \n",
       "article                    -1.041280  \n",
       "afmbww@vicunaocunixonca    -0.027593  \n",
       "by                          0.940064  \n",
       "steve                       0.011848  \n",
       "frampton                   -0.027593  \n",
       "frampton@vicunaocunixonca  -0.027593  \n",
       "i                           0.322436  \n",
       "was                        -0.580182  \n",
       "wondering                  -0.030265  \n",
       "is                          1.416597  \n",
       "the                        -0.975753  \n",
       "kermit                      0.016563  \n",
       "package                    -0.001596  \n",
       "actual                     -0.009154  \n",
       "not                        -2.811474  \n",
       "a                          -2.078538  \n",
       "yes                        -0.469161  \n",
       "in                         -0.981540  \n",
       "usual                      -0.079296  \n",
       "ftp                         1.420797  \n",
       "sites                       0.015569  \n",
       "yek                        -0.027593  \n",
       "chong                      -0.027593  \n",
       "anyone                      0.505232  \n",
       "have                        3.086713  \n",
       "any                        -2.711262  \n",
       "info                        0.011232  \n",
       "on                          1.095694  \n",
       "videosound                  0.005616  \n",
       "...                              ...  \n",
       "slowest                     0.001674  \n",
       "fastest                     0.001674  \n",
       "apr@ugleunitno              0.202399  \n",
       "experienced                 0.202399  \n",
       "speeddisk                   0.202399  \n",
       "once                        0.202399  \n",
       "crashed                     0.202399  \n",
       "defragmenting               0.202399  \n",
       "bjorn                       0.404798  \n",
       "myrland                     0.202399  \n",
       "bjornmyrland@sipaasintefno  0.202399  \n",
       "sintef                      0.404798  \n",
       "norway                      0.202399  \n",
       "foundation                  0.202399  \n",
       "scientific                  0.202399  \n",
       "norwegian                   0.202399  \n",
       "apple                      -0.030807  \n",
       "imagewriter                -0.030807  \n",
       "citoh                      -0.030807  \n",
       "littlefield                -0.030807  \n",
       "little@hkscom              -0.030807  \n",
       "albert                     -0.030807  \n",
       "cubgkw@worldstdcom          0.025426  \n",
       "moves                       0.025426  \n",
       "morebetter                  0.025426  \n",
       "mastering                   0.025426  \n",
       "factors                     0.025426  \n",
       "impact                      0.050853  \n",
       "fullthrottle                0.025426  \n",
       "cdroms                      0.025426  \n",
       "\n",
       "[3349 rows x 20 columns]"
      ]
     },
     "execution_count": 89,
     "metadata": {},
     "output_type": "execute_result"
    }
   ],
   "source": [
    "reducedDF = reduce_pca_svd(term_doc_df, 20)\n",
    "reducedDF"
   ]
  },
  {
   "cell_type": "markdown",
   "metadata": {
    "colab_type": "text",
    "id": "q80HyKyoFN8m"
   },
   "source": [
    "### Cosine similarity\n",
    "To measure the similarity between two words, the common way is to compute the **cosine similarity** between two word embedding vectors, which measures the cosine of the angle between two vectors:\n",
    "\n",
    "$cosine\\_sim(w_1,w_2)=\\frac{w_1\\cdot w_2}{\\|w_1\\| \\|w_2\\|}$\n",
    "\n"
   ]
  },
  {
   "cell_type": "markdown",
   "metadata": {
    "colab_type": "text",
    "id": "lt9hEldGNYXv"
   },
   "source": [
    "Task 1: Implement the cosine similarity function that takes two words and returns a scalar value.\n"
   ]
  },
  {
   "cell_type": "code",
   "execution_count": 90,
   "metadata": {
    "colab": {},
    "colab_type": "code",
    "id": "df7quMm3FODS"
   },
   "outputs": [],
   "source": [
    "def cosine_sim(w1, w2):\n",
    "    p1 = w1.to_numpy()\n",
    "    p2 = w2.to_numpy()\n",
    "    cs = (p1.dot(p2))/(la.norm(p1)*la.norm(p2))\n",
    "    return cs"
   ]
  },
  {
   "cell_type": "markdown",
   "metadata": {
    "colab_type": "text",
    "id": "JLjA-ugXNYUM"
   },
   "source": [
    "Task 2: Calculate the similarity between **w1 = 'mouse'** *and* **w2 = 'keyboard'**"
   ]
  },
  {
   "cell_type": "code",
   "execution_count": 91,
   "metadata": {
    "colab": {},
    "colab_type": "code",
    "id": "SmjW7WbqNEgT"
   },
   "outputs": [
    {
     "data": {
      "text/plain": [
       "0.4372154335131106"
      ]
     },
     "execution_count": 91,
     "metadata": {},
     "output_type": "execute_result"
    }
   ],
   "source": [
    "w1 = reducedDF.loc['mouse']\n",
    "w2 = reducedDF.loc['keyboard']\n",
    "cosine_sim(w1, w2)"
   ]
  },
  {
   "cell_type": "code",
   "execution_count": 92,
   "metadata": {
    "colab": {},
    "colab_type": "code",
    "id": "_USsxqbzNOAP"
   },
   "outputs": [
    {
     "data": {
      "text/plain": [
       "True"
      ]
     },
     "execution_count": 92,
     "metadata": {},
     "output_type": "execute_result"
    }
   ],
   "source": [
    "#Should return True in order to ensure that the cosine similarity implementation is correct\n",
    "from sklearn.metrics.pairwise import cosine_similarity\n",
    "np.allclose(cosine_similarity([w1.values], [w2.values]), cosine_sim(w1, w2)) "
   ]
  },
  {
   "cell_type": "markdown",
   "metadata": {
    "colab_type": "text",
    "id": "qbXkd-huFtfa"
   },
   "source": [
    "Task 3: Calculate the similarity between **w1 = 'mouse'** *and* **w3 = 'house'** and verify again that your answer is correct by comparing with the sklearn implementation of the function.\n",
    "\n",
    "Note, the word 'mouse' is closer to 'keyboard' than 'house' due to the fact that our documents came from a 'computer' related topic"
   ]
  },
  {
   "cell_type": "code",
   "execution_count": 93,
   "metadata": {
    "colab": {},
    "colab_type": "code",
    "id": "WmzSne2GFxwq"
   },
   "outputs": [
    {
     "name": "stdout",
     "output_type": "stream",
     "text": [
      "0.3205933240982375\n",
      "True\n"
     ]
    }
   ],
   "source": [
    "w3 = reducedDF.loc['house']\n",
    "print(cosine_sim(w1, w3))\n",
    "\n",
    "print(np.allclose(cosine_similarity([w1.values], [w3.values]), cosine_sim(w1, w3)))"
   ]
  },
  {
   "cell_type": "markdown",
   "metadata": {
    "colab_type": "text",
    "id": "Q5eg_3-KURGD"
   },
   "source": [
    "Sources:\n",
    "\n",
    "https://stats.stackexchange.com/questions/134282/relationship-between-svd-and-pca-how-to-use-svd-to-perform-pca\n",
    "\n",
    "https://medium.com/@jonathan_hui/machine-learning-singular-value-decomposition-svd-principal-component-analysis-pca-1d45e885e491\n",
    "\n",
    "https://towardsdatascience.com/pca-and-svd-explained-with-numpy-5d13b0d2a4d8\n",
    "\n",
    "https://intoli.com/blog/pca-and-svd/\n",
    "\n",
    "https://www.visiondummy.com/2014/04/geometric-interpretation-covariance-matrix/"
   ]
  }
 ],
 "metadata": {
  "colab": {
   "collapsed_sections": [],
   "name": "PythonDimReduction.ipynb",
   "provenance": [],
   "toc_visible": true
  },
  "kernelspec": {
   "display_name": "Python 3",
   "language": "python",
   "name": "python3"
  },
  "language_info": {
   "codemirror_mode": {
    "name": "ipython",
    "version": 3
   },
   "file_extension": ".py",
   "mimetype": "text/x-python",
   "name": "python",
   "nbconvert_exporter": "python",
   "pygments_lexer": "ipython3",
   "version": "3.7.3"
  }
 },
 "nbformat": 4,
 "nbformat_minor": 1
}

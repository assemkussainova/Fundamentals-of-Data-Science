{
 "cells": [
  {
   "cell_type": "markdown",
   "metadata": {
    "colab_type": "text",
    "id": "siyJEBXyNpK5"
   },
   "source": [
    "### Python Basics"
   ]
  },
  {
   "cell_type": "markdown",
   "metadata": {
    "colab_type": "text",
    "id": "dM-sFsLPNpK6"
   },
   "source": [
    "### Printing, Variables, Arithmetic"
   ]
  },
  {
   "cell_type": "code",
   "execution_count": 1,
   "metadata": {
    "colab": {
     "base_uri": "https://localhost:8080/",
     "height": 34
    },
    "colab_type": "code",
    "id": "EaSWuvrwNpK6",
    "outputId": "237c6c6e-b9cb-4fba-9ffe-be71fc5a2934"
   },
   "outputs": [
    {
     "name": "stdout",
     "output_type": "stream",
     "text": [
      "I already love Python\n"
     ]
    }
   ],
   "source": [
    "# Print\n",
    "print('I already love Python')"
   ]
  },
  {
   "cell_type": "code",
   "execution_count": 2,
   "metadata": {
    "colab": {
     "base_uri": "https://localhost:8080/",
     "height": 51
    },
    "colab_type": "code",
    "id": "S9PbfVmWNpK9",
    "outputId": "c0cb9124-9844-4f64-9f43-b18a98e762c9"
   },
   "outputs": [
    {
     "name": "stdout",
     "output_type": "stream",
     "text": [
      "10\n",
      "5\n"
     ]
    }
   ],
   "source": [
    "# Variables and assignment\n",
    "a = 10\n",
    "print(a)\n",
    "b = 5\n",
    "print(b)"
   ]
  },
  {
   "cell_type": "code",
   "execution_count": 3,
   "metadata": {
    "colab": {
     "base_uri": "https://localhost:8080/",
     "height": 85
    },
    "colab_type": "code",
    "id": "pfWaUB_tNpK_",
    "outputId": "6f7f8736-d9fb-4cb3-b93b-6d0f29ab0bf1"
   },
   "outputs": [
    {
     "name": "stdout",
     "output_type": "stream",
     "text": [
      "15\n",
      "50\n",
      "2.0\n",
      "5\n"
     ]
    }
   ],
   "source": [
    "# Arithmetic\n",
    "# Note variable values persist from previous cell\n",
    "print(a + b)\n",
    "print(a * b)\n",
    "print(a / b)\n",
    "print(a - b)"
   ]
  },
  {
   "cell_type": "code",
   "execution_count": 4,
   "metadata": {
    "colab": {
     "base_uri": "https://localhost:8080/",
     "height": 34
    },
    "colab_type": "code",
    "id": "vn1QbJOnNpLA",
    "outputId": "734649f5-906d-4517-bf87-805e4203a377"
   },
   "outputs": [
    {
     "name": "stdout",
     "output_type": "stream",
     "text": [
      "15\n"
     ]
    }
   ],
   "source": [
    "# Update\n",
    "a = a + b\n",
    "print(a)"
   ]
  },
  {
   "cell_type": "code",
   "execution_count": 5,
   "metadata": {
    "colab": {
     "base_uri": "https://localhost:8080/",
     "height": 34
    },
    "colab_type": "code",
    "id": "6lF35Uz4NpLC",
    "outputId": "772146e0-14ac-4fcd-ac20-82cbf3f080ab"
   },
   "outputs": [
    {
     "name": "stdout",
     "output_type": "stream",
     "text": [
      "20\n"
     ]
    }
   ],
   "source": [
    "# Increment\n",
    "a += b\n",
    "print(a)"
   ]
  },
  {
   "cell_type": "markdown",
   "metadata": {
    "colab_type": "text",
    "id": "GLxNyeetNpLD"
   },
   "source": [
    "### Types"
   ]
  },
  {
   "cell_type": "code",
   "execution_count": 6,
   "metadata": {
    "colab": {
     "base_uri": "https://localhost:8080/",
     "height": 68
    },
    "colab_type": "code",
    "id": "kPHvoXYUNpLE",
    "outputId": "308d1c91-76cb-4928-a76f-99244ee9656b"
   },
   "outputs": [
    {
     "name": "stdout",
     "output_type": "stream",
     "text": [
      "<class 'int'>\n",
      "<class 'str'>\n",
      "<class 'float'>\n"
     ]
    }
   ],
   "source": [
    "# Dynamically-inferred types\n",
    "a = 10\n",
    "print(type(a))\n",
    "a = '10'\n",
    "print(type(a))\n",
    "a = 10.0\n",
    "print(type(a))"
   ]
  },
  {
   "cell_type": "code",
   "execution_count": 8,
   "metadata": {
    "colab": {
     "base_uri": "https://localhost:8080/",
     "height": 197
    },
    "colab_type": "code",
    "id": "AHW3HDL_NpLF",
    "outputId": "46bc420d-f535-4e9f-c286-4e4a0c9a36cb"
   },
   "outputs": [
    {
     "name": "stdout",
     "output_type": "stream",
     "text": [
      "105\n"
     ]
    }
   ],
   "source": [
    "# Type-checking\n",
    "a = '10'\n",
    "b = '5'\n",
    "print(a + b)"
   ]
  },
  {
   "cell_type": "code",
   "execution_count": 9,
   "metadata": {
    "colab": {
     "base_uri": "https://localhost:8080/",
     "height": 34
    },
    "colab_type": "code",
    "id": "-GlxefriNpLH",
    "outputId": "f3c3ccc8-b2dc-4e7f-bb82-fbf54951933b"
   },
   "outputs": [
    {
     "name": "stdout",
     "output_type": "stream",
     "text": [
      "15\n"
     ]
    }
   ],
   "source": [
    "# Manual type-conversion (string to int)\n",
    "a = 10\n",
    "b = '5'\n",
    "print(a + int(b))"
   ]
  },
  {
   "cell_type": "code",
   "execution_count": 10,
   "metadata": {
    "colab": {
     "base_uri": "https://localhost:8080/",
     "height": 51
    },
    "colab_type": "code",
    "id": "PiyBadHPNpLJ",
    "outputId": "7adc9754-1b6f-4c04-d68a-fa6f71525fd7"
   },
   "outputs": [
    {
     "name": "stdout",
     "output_type": "stream",
     "text": [
      "<class 'int'>\n",
      "15.0 <class 'float'>\n"
     ]
    }
   ],
   "source": [
    "# Automatic type-conversion (int to float)\n",
    "a = 10\n",
    "print(type(a))\n",
    "a += 5.0\n",
    "print(a, type(a))"
   ]
  },
  {
   "cell_type": "code",
   "execution_count": 11,
   "metadata": {
    "colab": {
     "base_uri": "https://localhost:8080/",
     "height": 51
    },
    "colab_type": "code",
    "id": "TgnaJ1R4NpLL",
    "outputId": "f33ec2bd-856d-4369-8960-057f2107dd01"
   },
   "outputs": [
    {
     "name": "stdout",
     "output_type": "stream",
     "text": [
      "2\n",
      "0\n"
     ]
    }
   ],
   "source": [
    "# Integer division\n",
    "a = 10\n",
    "b = 5\n",
    "print(a//b)\n",
    "print(b//a)"
   ]
  },
  {
   "cell_type": "code",
   "execution_count": 12,
   "metadata": {
    "colab": {
     "base_uri": "https://localhost:8080/",
     "height": 34
    },
    "colab_type": "code",
    "id": "YAjWtf0DNpLM",
    "outputId": "edc2e5c5-198a-456a-fff1-83809077a56e"
   },
   "outputs": [
    {
     "name": "stdout",
     "output_type": "stream",
     "text": [
      "0.0\n"
     ]
    }
   ],
   "source": [
    "# Forcing float division\n",
    "print(float(b//a))\n",
    "# How to correct?"
   ]
  },
  {
   "cell_type": "code",
   "execution_count": 13,
   "metadata": {
    "colab": {
     "base_uri": "https://localhost:8080/",
     "height": 34
    },
    "colab_type": "code",
    "id": "uMpQ4lYYNpLO",
    "outputId": "c7abe5db-c667-4867-9c43-9799258508dd"
   },
   "outputs": [
    {
     "name": "stdout",
     "output_type": "stream",
     "text": [
      "Hello world!\n"
     ]
    }
   ],
   "source": [
    "# String \"arithmetic\" (actually concatenation)\n",
    "a = 'Hello '\n",
    "b = 'world!'\n",
    "print(a + b)"
   ]
  },
  {
   "cell_type": "markdown",
   "metadata": {
    "colab_type": "text",
    "id": "HaeEheymNpLP"
   },
   "source": [
    "### User Input"
   ]
  },
  {
   "cell_type": "code",
   "execution_count": 14,
   "metadata": {
    "colab": {
     "base_uri": "https://localhost:8080/",
     "height": 85
    },
    "colab_type": "code",
    "id": "8hUGkCoXNpLQ",
    "outputId": "c388955c-557b-45a3-ecc4-10540a2fc9b9"
   },
   "outputs": [
    {
     "name": "stdout",
     "output_type": "stream",
     "text": [
      "Enter value 1: 1\n",
      "Enter value 2: 2\n",
      "12\n",
      "<class 'str'> <class 'str'>\n"
     ]
    }
   ],
   "source": [
    "# Whatever you enter as input, input function converts it into a string.\n",
    "a = input('Enter value 1: ')\n",
    "b = input('Enter value 2: ')\n",
    "print(a + b)\n",
    "print(type(a), type(b))"
   ]
  },
  {
   "cell_type": "code",
   "execution_count": 15,
   "metadata": {
    "colab": {
     "base_uri": "https://localhost:8080/",
     "height": 85
    },
    "colab_type": "code",
    "id": "uZHdWqsAQPjF",
    "outputId": "3177b364-d61e-4a69-d171-99315ddb70cb"
   },
   "outputs": [
    {
     "name": "stdout",
     "output_type": "stream",
     "text": [
      "Enter number 1: 1\n",
      "Enter number 2: 2\n",
      "3.0\n",
      "<class 'str'> <class 'str'>\n"
     ]
    }
   ],
   "source": [
    "# You need to explicitly convert it into an integer in your code using typecasting.\n",
    "a = input('Enter number 1: ')\n",
    "b = input('Enter number 2: ')\n",
    "print(float(a) + float(b))\n",
    "print(type(a), type(b))"
   ]
  },
  {
   "cell_type": "markdown",
   "metadata": {
    "colab_type": "text",
    "id": "5WIs_EuiNpLT"
   },
   "source": [
    "### Conditional (If) Statements"
   ]
  },
  {
   "cell_type": "code",
   "execution_count": 16,
   "metadata": {
    "colab": {
     "base_uri": "https://localhost:8080/",
     "height": 51
    },
    "colab_type": "code",
    "id": "30XNB7e8NpLT",
    "outputId": "76966218-f4c4-4d54-821b-4ef5e92cb91d"
   },
   "outputs": [
    {
     "name": "stdout",
     "output_type": "stream",
     "text": [
      "no condition matched\n",
      "so a is 5 or less\n"
     ]
    }
   ],
   "source": [
    "# If statements\n",
    "# Unlike other languages, indentation is significant\n",
    "a = 5\n",
    "if a > 10:\n",
    "    print('a is greater than 10')\n",
    "    if a >= 15:\n",
    "        print('a is also at least 15')\n",
    "elif a > 5:\n",
    "    print('a is greater than 5 but not greater than 10')\n",
    "else:\n",
    "    print('no condition matched')\n",
    "    print('so a is 5 or less')"
   ]
  },
  {
   "cell_type": "markdown",
   "metadata": {
    "colab_type": "text",
    "id": "3AG4UoXcpMgu"
   },
   "source": [
    "### <font color = 'green'>Your Turn</font>"
   ]
  },
  {
   "cell_type": "code",
   "execution_count": 19,
   "metadata": {
    "colab": {},
    "colab_type": "code",
    "id": "C4x5Ixh7pMgv"
   },
   "outputs": [
    {
     "name": "stdout",
     "output_type": "stream",
     "text": [
      "7\n",
      "too small to bother with\n"
     ]
    }
   ],
   "source": [
    "\n",
    "# Write a program that asks for a number and computes the\n",
    "# square of that number.\n",
    "# If the square is 100 or greater, print the squared value\n",
    "# and the word 'big'.\n",
    "# Otherwise if the square is 50 or greater, print the\n",
    "# squared value and the word 'medium'.\n",
    "# Otherwise just print 'too small to bother with'.\n",
    "# Note: To compute x squared, use x*x or x**2\n",
    "#\n",
    "a = int(input())\n",
    "sqr = a ** 2\n",
    "if sqr > 100:\n",
    "    print(sqr, \"big\")\n",
    "elif sqr >= 50:\n",
    "    print(sqr, \"medium\")\n",
    "else:\n",
    "    print(\"too small to bother with\")"
   ]
  },
  {
   "cell_type": "markdown",
   "metadata": {
    "colab_type": "text",
    "id": "bF0ZWzDuNpLV"
   },
   "source": [
    "### Lists and For-Loops"
   ]
  },
  {
   "cell_type": "code",
   "execution_count": 20,
   "metadata": {
    "colab": {
     "base_uri": "https://localhost:8080/",
     "height": 68
    },
    "colab_type": "code",
    "id": "3vkcHurVNpLV",
    "outputId": "13e7954f-f94b-4079-86ff-594a00d1e9be"
   },
   "outputs": [
    {
     "name": "stdout",
     "output_type": "stream",
     "text": [
      "[2, 4, 7, 9]\n",
      "<class 'list'>\n",
      "4\n"
     ]
    }
   ],
   "source": [
    "# List\n",
    "a = [2, 4, 7, 9]\n",
    "print(a)\n",
    "print(type(a))\n",
    "print(len(a))"
   ]
  },
  {
   "cell_type": "code",
   "execution_count": 21,
   "metadata": {
    "colab": {
     "base_uri": "https://localhost:8080/",
     "height": 85
    },
    "colab_type": "code",
    "id": "4VMQd3kHNpLX",
    "outputId": "cbed4866-54f5-472a-a66e-4c3f596ea3ed"
   },
   "outputs": [
    {
     "name": "stdout",
     "output_type": "stream",
     "text": [
      "2 4\n",
      "4 8\n",
      "7 14\n",
      "9 18\n"
     ]
    }
   ],
   "source": [
    "# Iterate through a list\n",
    "for x in a:\n",
    "    print(x, 2 * x)"
   ]
  },
  {
   "cell_type": "code",
   "execution_count": 22,
   "metadata": {
    "colab": {
     "base_uri": "https://localhost:8080/",
     "height": 51
    },
    "colab_type": "code",
    "id": "O6H0wUYxNpLY",
    "outputId": "0afe5a24-496d-4f6c-a3ab-b45fdb56c62f"
   },
   "outputs": [
    {
     "name": "stdout",
     "output_type": "stream",
     "text": [
      "4\n",
      "9\n"
     ]
    }
   ],
   "source": [
    "# Access element by index (starts at zero)\n",
    "print(a[1])\n",
    "print(a[3])\n",
    "# Try a[5]"
   ]
  },
  {
   "cell_type": "code",
   "execution_count": 23,
   "metadata": {
    "colab": {
     "base_uri": "https://localhost:8080/",
     "height": 68
    },
    "colab_type": "code",
    "id": "82qo4Pr0NpLa",
    "outputId": "bf02dfab-7446-4df0-a695-ed7f75791c19"
   },
   "outputs": [
    {
     "name": "stdout",
     "output_type": "stream",
     "text": [
      "[2, 4]\n",
      "[4, 7, 9]\n",
      "[4, 7]\n"
     ]
    }
   ],
   "source": [
    "# Prefix, suffix, and section of list\n",
    "print(a[:2])\n",
    "print(a[1:])\n",
    "print(a[1:3])"
   ]
  },
  {
   "cell_type": "code",
   "execution_count": 24,
   "metadata": {
    "colab": {
     "base_uri": "https://localhost:8080/",
     "height": 34
    },
    "colab_type": "code",
    "id": "w1HhwNt6NpLd",
    "outputId": "862c8e25-f343-4ba0-eadf-3cb3aa9d21c7"
   },
   "outputs": [
    {
     "name": "stdout",
     "output_type": "stream",
     "text": [
      "[2, 4, 7, 9, 12, 14]\n"
     ]
    }
   ],
   "source": [
    "# Append to list\n",
    "a.append(12)\n",
    "a.append(14)\n",
    "print(a)"
   ]
  },
  {
   "cell_type": "code",
   "execution_count": 25,
   "metadata": {
    "colab": {
     "base_uri": "https://localhost:8080/",
     "height": 34
    },
    "colab_type": "code",
    "id": "pNJrLdpWNpLf",
    "outputId": "0550f6fb-3dd2-40ae-e2ac-165a094b6a9b"
   },
   "outputs": [
    {
     "name": "stdout",
     "output_type": "stream",
     "text": [
      "[2, 4, 7, 9, 12, 14, 15, 20, 30]\n"
     ]
    }
   ],
   "source": [
    "# Combine two lists\n",
    "a = a + [15, 20, 30]\n",
    "print(a)"
   ]
  },
  {
   "cell_type": "code",
   "execution_count": 26,
   "metadata": {
    "colab": {
     "base_uri": "https://localhost:8080/",
     "height": 68
    },
    "colab_type": "code",
    "id": "Ec4ZHRzvNpLg",
    "outputId": "0f2348e5-77f4-46f9-b8de-415c485a48d8"
   },
   "outputs": [
    {
     "name": "stdout",
     "output_type": "stream",
     "text": [
      "[1, 'two', 3.0, [4, 5, 6]]\n",
      "<class 'list'>\n",
      "<class 'int'> <class 'str'> <class 'float'> <class 'list'>\n"
     ]
    }
   ],
   "source": [
    "# List elements can be of different types\n",
    "a = [1, 'two', 3.0, [4,5,6]]\n",
    "print(a)\n",
    "print(type(a))\n",
    "print(type(a[0]), type(a[1]), type(a[2]), type (a[3]))"
   ]
  },
  {
   "cell_type": "markdown",
   "metadata": {
    "colab_type": "text",
    "id": "QBm7CVBQNpLi"
   },
   "source": [
    "### Dictionaries (key-value mappings)"
   ]
  },
  {
   "cell_type": "code",
   "execution_count": 27,
   "metadata": {
    "colab": {
     "base_uri": "https://localhost:8080/",
     "height": 51
    },
    "colab_type": "code",
    "id": "pyI8WIdaNpLi",
    "outputId": "634c089c-7054-4892-e96a-439ba1f90472"
   },
   "outputs": [
    {
     "name": "stdout",
     "output_type": "stream",
     "text": [
      "{'name': 'Mary', 'age': 20, 'gender': 'F'}\n",
      "<class 'dict'>\n"
     ]
    }
   ],
   "source": [
    "# Dictionary\n",
    "a = {'name': 'Mary', 'age': 20, 'gender': 'F'}\n",
    "print(a)\n",
    "print(type(a))"
   ]
  },
  {
   "cell_type": "code",
   "execution_count": 28,
   "metadata": {
    "colab": {
     "base_uri": "https://localhost:8080/",
     "height": 34
    },
    "colab_type": "code",
    "id": "aaPqwgoaYSD7",
    "outputId": "136976bb-ffe0-4e14-b200-d5100a56878c"
   },
   "outputs": [
    {
     "name": "stdout",
     "output_type": "stream",
     "text": [
      "3\n"
     ]
    }
   ],
   "source": [
    "# Dictionary length\n",
    "print(len(a))"
   ]
  },
  {
   "cell_type": "code",
   "execution_count": 29,
   "metadata": {
    "colab": {
     "base_uri": "https://localhost:8080/",
     "height": 34
    },
    "colab_type": "code",
    "id": "8sRECYWNNpLk",
    "outputId": "1b429ed5-d46d-47f2-8686-5ddc7b78c207"
   },
   "outputs": [
    {
     "name": "stdout",
     "output_type": "stream",
     "text": [
      "20\n"
     ]
    }
   ],
   "source": [
    "# Look up value of element by key - most important feature!\n",
    "print(a['age'])\n",
    "# also try a['gender'], a['salary']"
   ]
  },
  {
   "cell_type": "code",
   "execution_count": 30,
   "metadata": {
    "colab": {
     "base_uri": "https://localhost:8080/",
     "height": 34
    },
    "colab_type": "code",
    "id": "lLVESVwzNpLl",
    "outputId": "c99fdc14-6f6d-4f2a-d845-fdfc2a435969"
   },
   "outputs": [
    {
     "name": "stdout",
     "output_type": "stream",
     "text": [
      "{'name': 'Mary', 'age': 21, 'gender': 'F'}\n"
     ]
    }
   ],
   "source": [
    "# Modify value\n",
    "a['age'] = 21\n",
    "print(a)"
   ]
  },
  {
   "cell_type": "code",
   "execution_count": 31,
   "metadata": {
    "colab": {
     "base_uri": "https://localhost:8080/",
     "height": 85
    },
    "colab_type": "code",
    "id": "Kw6qmn7GW04s",
    "outputId": "1d29de55-b2ad-40d0-8ea6-fe5c0b9d9e9c"
   },
   "outputs": [
    {
     "name": "stdout",
     "output_type": "stream",
     "text": [
      "dict_items([('name', 'Mary'), ('age', 21), ('gender', 'F')])\n",
      "name Mary\n",
      "age 21\n",
      "gender F\n"
     ]
    }
   ],
   "source": [
    "# Iterate through both keys and values, by using the items() function:\n",
    "print(a.items())\n",
    "for key, value in a.items():\n",
    "  print(key,value)"
   ]
  },
  {
   "cell_type": "code",
   "execution_count": 32,
   "metadata": {
    "colab": {
     "base_uri": "https://localhost:8080/",
     "height": 68
    },
    "colab_type": "code",
    "id": "FRnYLLJMNpLn",
    "outputId": "49b8e9d1-b81b-41d8-8a8d-bdd36af01ab9"
   },
   "outputs": [
    {
     "name": "stdout",
     "output_type": "stream",
     "text": [
      "John is old\n",
      "Bill is young\n",
      "Susan is old\n"
     ]
    }
   ],
   "source": [
    "# Iterating through a list of dictionaries\n",
    "dlist = [{'name':'Mary', 'age':20}, {'name':'John', 'age':30},\n",
    "         {'name':'Bill', 'age':10}, {'name':'Susan', 'age':40}]\n",
    "for x in dlist:\n",
    "    if x['age'] >= 30:\n",
    "        print(x['name'], 'is old')\n",
    "    if x['age'] < 20:\n",
    "        print(x['name'], 'is young')\n",
    "# Where is Mary?"
   ]
  },
  {
   "cell_type": "code",
   "execution_count": 33,
   "metadata": {
    "colab": {
     "base_uri": "https://localhost:8080/",
     "height": 34
    },
    "colab_type": "code",
    "id": "uTQTnBPZNpLo",
    "outputId": "1ab100fe-9d23-41be-85c8-6be7db788cb5"
   },
   "outputs": [
    {
     "name": "stdout",
     "output_type": "stream",
     "text": [
      "{'name': 'Mary', 'age': 21, 'gender': 'F', 'salary': 100}\n"
     ]
    }
   ],
   "source": [
    "# Add new key-value pair\n",
    "a['salary'] = 100\n",
    "print(a)"
   ]
  },
  {
   "cell_type": "code",
   "execution_count": 34,
   "metadata": {
    "colab": {
     "base_uri": "https://localhost:8080/",
     "height": 34
    },
    "colab_type": "code",
    "id": "yeyRvljxYpSt",
    "outputId": "b38abba6-5d9d-483c-af4e-d38289503bba"
   },
   "outputs": [
    {
     "name": "stdout",
     "output_type": "stream",
     "text": [
      "{'name': 'Mary', 'age': 21, 'gender': 'F'}\n"
     ]
    }
   ],
   "source": [
    "# Removing Items\n",
    "a.pop('salary')\n",
    "print(a)"
   ]
  },
  {
   "cell_type": "code",
   "execution_count": 35,
   "metadata": {
    "colab": {
     "base_uri": "https://localhost:8080/",
     "height": 34
    },
    "colab_type": "code",
    "id": "XXhSZg8jXrbT",
    "outputId": "19844dbb-e323-4c71-d6ca-3ebce285b3a9"
   },
   "outputs": [
    {
     "name": "stdout",
     "output_type": "stream",
     "text": [
      "YES\n"
     ]
    }
   ],
   "source": [
    "# Check if key exists\n",
    "if 'age' in a:\n",
    "  print('YES')\n",
    "else:\n",
    "  print('NO')\n",
    "# try also 'salary'"
   ]
  },
  {
   "cell_type": "code",
   "execution_count": 36,
   "metadata": {
    "colab": {},
    "colab_type": "code",
    "id": "Vumnf4bzNpLp"
   },
   "outputs": [
    {
     "name": "stdout",
     "output_type": "stream",
     "text": [
      "{'name': 'Professor'}\n"
     ]
    }
   ],
   "source": [
    "# Duplicate keys not allowed - note overwriting behavior\n",
    "a = {'name': 'Jennifer', 'name': 'Professor'}\n",
    "print(a)"
   ]
  },
  {
   "cell_type": "markdown",
   "metadata": {
    "colab_type": "text",
    "id": "BTBYw-xUpMhf"
   },
   "source": [
    "### <font color = 'green'>Your Turn</font>"
   ]
  },
  {
   "cell_type": "code",
   "execution_count": 6,
   "metadata": {
    "colab": {},
    "colab_type": "code",
    "id": "K3SXtfCNpMhf"
   },
   "outputs": [
    {
     "name": "stdout",
     "output_type": "stream",
     "text": [
      "9\n",
      "red\n",
      "green\n"
     ]
    }
   ],
   "source": [
    "# Below is code that creates a list of four items,\n",
    "# represented as dictionaries specifying each item's\n",
    "# color and size.\n",
    "# Add code to ask for a number, then print the color of all\n",
    "# items whose size is greater than that number.\n",
    "items = [{'color':'red', 'size':10}, {'color':'blue', 'size':3},\n",
    "         {'color':'green', 'size':15}, {'color':'yellow', 'size':6}]\n",
    "num = int(input())\n",
    "for i in items:\n",
    "    if i['size'] > num:\n",
    "        print(i['color'])"
   ]
  },
  {
   "cell_type": "markdown",
   "metadata": {
    "colab_type": "text",
    "id": "llHADvBHNpLr"
   },
   "source": [
    "### While-Loops"
   ]
  },
  {
   "cell_type": "code",
   "execution_count": 8,
   "metadata": {
    "colab": {
     "base_uri": "https://localhost:8080/",
     "height": 221
    },
    "colab_type": "code",
    "id": "X4iPrdUeNpLu",
    "outputId": "910737ba-1106-484b-c745-892e49d6fe06"
   },
   "outputs": [
    {
     "name": "stdout",
     "output_type": "stream",
     "text": [
      "Enter a number, 0 to stop: 6\n",
      "6\n",
      "Enter a number, 0 to stop: 0\n",
      "Done\n"
     ]
    }
   ],
   "source": [
    "# Echo user input, 0 indicates stop\n",
    "a = input('Enter a number, 0 to stop: ')\n",
    "while int(a) != 0:\n",
    "    print(a)\n",
    "    a = input('Enter a number, 0 to stop: ')\n",
    "print('Done')\n",
    "# Change to while True and break"
   ]
  },
  {
   "cell_type": "markdown",
   "metadata": {
    "colab_type": "text",
    "id": "aH3Qjeh2NpLv"
   },
   "source": [
    "#### Infinite loops, kernel interrupt, and clear output"
   ]
  },
  {
   "cell_type": "code",
   "execution_count": null,
   "metadata": {
    "colab": {},
    "colab_type": "code",
    "id": "OCDN2ev3NpLw"
   },
   "outputs": [],
   "source": [
    "a = input('Enter a number, 0 to stop: ')\n",
    "while True:\n",
    "    if a !=0: print a\n",
    "print 'Done'"
   ]
  },
  {
   "cell_type": "markdown",
   "metadata": {
    "colab_type": "text",
    "id": "481Lib1ApMhp"
   },
   "source": [
    "### <font color = 'green'>Your Turn</font>"
   ]
  },
  {
   "cell_type": "code",
   "execution_count": 12,
   "metadata": {
    "colab": {},
    "colab_type": "code",
    "id": "JfRQ_93SpMhq"
   },
   "outputs": [
    {
     "name": "stdout",
     "output_type": "stream",
     "text": [
      "2\n",
      "7\n",
      "blue\n",
      "yellow\n",
      "4\n",
      "10\n",
      "yellow\n",
      "2\n",
      "1\n",
      "Done\n"
     ]
    }
   ],
   "source": [
    "# Copy-paste your program from the previous Your Turn and revise\n",
    "# it to a loop that repeatedly asks for two numbers and prints the\n",
    "# color of all items whose size is between the two numbers, i.e.,\n",
    "# whose size is higher than the first number and lower than the\n",
    "# second number.\n",
    "# If the user's second number is equal to or smaller than\n",
    "# the first number, the program should print 'Done' and stop.\n",
    "# Note: for the \"and\" of two conditions C1 and C2, use \"C1 and C2\"\n",
    "items = [{'color':'red', 'size':10}, {'color':'blue', 'size':3},\n",
    "         {'color':'green', 'size':15}, {'color':'yellow', 'size':6}]\n",
    "\n",
    "num1 = int(input())\n",
    "num2 = int(input())\n",
    "\n",
    "while num2 > num1: \n",
    "    for i in items:\n",
    "        if i['size'] > num1 and i['size'] < num2:\n",
    "            print(i['color'])\n",
    "    num1 = int(input())\n",
    "    num2 = int(input())\n",
    "print(\"Done\")"
   ]
  },
  {
   "cell_type": "markdown",
   "metadata": {
    "colab_type": "text",
    "id": "StH8f2OENpLx"
   },
   "source": [
    "### Functions"
   ]
  },
  {
   "cell_type": "code",
   "execution_count": 13,
   "metadata": {
    "colab": {},
    "colab_type": "code",
    "id": "mmeGpk_pNpLy"
   },
   "outputs": [],
   "source": [
    "# Create a function with no arguments or return value\n",
    "def simple():\n",
    "    print('This function has no arguments or return value')"
   ]
  },
  {
   "cell_type": "code",
   "execution_count": 14,
   "metadata": {
    "colab": {
     "base_uri": "https://localhost:8080/",
     "height": 102
    },
    "colab_type": "code",
    "id": "nD1o1qJWNpLz",
    "outputId": "28c517f2-9c4f-461e-a043-b1bbcf432e97"
   },
   "outputs": [
    {
     "name": "stdout",
     "output_type": "stream",
     "text": [
      "This function has no arguments or return value\n",
      "This function has no arguments or return value\n",
      "This function has no arguments or return value\n",
      "This function has no arguments or return value\n",
      "This function has no arguments or return value\n"
     ]
    }
   ],
   "source": [
    "# Call the function five times\n",
    "for i in [1,2,3,4,5]:\n",
    "    simple()"
   ]
  },
  {
   "cell_type": "code",
   "execution_count": 15,
   "metadata": {
    "colab": {},
    "colab_type": "code",
    "id": "I6ll4wB1NpL0"
   },
   "outputs": [],
   "source": [
    "# Create a function with arguments and a return value\n",
    "def addthem(a, b):\n",
    "    return a + b"
   ]
  },
  {
   "cell_type": "code",
   "execution_count": 16,
   "metadata": {
    "colab": {
     "base_uri": "https://localhost:8080/",
     "height": 102
    },
    "colab_type": "code",
    "id": "Ki4mRitSNpL1",
    "outputId": "cd7afdcc-d881-4383-d2ee-20b054bed599"
   },
   "outputs": [
    {
     "name": "stdout",
     "output_type": "stream",
     "text": [
      "1 2 3\n",
      "2 3 5\n",
      "3 4 7\n",
      "4 5 9\n",
      "5 6 11\n"
     ]
    }
   ],
   "source": [
    "# Call the function five times\n",
    "for i in [1,2,3,4,5]:\n",
    "    print (i, i+1, addthem(i,i+1))"
   ]
  },
  {
   "cell_type": "markdown",
   "metadata": {
    "colab_type": "text",
    "id": "DQfdUKVwNpL3"
   },
   "source": [
    "### For the following exercises please use only the material presented above"
   ]
  },
  {
   "cell_type": "markdown",
   "metadata": {
    "colab_type": "text",
    "id": "6WBxPLXMNpL3"
   },
   "source": [
    "#### 1. Write a function that takes a list and returns the average value of the list\n"
   ]
  },
  {
   "cell_type": "code",
   "execution_count": 5,
   "metadata": {
    "colab": {},
    "colab_type": "code",
    "id": "i-IAxaSbNpL4"
   },
   "outputs": [
    {
     "name": "stdout",
     "output_type": "stream",
     "text": [
      "1,2,3,4\n"
     ]
    },
    {
     "data": {
      "text/plain": [
       "2.5"
      ]
     },
     "execution_count": 5,
     "metadata": {},
     "output_type": "execute_result"
    }
   ],
   "source": [
    "n = input()\n",
    "arr = n.split(\",\")\n",
    "\n",
    "def average(a):\n",
    "    sumM = 0\n",
    "    length = len(a)\n",
    "    for i in a:\n",
    "        sumM += int(i)\n",
    "    return sumM/length\n",
    "\n",
    "average(arr)"
   ]
  },
  {
   "cell_type": "markdown",
   "metadata": {
    "colab_type": "text",
    "id": "wBMB4uRGNpL5"
   },
   "source": [
    "#### 2. Write a function that takes a list and finds the index/location of the largest value in the list"
   ]
  },
  {
   "cell_type": "code",
   "execution_count": 6,
   "metadata": {
    "colab": {},
    "colab_type": "code",
    "id": "4_BdEjUWNpL5"
   },
   "outputs": [
    {
     "name": "stdout",
     "output_type": "stream",
     "text": [
      "5,6,7,1,3\n"
     ]
    },
    {
     "data": {
      "text/plain": [
       "2"
      ]
     },
     "execution_count": 6,
     "metadata": {},
     "output_type": "execute_result"
    }
   ],
   "source": [
    "n = input()\n",
    "arr = n.split(\",\")\n",
    "\n",
    "def largIndex(a):\n",
    "    length = len(a)\n",
    "    maxx = 0\n",
    "    for i in range(length):\n",
    "        if int(a[i]) > int(maxx):\n",
    "            maxx = a[i]\n",
    "            ind = i\n",
    "    return ind\n",
    "\n",
    "largIndex(arr)"
   ]
  },
  {
   "cell_type": "markdown",
   "metadata": {
    "colab_type": "text",
    "id": "7CvSjgm0NpL7"
   },
   "source": [
    "#### 3. Implement bubble sort such that the function takes a list and returns the sorted version of the list"
   ]
  },
  {
   "cell_type": "code",
   "execution_count": 26,
   "metadata": {
    "colab": {},
    "colab_type": "code",
    "id": "DT5M5VarNpL8"
   },
   "outputs": [
    {
     "name": "stdout",
     "output_type": "stream",
     "text": [
      "6,1,4,3,2,5\n"
     ]
    },
    {
     "data": {
      "text/plain": [
       "['1', '2', '3', '4', '5', '6']"
      ]
     },
     "execution_count": 26,
     "metadata": {},
     "output_type": "execute_result"
    }
   ],
   "source": [
    "n = input()\n",
    "arr = n.split(\",\")\n",
    "\n",
    "def bsort(a):\n",
    "    length = len(a)\n",
    "    for i in range(length):\n",
    "        for j in range(length-i-1):\n",
    "            if a[j] > a[j+1]:\n",
    "                temp = a[j+1]\n",
    "                a[j+1] = a[j]\n",
    "                a[j] = temp\n",
    "    return a\n",
    "    \n",
    "bsort(arr)    "
   ]
  },
  {
   "cell_type": "markdown",
   "metadata": {
    "colab_type": "text",
    "id": "UuIgnXw1NpL9"
   },
   "source": [
    "#### 4. Implement binary search such that the function takes a list  and a value, and returns either the location of the given value in the list or -1"
   ]
  },
  {
   "cell_type": "code",
   "execution_count": 37,
   "metadata": {
    "colab": {},
    "colab_type": "code",
    "id": "LzDN0e8eNpL9"
   },
   "outputs": [
    {
     "name": "stdout",
     "output_type": "stream",
     "text": [
      "Enter sorted array: \n",
      "1,2,3,4,5,6,7,8\n",
      "Enter number to search from array: \n",
      "7\n"
     ]
    },
    {
     "data": {
      "text/plain": [
       "6"
      ]
     },
     "execution_count": 37,
     "metadata": {},
     "output_type": "execute_result"
    }
   ],
   "source": [
    "print(\"Enter sorted array: \")\n",
    "n = input()\n",
    "arr = n.split(\",\")\n",
    "print(\"Enter number to search from array: \")\n",
    "num = input()\n",
    "startInd = 0\n",
    "length = len(arr)-1\n",
    "\n",
    "def binarySearch(array, search, start, l):    \n",
    "    while l > start:\n",
    "        center = start + (l - start)/2\n",
    "        center = int(center)\n",
    "        if array[center] == search:\n",
    "            return center\n",
    "        elif array[center] < search:\n",
    "            start = center + 1\n",
    "            return binarySearch(array, search, start, l)\n",
    "        else:\n",
    "            l = center - 1\n",
    "            return binarySearch(array, search, start, l)\n",
    "    else:\n",
    "        return -1\n",
    "\n",
    "binarySearch(arr, num, startInd, length)"
   ]
  }
 ],
 "metadata": {
  "colab": {
   "collapsed_sections": [
    "dM-sFsLPNpK6",
    "GLxNyeetNpLD",
    "HaeEheymNpLP",
    "5WIs_EuiNpLT",
    "3AG4UoXcpMgu",
    "bF0ZWzDuNpLV",
    "QBm7CVBQNpLi",
    "BTBYw-xUpMhf",
    "llHADvBHNpLr",
    "aH3Qjeh2NpLv",
    "481Lib1ApMhp",
    "StH8f2OENpLx",
    "6WBxPLXMNpL3",
    "wBMB4uRGNpL5",
    "7CvSjgm0NpL7",
    "UuIgnXw1NpL9"
   ],
   "name": "PythonBasicsReview.ipynb",
   "provenance": []
  },
  "kernelspec": {
   "display_name": "Python 3",
   "language": "python",
   "name": "python3"
  },
  "language_info": {
   "codemirror_mode": {
    "name": "ipython",
    "version": 3
   },
   "file_extension": ".py",
   "mimetype": "text/x-python",
   "name": "python",
   "nbconvert_exporter": "python",
   "pygments_lexer": "ipython3",
   "version": "3.7.3"
  }
 },
 "nbformat": 4,
 "nbformat_minor": 1
}
